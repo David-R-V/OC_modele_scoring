{
 "cells": [
  {
   "cell_type": "markdown",
   "metadata": {},
   "source": [
    "<div class=\"alert alert-block alert-danger\">\n",
    "    <p style=\"text-align: center;\">\n",
    "        <font size=\"5\">\n",
    "            <strong>\n",
    "                Projet n°7 - Implémenter un modèle de scoring\n",
    "            </strong>\n",
    "        </font>\n",
    "    </p>\n",
    "</div>"
   ]
  },
  {
   "cell_type": "markdown",
   "metadata": {},
   "source": [
    "<div class=\"alert alert-block alert-info\">\n",
    "    <p style=\"text-align: center;\">\n",
    "        <font size=\"4\">\n",
    "            <strong>\n",
    "                Notebook exploration <br>             \n",
    "            </strong>\n",
    "        </font>\n",
    "    </p>\n",
    "</div>"
   ]
  },
  {
   "cell_type": "markdown",
   "metadata": {},
   "source": [
    "# 1: Import des packages\n"
   ]
  },
  {
   "cell_type": "code",
   "execution_count": 1,
   "metadata": {},
   "outputs": [],
   "source": [
    "import numpy as np\n",
    "import pandas as pd\n",
    "import gc\n",
    "import re\n",
    "import time\n",
    "import random\n",
    "import mlflow\n",
    "import csv\n",
    "import graphviz\n",
    "import matplotlib.pyplot as plt\n",
    "import seaborn as sns\n",
    "import warnings\n",
    "import shap\n",
    "import joblib\n",
    "import sys\n",
    "import site\n",
    "import lightgbm\n",
    "\n",
    "import sklearn.metrics as metrics\n",
    "from contextlib import contextmanager\n",
    "from lightgbm import LGBMClassifier\n",
    "from sklearn.preprocessing import StandardScaler\n",
    "from sklearn import (\n",
    "    manifold, decomposition)\n",
    "from sklearn.metrics import (\n",
    "    roc_auc_score, confusion_matrix, adjusted_rand_score\n",
    ")\n",
    "from sklearn.model_selection import (\n",
    "    KFold, StratifiedKFold, train_test_split, GridSearchCV\n",
    ")\n",
    "from sklearn.ensemble import RandomForestClassifier, AdaBoostClassifier\n",
    "from sklearn.dummy import DummyClassifier\n",
    "from sklearn.cluster import KMeans\n",
    "from sklearn.tree import DecisionTreeClassifier, export_graphviz\n",
    "\n",
    "\n",
    "from evidently.report import Report\n",
    "\n",
    "from evidently.metric_preset import DataDriftPreset\n",
    "from evidently.metrics import *\n",
    "\n",
    "from evidently.tests import *\n",
    "\n",
    "warnings.simplefilter(action='ignore', category=FutureWarning)"
   ]
  },
  {
   "cell_type": "code",
   "execution_count": null,
   "metadata": {},
   "outputs": [],
   "source": [
    "mlflow.autolog()"
   ]
  },
  {
   "cell_type": "markdown",
   "metadata": {},
   "source": [
    "# Exploration et préparation du fichier de données"
   ]
  },
  {
   "cell_type": "markdown",
   "metadata": {},
   "source": [
    "## Import des données"
   ]
  },
  {
   "cell_type": "code",
   "execution_count": null,
   "metadata": {},
   "outputs": [],
   "source": [
    "# df = pd.read_csv('0_données/application_train.csv')\n",
    "# test_df = pd.read_csv('0_données/application_test.csv')\n",
    "# print(\"Train samples: {}, test samples: {}\".format(len(df), len(test_df)))\n",
    "# df = pd.concat([df,test_df]).reset_index()"
   ]
  },
  {
   "cell_type": "code",
   "execution_count": null,
   "metadata": {},
   "outputs": [],
   "source": [
    "# df.shape, test_df.shape"
   ]
  },
  {
   "cell_type": "code",
   "execution_count": null,
   "metadata": {},
   "outputs": [],
   "source": [
    "# pd.concat([df,test_df])"
   ]
  },
  {
   "cell_type": "markdown",
   "metadata": {},
   "source": [
    "## 1.1 Kernel"
   ]
  },
  {
   "cell_type": "code",
   "execution_count": 2,
   "metadata": {},
   "outputs": [],
   "source": [
    "# %% [code]\n",
    "# HOME CREDIT DEFAULT RISK COMPETITION\n",
    "# Most features are created by applying min, max, mean, sum and var functions to grouped tables. \n",
    "# Little feature selection is done and overfitting might be a problem since many features are related.\n",
    "# The following key ideas were used:\n",
    "# - Divide or subtract important features to get rates (like annuity and income)\n",
    "# - In Bureau Data: create specific features for Active credits and Closed credits\n",
    "# - In Previous Applications: create specific features for Approved and Refused applications\n",
    "# - Modularity: one function for each table (except bureau_balance and application_test)\n",
    "# - One-hot encoding for categorical features\n",
    "# All tables are joined with the application DF using the SK_ID_CURR key (except bureau_balance).\n",
    "# You can use LightGBM with KFold or Stratified KFold.\n",
    "\n",
    "# Update 16/06/2018:\n",
    "# - Added Payment Rate feature\n",
    "# - Removed index from features\n",
    "# - Use standard KFold CV (not stratified)\n",
    "\n",
    "\n",
    "\n",
    "@contextmanager\n",
    "def timer(title):\n",
    "    t0 = time.time()\n",
    "    yield\n",
    "    print(\"{} - done in {:.0f}s\".format(title, time.time() - t0))\n",
    "\n",
    "# One-hot encoding for categorical columns with get_dummies\n",
    "def one_hot_encoder(df, nan_as_category = True):\n",
    "    original_columns = list(df.columns)\n",
    "    categorical_columns = [col for col in df.columns if df[col].dtype == 'object']\n",
    "    df = pd.get_dummies(df, columns= categorical_columns, dummy_na= nan_as_category)\n",
    "    new_columns = [c for c in df.columns if c not in original_columns]\n",
    "    return df, new_columns\n"
   ]
  },
  {
   "cell_type": "code",
   "execution_count": 3,
   "metadata": {},
   "outputs": [],
   "source": [
    "# Preprocess application_train.csv and application_test.csv\n",
    "def application_train_test(num_rows = None, nan_as_category = False):\n",
    "    # Read data and merge\n",
    "    df = pd.read_csv('0_données/application_train.csv', nrows= num_rows)\n",
    "    test_df = pd.read_csv('0_données/application_test.csv', nrows= num_rows)\n",
    "    print(\"Train samples: {}, test samples: {}\".format(len(df), len(test_df)))\n",
    "    df = pd.concat([df,test_df]).reset_index()\n",
    "    # Optional: Remove 4 applications with XNA CODE_GENDER (train set)\n",
    "    df = df[df['CODE_GENDER'] != 'XNA']\n",
    "    \n",
    "    # Categorical features with Binary encode (0 or 1; two categories)\n",
    "    for bin_feature in ['CODE_GENDER', 'FLAG_OWN_CAR', 'FLAG_OWN_REALTY']:\n",
    "        df[bin_feature], uniques = pd.factorize(df[bin_feature])\n",
    "    # Categorical features with One-Hot encode\n",
    "    df, cat_cols = one_hot_encoder(df, nan_as_category)\n",
    "    \n",
    "    # NaN values for DAYS_EMPLOYED: 365.243 -> nan\n",
    "    df['DAYS_EMPLOYED'].replace(365243, np.nan, inplace= True)\n",
    "    # Some simple new features (percentages)\n",
    "    df['DAYS_EMPLOYED_PERC'] = df['DAYS_EMPLOYED'] / df['DAYS_BIRTH']\n",
    "    df['INCOME_CREDIT_PERC'] = df['AMT_INCOME_TOTAL'] / df['AMT_CREDIT']\n",
    "    df['INCOME_PER_PERSON'] = df['AMT_INCOME_TOTAL'] / df['CNT_FAM_MEMBERS']\n",
    "    df['ANNUITY_INCOME_PERC'] = df['AMT_ANNUITY'] / df['AMT_INCOME_TOTAL']\n",
    "    df['PAYMENT_RATE'] = df['AMT_ANNUITY'] / df['AMT_CREDIT']\n",
    "    del test_df\n",
    "    gc.collect()\n",
    "    return df\n",
    "\n",
    "# Preprocess bureau.csv and bureau_balance.csv\n",
    "def bureau_and_balance(num_rows = None, nan_as_category = True):\n",
    "    bureau = pd.read_csv('0_données/bureau.csv', nrows = num_rows)\n",
    "    bb = pd.read_csv('0_données/bureau_balance.csv', nrows = num_rows)\n",
    "    bb, bb_cat = one_hot_encoder(bb, nan_as_category)\n",
    "    bureau, bureau_cat = one_hot_encoder(bureau, nan_as_category)\n",
    "    \n",
    "    # Bureau balance: Perform aggregations and merge with bureau.csv\n",
    "    bb_aggregations = {'MONTHS_BALANCE': ['min', 'max', 'size']}\n",
    "    for col in bb_cat:\n",
    "        bb_aggregations[col] = ['mean']\n",
    "    bb_agg = bb.groupby('SK_ID_BUREAU').agg(bb_aggregations)\n",
    "    bb_agg.columns = pd.Index([e[0] + \"_\" + e[1].upper() for e in bb_agg.columns.tolist()])\n",
    "    bureau = bureau.join(bb_agg, how='left', on='SK_ID_BUREAU')\n",
    "    bureau.drop(['SK_ID_BUREAU'], axis=1, inplace= True)\n",
    "    del bb, bb_agg\n",
    "    gc.collect()\n",
    "    \n",
    "    # Bureau and bureau_balance numeric features\n",
    "    num_aggregations = {\n",
    "        'DAYS_CREDIT': ['min', 'max', 'mean', 'var'],\n",
    "        'DAYS_CREDIT_ENDDATE': ['min', 'max', 'mean'],\n",
    "        'DAYS_CREDIT_UPDATE': ['mean'],\n",
    "        'CREDIT_DAY_OVERDUE': ['max', 'mean'],\n",
    "        'AMT_CREDIT_MAX_OVERDUE': ['mean'],\n",
    "        'AMT_CREDIT_SUM': ['max', 'mean', 'sum'],\n",
    "        'AMT_CREDIT_SUM_DEBT': ['max', 'mean', 'sum'],\n",
    "        'AMT_CREDIT_SUM_OVERDUE': ['mean'],\n",
    "        'AMT_CREDIT_SUM_LIMIT': ['mean', 'sum'],\n",
    "        'AMT_ANNUITY': ['max', 'mean'],\n",
    "        'CNT_CREDIT_PROLONG': ['sum'],\n",
    "        'MONTHS_BALANCE_MIN': ['min'],\n",
    "        'MONTHS_BALANCE_MAX': ['max'],\n",
    "        'MONTHS_BALANCE_SIZE': ['mean', 'sum']\n",
    "    }\n",
    "    # Bureau and bureau_balance categorical features\n",
    "    cat_aggregations = {}\n",
    "    for cat in bureau_cat: cat_aggregations[cat] = ['mean']\n",
    "    for cat in bb_cat: cat_aggregations[cat + \"_MEAN\"] = ['mean']\n",
    "    \n",
    "    bureau_agg = bureau.groupby('SK_ID_CURR').agg({**num_aggregations, **cat_aggregations})\n",
    "    bureau_agg.columns = pd.Index(['BURO_' + e[0] + \"_\" + e[1].upper() for e in bureau_agg.columns.tolist()])\n",
    "    # Bureau: Active credits - using only numerical aggregations\n",
    "    active = bureau[bureau['CREDIT_ACTIVE_Active'] == 1]\n",
    "    active_agg = active.groupby('SK_ID_CURR').agg(num_aggregations)\n",
    "    active_agg.columns = pd.Index(['ACTIVE_' + e[0] + \"_\" + e[1].upper() for e in active_agg.columns.tolist()])\n",
    "    bureau_agg = bureau_agg.join(active_agg, how='left', on='SK_ID_CURR')\n",
    "    del active, active_agg\n",
    "    gc.collect()\n",
    "    # Bureau: Closed credits - using only numerical aggregations\n",
    "    closed = bureau[bureau['CREDIT_ACTIVE_Closed'] == 1]\n",
    "    closed_agg = closed.groupby('SK_ID_CURR').agg(num_aggregations)\n",
    "    closed_agg.columns = pd.Index(['CLOSED_' + e[0] + \"_\" + e[1].upper() for e in closed_agg.columns.tolist()])\n",
    "    bureau_agg = bureau_agg.join(closed_agg, how='left', on='SK_ID_CURR')\n",
    "    del closed, closed_agg, bureau\n",
    "    gc.collect()\n",
    "    return bureau_agg\n",
    "\n",
    "# Preprocess previous_applications.csv\n",
    "def previous_applications(num_rows = None, nan_as_category = True):\n",
    "    prev = pd.read_csv('0_données/previous_application.csv', nrows = num_rows)\n",
    "    prev, cat_cols = one_hot_encoder(prev, nan_as_category= True)\n",
    "    # Days 365.243 values -> nan\n",
    "    prev['DAYS_FIRST_DRAWING'].replace(365243, np.nan, inplace= True)\n",
    "    prev['DAYS_FIRST_DUE'].replace(365243, np.nan, inplace= True)\n",
    "    prev['DAYS_LAST_DUE_1ST_VERSION'].replace(365243, np.nan, inplace= True)\n",
    "    prev['DAYS_LAST_DUE'].replace(365243, np.nan, inplace= True)\n",
    "    prev['DAYS_TERMINATION'].replace(365243, np.nan, inplace= True)\n",
    "    # Add feature: value ask / value received percentage\n",
    "    prev['APP_CREDIT_PERC'] = prev['AMT_APPLICATION'] / prev['AMT_CREDIT']\n",
    "    # Previous applications numeric features\n",
    "    num_aggregations = {\n",
    "        'AMT_ANNUITY': ['min', 'max', 'mean'],\n",
    "        'AMT_APPLICATION': ['min', 'max', 'mean'],\n",
    "        'AMT_CREDIT': ['min', 'max', 'mean'],\n",
    "        'APP_CREDIT_PERC': ['min', 'max', 'mean', 'var'],\n",
    "        'AMT_DOWN_PAYMENT': ['min', 'max', 'mean'],\n",
    "        'AMT_GOODS_PRICE': ['min', 'max', 'mean'],\n",
    "        'HOUR_APPR_PROCESS_START': ['min', 'max', 'mean'],\n",
    "        'RATE_DOWN_PAYMENT': ['min', 'max', 'mean'],\n",
    "        'DAYS_DECISION': ['min', 'max', 'mean'],\n",
    "        'CNT_PAYMENT': ['mean', 'sum'],\n",
    "    }\n",
    "    # Previous applications categorical features\n",
    "    cat_aggregations = {}\n",
    "    for cat in cat_cols:\n",
    "        cat_aggregations[cat] = ['mean']\n",
    "    \n",
    "    prev_agg = prev.groupby('SK_ID_CURR').agg({**num_aggregations, **cat_aggregations})\n",
    "    prev_agg.columns = pd.Index(['PREV_' + e[0] + \"_\" + e[1].upper() for e in prev_agg.columns.tolist()])\n",
    "    # Previous Applications: Approved Applications - only numerical features\n",
    "    approved = prev[prev['NAME_CONTRACT_STATUS_Approved'] == 1]\n",
    "    approved_agg = approved.groupby('SK_ID_CURR').agg(num_aggregations)\n",
    "    approved_agg.columns = pd.Index(['APPROVED_' + e[0] + \"_\" + e[1].upper() for e in approved_agg.columns.tolist()])\n",
    "    prev_agg = prev_agg.join(approved_agg, how='left', on='SK_ID_CURR')\n",
    "    # Previous Applications: Refused Applications - only numerical features\n",
    "    refused = prev[prev['NAME_CONTRACT_STATUS_Refused'] == 1]\n",
    "    refused_agg = refused.groupby('SK_ID_CURR').agg(num_aggregations)\n",
    "    refused_agg.columns = pd.Index(['REFUSED_' + e[0] + \"_\" + e[1].upper() for e in refused_agg.columns.tolist()])\n",
    "    prev_agg = prev_agg.join(refused_agg, how='left', on='SK_ID_CURR')\n",
    "    del refused, refused_agg, approved, approved_agg, prev\n",
    "    gc.collect()\n",
    "    return prev_agg\n",
    "\n",
    "# Preprocess POS_CASH_balance.csv\n",
    "def pos_cash(num_rows = None, nan_as_category = True):\n",
    "    pos = pd.read_csv('0_données/POS_CASH_balance.csv', nrows = num_rows)\n",
    "    pos, cat_cols = one_hot_encoder(pos, nan_as_category= True)\n",
    "    # Features\n",
    "    aggregations = {\n",
    "        'MONTHS_BALANCE': ['max', 'mean', 'size'],\n",
    "        'SK_DPD': ['max', 'mean'],\n",
    "        'SK_DPD_DEF': ['max', 'mean']\n",
    "    }\n",
    "    for cat in cat_cols:\n",
    "        aggregations[cat] = ['mean']\n",
    "    \n",
    "    pos_agg = pos.groupby('SK_ID_CURR').agg(aggregations)\n",
    "    pos_agg.columns = pd.Index(['POS_' + e[0] + \"_\" + e[1].upper() for e in pos_agg.columns.tolist()])\n",
    "    # Count pos cash accounts\n",
    "    pos_agg['POS_COUNT'] = pos.groupby('SK_ID_CURR').size()\n",
    "    del pos\n",
    "    gc.collect()\n",
    "    return pos_agg\n",
    "    \n",
    "# Preprocess installments_payments.csv\n",
    "def installments_payments(num_rows = None, nan_as_category = True):\n",
    "    ins = pd.read_csv('0_données/installments_payments.csv', nrows = num_rows)\n",
    "    ins, cat_cols = one_hot_encoder(ins, nan_as_category= True)\n",
    "    # Percentage and difference paid in each installment (amount paid and installment value)\n",
    "    ins['PAYMENT_PERC'] = ins['AMT_PAYMENT'] / ins['AMT_INSTALMENT']\n",
    "    ins['PAYMENT_DIFF'] = ins['AMT_INSTALMENT'] - ins['AMT_PAYMENT']\n",
    "    # Days past due and days before due (no negative values)\n",
    "    ins['DPD'] = ins['DAYS_ENTRY_PAYMENT'] - ins['DAYS_INSTALMENT']\n",
    "    ins['DBD'] = ins['DAYS_INSTALMENT'] - ins['DAYS_ENTRY_PAYMENT']\n",
    "    ins['DPD'] = ins['DPD'].apply(lambda x: x if x > 0 else 0)\n",
    "    ins['DBD'] = ins['DBD'].apply(lambda x: x if x > 0 else 0)\n",
    "    # Features: Perform aggregations\n",
    "    aggregations = {\n",
    "        'NUM_INSTALMENT_VERSION': ['nunique'],\n",
    "        'DPD': ['max', 'mean', 'sum'],\n",
    "        'DBD': ['max', 'mean', 'sum'],\n",
    "        'PAYMENT_PERC': ['max', 'mean', 'sum', 'var'],\n",
    "        'PAYMENT_DIFF': ['max', 'mean', 'sum', 'var'],\n",
    "        'AMT_INSTALMENT': ['max', 'mean', 'sum'],\n",
    "        'AMT_PAYMENT': ['min', 'max', 'mean', 'sum'],\n",
    "        'DAYS_ENTRY_PAYMENT': ['max', 'mean', 'sum']\n",
    "    }\n",
    "    for cat in cat_cols:\n",
    "        aggregations[cat] = ['mean']\n",
    "    ins_agg = ins.groupby('SK_ID_CURR').agg(aggregations)\n",
    "    ins_agg.columns = pd.Index(['INSTAL_' + e[0] + \"_\" + e[1].upper() for e in ins_agg.columns.tolist()])\n",
    "    # Count installments accounts\n",
    "    ins_agg['INSTAL_COUNT'] = ins.groupby('SK_ID_CURR').size()\n",
    "    del ins\n",
    "    gc.collect()\n",
    "    return ins_agg\n",
    "\n",
    "# Preprocess credit_card_balance.csv\n",
    "def credit_card_balance(num_rows = None, nan_as_category = True):\n",
    "    cc = pd.read_csv('0_données/credit_card_balance.csv', nrows = num_rows)\n",
    "    cc, cat_cols = one_hot_encoder(cc, nan_as_category= True)\n",
    "    # General aggregations\n",
    "    cc.drop(['SK_ID_PREV'], axis= 1, inplace = True)\n",
    "    cc_agg = cc.groupby('SK_ID_CURR').agg(['min', 'max', 'mean', 'sum', 'var'])\n",
    "    cc_agg.columns = pd.Index(['CC_' + e[0] + \"_\" + e[1].upper() for e in cc_agg.columns.tolist()])\n",
    "    # Count credit card lines\n",
    "    cc_agg['CC_COUNT'] = cc.groupby('SK_ID_CURR').size()\n",
    "    del cc\n",
    "    gc.collect()\n",
    "    return cc_agg\n",
    "\n",
    "# LightGBM GBDT with KFold or Stratified KFold\n",
    "# Parameters from Tilii kernel: https://www.kaggle.com/tilii7/olivier-lightgbm-parameters-by-bayesian-opt/code\n",
    "def kfold_lightgbm(df, num_folds, stratified = False, debug= False):\n",
    "    # Divide in training/validation and test data\n",
    "    df = df.rename(columns = lambda x:re.sub('[^A-Za-z0-9_]+', '', x))\n",
    "    df = df.rename(columns = lambda x:x.upper())\n",
    "    for i in df.columns:\n",
    "        if df[i].dtypes=='object':\n",
    "            df[i]=df[i].astype('bool')\n",
    "    train_df = df[df['TARGET'].notnull()]\n",
    "    test_df = df[df['TARGET'].isnull()]\n",
    "    print(\"Starting LightGBM. Train shape: {}, test shape: {}\".format(train_df.shape, test_df.shape))\n",
    "    del df\n",
    "    gc.collect()\n",
    "    # Cross validation model\n",
    "    if stratified:\n",
    "        folds = StratifiedKFold(n_splits= num_folds, shuffle=True, random_state=1001)\n",
    "    else:\n",
    "        folds = KFold(n_splits= num_folds, shuffle=True, random_state=1001)\n",
    "    # Create arrays and dataframes to store results\n",
    "    oof_preds = np.zeros(train_df.shape[0])\n",
    "    sub_preds = np.zeros(test_df.shape[0])\n",
    "    feature_importance_df = pd.DataFrame()\n",
    "    feats = [f for f in train_df.columns if f not in ['TARGET','SK_ID_CURR','SK_ID_BUREAU','SK_ID_PREV','index']]\n",
    "    \n",
    "    for n_fold, (train_idx, valid_idx) in enumerate(folds.split(train_df[feats], train_df['TARGET'])):\n",
    "        train_x, train_y = train_df[feats].iloc[train_idx], train_df['TARGET'].iloc[train_idx]\n",
    "        valid_x, valid_y = train_df[feats].iloc[valid_idx], train_df['TARGET'].iloc[valid_idx]\n",
    "\n",
    "        # LightGBM parameters found by Bayesian optimization\n",
    "        clf = LGBMClassifier(\n",
    "            nthread=4,\n",
    "            n_estimators=10000,\n",
    "            learning_rate=0.02,\n",
    "            num_leaves=34,\n",
    "            colsample_bytree=0.9497036,\n",
    "            subsample=0.8715623,\n",
    "            max_depth=8,\n",
    "            reg_alpha=0.041545473,\n",
    "            reg_lambda=0.0735294,\n",
    "            min_split_gain=0.0222415,\n",
    "            min_child_weight=39.3259775,\n",
    "            silent=-1,\n",
    "            verbose=-1, )\n",
    "\n",
    "        clf.fit(train_x, train_y, eval_set=[(train_x, train_y), (valid_x, valid_y)], \n",
    "            eval_metric= 'auc')\n",
    "\n",
    "        oof_preds[valid_idx] = clf.predict_proba(valid_x, num_iteration=clf.best_iteration_)[:, 1]\n",
    "        sub_preds += clf.predict_proba(test_df[feats], num_iteration=clf.best_iteration_)[:, 1] / folds.n_splits\n",
    "\n",
    "        fold_importance_df = pd.DataFrame()\n",
    "        fold_importance_df[\"feature\"] = feats\n",
    "        fold_importance_df[\"importance\"] = clf.feature_importances_\n",
    "        fold_importance_df[\"fold\"] = n_fold + 1\n",
    "        feature_importance_df = pd.concat([feature_importance_df, fold_importance_df], axis=0)\n",
    "        print('Fold %2d AUC : %.6f' % (n_fold + 1, roc_auc_score(valid_y, oof_preds[valid_idx])))\n",
    "        del clf, train_x, train_y, valid_x, valid_y\n",
    "        gc.collect()\n",
    "\n",
    "    print('Full AUC score %.6f' % roc_auc_score(train_df['TARGET'], oof_preds))\n",
    "    # Write submission file and plot feature importance\n",
    "    if not debug:\n",
    "        test_df['TARGET'] = sub_preds\n",
    "        test_df[['SK_ID_CURR', 'TARGET']].to_csv('1_outputs/output_kfolds', index= False)\n",
    "        feature_importance_df.to_csv('1_outputs/feature_importance',index=False)\n",
    "    display_importances(feature_importance_df)\n",
    "    return feature_importance_df\n",
    "\n",
    "# Display/plot feature importance\n",
    "def display_importances(feature_importance_df_):\n",
    "    cols = feature_importance_df_[[\"feature\", \"importance\"]].groupby(\"feature\").mean().sort_values(by=\"importance\", ascending=False)[:40].index\n",
    "    best_features = feature_importance_df_.loc[feature_importance_df_.feature.isin(cols)]\n",
    "    plt.figure(figsize=(8, 10))\n",
    "    sns.barplot(x=\"importance\", y=\"feature\", data=best_features.sort_values(by=\"importance\", ascending=False))\n",
    "    plt.title('LightGBM Features (avg over folds)')\n",
    "    plt.tight_layout()\n",
    "    plt.savefig('1_outputs/lgbm_importances01.png')\n",
    "\n",
    "\n",
    "def main(debug = False):\n",
    "    num_rows = 10000 if debug else None\n",
    "    df = application_train_test(num_rows)\n",
    "    with timer(\"Process bureau and bureau_balance\"):\n",
    "        bureau = bureau_and_balance(num_rows)\n",
    "        print(\"Bureau df shape:\", bureau.shape)\n",
    "        df = df.join(bureau, how='left', on='SK_ID_CURR')\n",
    "        del bureau\n",
    "        gc.collect()\n",
    "    with timer(\"Process previous_applications\"):\n",
    "        prev = previous_applications(num_rows)\n",
    "        print(\"Previous applications df shape:\", prev.shape)\n",
    "        df = df.join(prev, how='left', on='SK_ID_CURR')\n",
    "        del prev\n",
    "        gc.collect()\n",
    "    with timer(\"Process POS-CASH balance\"):\n",
    "        pos = pos_cash(num_rows)\n",
    "        print(\"Pos-cash balance df shape:\", pos.shape)\n",
    "        df = df.join(pos, how='left', on='SK_ID_CURR')\n",
    "        del pos\n",
    "        gc.collect()\n",
    "    with timer(\"Process installments payments\"):\n",
    "        ins = installments_payments(num_rows)\n",
    "        print(\"Installments payments df shape:\", ins.shape)\n",
    "        df = df.join(ins, how='left', on='SK_ID_CURR')\n",
    "        del ins\n",
    "        gc.collect()\n",
    "    with timer(\"Process credit card balance\"):\n",
    "        cc = credit_card_balance(num_rows)\n",
    "        print(\"Credit card balance df shape:\", cc.shape)\n",
    "        df = df.join(cc, how='left', on='SK_ID_CURR')\n",
    "        del cc\n",
    "        gc.collect()\n",
    "    with timer(\"Run LightGBM with kfold\"):\n",
    "        feat_importance = kfold_lightgbm(df, num_folds= 10, stratified= False, debug= debug)"
   ]
  },
  {
   "cell_type": "markdown",
   "metadata": {},
   "source": [
    "## débug du kernel"
   ]
  },
  {
   "cell_type": "code",
   "execution_count": null,
   "metadata": {},
   "outputs": [],
   "source": [
    "# temp=main_temp(debug=True)"
   ]
  },
  {
   "cell_type": "code",
   "execution_count": null,
   "metadata": {},
   "outputs": [],
   "source": [
    "# temp.loc[:,temp.dtypes.values=='object']"
   ]
  },
  {
   "cell_type": "code",
   "execution_count": null,
   "metadata": {},
   "outputs": [],
   "source": [
    "# for i in temp.columns:\n",
    "#     if temp[i].dtypes=='object':\n",
    "#         temp[i]=temp[i].astype('bool')"
   ]
  },
  {
   "cell_type": "code",
   "execution_count": null,
   "metadata": {},
   "outputs": [],
   "source": [
    "# temp.dtypes.value_counts()"
   ]
  },
  {
   "cell_type": "code",
   "execution_count": null,
   "metadata": {},
   "outputs": [],
   "source": [
    "# temp['CC_NAME_CONTRACT_STATUS_Active_MIN'].dtypes"
   ]
  },
  {
   "cell_type": "code",
   "execution_count": null,
   "metadata": {},
   "outputs": [],
   "source": [
    "# kfold_lightgbm(temp, 2, stratified = False, debug= True)"
   ]
  },
  {
   "cell_type": "code",
   "execution_count": null,
   "metadata": {},
   "outputs": [],
   "source": [
    "# def main(debug = True):\n",
    "#     num_rows = 10000 if debug else None\n",
    "#     df = application_train_test(num_rows)\n",
    "#     with timer(\"Process bureau and bureau_balance\"):\n",
    "#         bureau = bureau_and_balance(num_rows)\n",
    "#         print(\"Bureau df shape:\", bureau.shape)\n",
    "#         df = df.join(bureau, how='left', on='SK_ID_CURR')\n",
    "#         del bureau\n",
    "#         gc.collect()\n",
    "#     with timer(\"Process previous_applications\"):\n",
    "#         prev = previous_applications(num_rows)\n",
    "#         print(\"Previous applications df shape:\", prev.shape)\n",
    "#         df = df.join(prev, how='left', on='SK_ID_CURR')\n",
    "#         del prev\n",
    "#         gc.collect()\n",
    "#     with timer(\"Process POS-CASH balance\"):\n",
    "#         pos = pos_cash(num_rows)\n",
    "#         print(\"Pos-cash balance df shape:\", pos.shape)\n",
    "#         df = df.join(pos, how='left', on='SK_ID_CURR')\n",
    "#         del pos\n",
    "#         gc.collect()\n",
    "#     with timer(\"Process installments payments\"):\n",
    "#         ins = installments_payments(num_rows)\n",
    "#         print(\"Installments payments df shape:\", ins.shape)\n",
    "#         df = df.join(ins, how='left', on='SK_ID_CURR')\n",
    "#         del ins\n",
    "#         gc.collect()\n",
    "#     with timer(\"Process credit card balance\"):\n",
    "#         cc = credit_card_balance(num_rows)\n",
    "#         print(\"Credit card balance df shape:\", cc.shape)\n",
    "#         df = df.join(cc, how='left', on='SK_ID_CURR')\n",
    "#         del cc\n",
    "#         gc.collect()\n",
    "#     with timer(\"Run LightGBM with kfold\"):\n",
    "#         feat_importance = kfold_lightgbm(df, num_folds= 10, stratified= False, debug=True)"
   ]
  },
  {
   "cell_type": "code",
   "execution_count": null,
   "metadata": {},
   "outputs": [],
   "source": [
    "# dict1={'CC_NAME_CONTRACT_STATUS_Active_MIN': object, 'CC_NAME_CONTRACT_STATUS_Active_MAX': object,\n",
    "# ' CC_NAME_CONTRACT_STATUS_Approved_MIN': object, 'CC_NAME_CONTRACT_STATUS_Approved_MAX': object, 'CC_NAME_CONTRACT_STATUS_Completed_MIN': object,\n",
    "#  'CC_NAME_CONTRACT_STATUS_Completed_MAX': object, 'CC_NAME_CONTRACT_STATUS_Demand_MIN': object, 'CC_NAME_CONTRACT_STATUS_Demand_MAX': object,\n",
    "#   'CC_NAME_CONTRACT_STATUS_Refused_MIN': object, 'CC_NAME_CONTRACT_STATUS_Refused_MAX': object, 'CC_NAME_CONTRACT_STATUS_Sent proposal_MIN': object,\n",
    "#    'CC_NAME_CONTRACT_STATUS_Sent proposal_MAX': object, 'CC_NAME_CONTRACT_STATUS_Signed_MIN': object, 'CC_NAME_CONTRACT_STATUS_Signed_MAX': object,\n",
    "#     'CC_NAME_CONTRACT_STATUS_nan_MIN': object, 'CC_NAME_CONTRACT_STATUS_nan_MAX': object}"
   ]
  },
  {
   "cell_type": "code",
   "execution_count": null,
   "metadata": {},
   "outputs": [],
   "source": [
    "# dict1.values(),dict1.keys()"
   ]
  },
  {
   "cell_type": "code",
   "execution_count": null,
   "metadata": {},
   "outputs": [],
   "source": [
    "# application_train_test(5000)"
   ]
  },
  {
   "cell_type": "code",
   "execution_count": null,
   "metadata": {},
   "outputs": [],
   "source": [
    "\n",
    "# def has_special_characters(s):\n",
    "#     # Define a regular expression pattern to match JSON special characters\n",
    "#     special_char_pattern = re.compile(r'[\"\\\\/\\\\b\\\\f\\\\n\\\\r\\\\t]')\n",
    "    \n",
    "#     # Search for special characters in the string\n",
    "#     return bool(special_char_pattern.search(s)),special_char_pattern.search(s)\n",
    "\n",
    "# # Check each string for special characters\n",
    "# for s in temp.columns:\n",
    "#     if has_special_characters(s)[0]:\n",
    "#         print(f\"'{s}' contains JSON special characters.\",has_special_characters(s))\n",
    "    "
   ]
  },
  {
   "cell_type": "code",
   "execution_count": null,
   "metadata": {},
   "outputs": [],
   "source": [
    "# feats.index('NAME_CONTRACT_TYPE_Cash_loans')"
   ]
  },
  {
   "cell_type": "code",
   "execution_count": null,
   "metadata": {},
   "outputs": [],
   "source": [
    "# feats[107][27]"
   ]
  },
  {
   "cell_type": "code",
   "execution_count": null,
   "metadata": {},
   "outputs": [],
   "source": [
    "# temp = temp.rename(columns = lambda x:re.sub('[^A-Za-z0-9_]+', '', x))"
   ]
  },
  {
   "cell_type": "code",
   "execution_count": null,
   "metadata": {},
   "outputs": [],
   "source": [
    "# # Check each string for special characters\n",
    "# for s in temp.columns:\n",
    "#     if has_special_characters(s)[0]:\n",
    "#         print(f\"'{s}' contains JSON special characters.\",has_special_characters(s))"
   ]
  },
  {
   "cell_type": "code",
   "execution_count": null,
   "metadata": {},
   "outputs": [],
   "source": [
    "# temp = temp.rename(columns = lambda x:x.upper())"
   ]
  },
  {
   "cell_type": "code",
   "execution_count": null,
   "metadata": {},
   "outputs": [],
   "source": [
    "# temp.head()"
   ]
  },
  {
   "cell_type": "code",
   "execution_count": null,
   "metadata": {},
   "outputs": [],
   "source": [
    "# # Check each string for special characters\n",
    "# for s in temp.columns:\n",
    "#     if has_special_characters(s)[0]:\n",
    "#         print(f\"'{s}' contains JSON special characters.\",has_special_characters(s))"
   ]
  },
  {
   "cell_type": "markdown",
   "metadata": {},
   "source": [
    "Solution stackoverflow:  \n",
    "rename les colonnes avec df = df.rename(columns = lambda x:re.sub('[^A-Za-z0-9_]+', '', x))\n"
   ]
  },
  {
   "cell_type": "code",
   "execution_count": null,
   "metadata": {},
   "outputs": [],
   "source": [
    "# Liste des erreurs/ modifs par rapport au kernal de base:\n",
    "# modif des chemins d'import\n",
    "# Append => concat dans application test_train\n",
    "# enlever verbose dans le clf.fit\n",
    "# enlever early_stopping_rounds\n",
    "# ajouter le force des types\n",
    "# ajouter import re\n",
    "# ajouter fonctions de rename des colonnes pour retirer les caractères json et forcer en upper pour que lightgbm fonctionne correctement"
   ]
  },
  {
   "cell_type": "markdown",
   "metadata": {},
   "source": [
    "## Reprise des traitements"
   ]
  },
  {
   "cell_type": "code",
   "execution_count": null,
   "metadata": {},
   "outputs": [],
   "source": [
    "# # 15 min30 pour fold =2\n",
    "# kfold_lightgbm(application_train_test(), 2, stratified = False)"
   ]
  },
  {
   "cell_type": "code",
   "execution_count": null,
   "metadata": {},
   "outputs": [],
   "source": [
    "#50 min avec 2 folds, 4h+ avec 10 folds\n",
    "#main()"
   ]
  },
  {
   "attachments": {
    "image.png": {
     "image/png": "[encoded data removed]"
    }
   },
   "cell_type": "markdown",
   "metadata": {},
   "source": [
    "Sauvegarde du print de sortie avec 2 folds <br>\n",
    "Train samples: 307511, test samples: 48744  <br>\n",
    "Bureau df shape: (305811, 116)  <br>\n",
    "Process bureau and bureau_balance - done in 28s <br>\n",
    "Previous applications df shape: (338857, 249) <br>\n",
    "Process previous_applications - done in 40s <br>\n",
    "Pos-cash balance df shape: (337252, 18) <br>\n",
    "Process POS-CASH balance - done in 18s <br>\n",
    "Installments payments df shape: (339587, 26) <br>\n",
    "Process installments payments - done in 35s <br>\n",
    "Credit card balance df shape: (103558, 141) <br>\n",
    "Process credit card balance - done in 23s <br>\n",
    "Starting LightGBM. Train shape: (307507, 798), test shape: (48744, 798) <br>\n",
    "Fold  1 AUC : 0.766699 <br>\n",
    "Fold  2 AUC : 0.767250 <br>\n",
    "Full AUC score 0.766974 <br>\n",
    "Run LightGBM with kfold - done in 2798s <br>\n",
    "![image.png](attachment:image.png)"
   ]
  },
  {
   "cell_type": "markdown",
   "metadata": {},
   "source": [
    "## Création des fichiers des df après pré-process"
   ]
  },
  {
   "cell_type": "code",
   "execution_count": null,
   "metadata": {},
   "outputs": [],
   "source": [
    "# feat_important=['EXT_SOURCE_2','PAYMENT_RATE','EXT_SOURCE_3','DAYS_BIRTH','DAYS_EMPLOYED','EXT_SOURCE_1','DAYS_EMPLOYED_PERC','DAYS_REGISTRATION','INDEX','DAYS_ID_PUBLISH',\n",
    "# 'INSTAL_DBD_MEAN','AMT_ANNUITY','ANNUITY_INCOME_PERC','ACTIVE_DAYS_CREDIT_UPDATE_MEAN','INSTAL_DAYS_ENTRY_PAYMENT_MAX','DAYS_LAST_PHONE_CHANGE','REGION_POPULATION_RELATIVE','ACTIVE_DAYS_CREDIT_ENDDATE_MIN',\n",
    "# 'CLOSED_DAYS_CREDIT_MAX','APPROVED_DAYS_DECISION_MAX','INCOME_PER_PERSON','PREV_APP_CREDIT_PERC_VAR','CLOSED_DAYS_CREDIT_ENDDATE_MAX','AMT_GOODS_PRICE','CLOSED_DAYS_CREDIT_VAR','CLOSED_AMT_CREDIT_SUM_MEAN',\n",
    "# 'APPROVED_APP_CREDIT_PERC_VAR','AMT_CREDIT','POS_NAME_CONTRACT_STATUS_ACTIVE_MEAN','PREV_DAYS_DECISION_MAX','BURO_DAYS_CREDIT_UPDATE_MEAN','BURO_AMT_CREDIT_SUM_MEAN','ACTIVE_DAYS_CREDIT_ENDDATE_MEAN','ACTIVE_DAYS_CREDIT_VAR']"
   ]
  },
  {
   "cell_type": "code",
   "execution_count": null,
   "metadata": {},
   "outputs": [],
   "source": [
    "# df_test_train\n",
    "# df_bureau_balance\n",
    "# df_prev_app\n",
    "# df_pos_cash\n",
    "# df_payments\n",
    "# df_card_balance\n"
   ]
  },
  {
   "cell_type": "code",
   "execution_count": null,
   "metadata": {},
   "outputs": [],
   "source": [
    "def visu_df(dataframe):\n",
    "    return display('Shape',dataframe.shape,'Describe',dataframe.describe(),'Head',dataframe.head())"
   ]
  },
  {
   "cell_type": "code",
   "execution_count": null,
   "metadata": {},
   "outputs": [],
   "source": [
    "df_test_train=application_train_test(num_rows = None, nan_as_category = False).copy()"
   ]
  },
  {
   "cell_type": "code",
   "execution_count": null,
   "metadata": {},
   "outputs": [],
   "source": [
    "temp=df_test_train.set_index('SK_ID_CURR')\n",
    "temp.index.rename('ID',inplace=True)\n",
    "temp.insert(1,'SK_ID_CURR',temp.index)\n",
    "temp.head()\n",
    "df_test_train=temp.copy()"
   ]
  },
  {
   "cell_type": "code",
   "execution_count": null,
   "metadata": {},
   "outputs": [],
   "source": [
    "visu_df(df_test_train)"
   ]
  },
  {
   "cell_type": "code",
   "execution_count": null,
   "metadata": {},
   "outputs": [],
   "source": [
    "df_bureau_balance=bureau_and_balance(num_rows = None, nan_as_category = True).copy()"
   ]
  },
  {
   "cell_type": "code",
   "execution_count": null,
   "metadata": {},
   "outputs": [],
   "source": [
    "visu_df(df_bureau_balance)"
   ]
  },
  {
   "cell_type": "code",
   "execution_count": null,
   "metadata": {},
   "outputs": [],
   "source": [
    "df_prev_app=previous_applications(num_rows = None, nan_as_category = True).copy()"
   ]
  },
  {
   "cell_type": "code",
   "execution_count": null,
   "metadata": {},
   "outputs": [],
   "source": [
    "visu_df(df_prev_app)"
   ]
  },
  {
   "cell_type": "code",
   "execution_count": null,
   "metadata": {},
   "outputs": [],
   "source": [
    "df_pos_cash=pos_cash(num_rows = None, nan_as_category = True).copy()"
   ]
  },
  {
   "cell_type": "code",
   "execution_count": null,
   "metadata": {},
   "outputs": [],
   "source": [
    "visu_df(df_pos_cash)"
   ]
  },
  {
   "cell_type": "code",
   "execution_count": null,
   "metadata": {},
   "outputs": [],
   "source": [
    "df_payments=installments_payments(num_rows = None, nan_as_category = True).copy()"
   ]
  },
  {
   "cell_type": "code",
   "execution_count": null,
   "metadata": {},
   "outputs": [],
   "source": [
    "visu_df(df_payments)"
   ]
  },
  {
   "cell_type": "code",
   "execution_count": null,
   "metadata": {},
   "outputs": [],
   "source": [
    "df_card_balance=credit_card_balance(num_rows = None, nan_as_category = True).copy()"
   ]
  },
  {
   "cell_type": "code",
   "execution_count": null,
   "metadata": {},
   "outputs": [],
   "source": [
    "visu_df(df_card_balance)"
   ]
  },
  {
   "cell_type": "markdown",
   "metadata": {},
   "source": [
    "## Controle\n"
   ]
  },
  {
   "cell_type": "code",
   "execution_count": null,
   "metadata": {},
   "outputs": [],
   "source": [
    "list_df=[df_test_train,df_prev_app,df_bureau_balance,df_payments,df_pos_cash,df_card_balance]"
   ]
  },
  {
   "cell_type": "code",
   "execution_count": null,
   "metadata": {},
   "outputs": [],
   "source": [
    "def Controle(x):\n",
    "    # DataFrame de contrôles sur les colonnes\n",
    "    tempo = pd.DataFrame(columns=['nomcol', 'type', 'unique',\n",
    "                    'unique%','doubl%' ,'manqu', 'manqu%', 'rempli', 'rempli%','skew'])\n",
    "\n",
    "    tot = x.shape[0]\n",
    "\n",
    "    tempo['nomcol'] = pd.Series(x.columns) # nom des colonnes\n",
    "\n",
    "    for i in x.columns:\n",
    "        j=list(x.columns).index(i)\n",
    "        \n",
    "        tempo.at[j, 'unique'] = len(x[i].unique())    # nbr de valeurs uniques prise par chaque colonne\n",
    "        tempo.at[j, 'type'] = x.dtypes[i]             # type de données\n",
    "        tempo.at[j, 'manqu'] = x.isnull().sum()[i]    # nombre de valeurs manquantes\n",
    "\n",
    "        if x.isnull().sum()[i] != tot:               # valeurs uniques en % des données alimentées\n",
    "            tempo.at[j, 'unique%'] = round(len(x[i].unique())/(tot-x.isnull().sum()[i])*100, 3)    \n",
    "        else:\n",
    "            tempo.at[j, 'unique%'] = 100   \n",
    "        \n",
    " \n",
    "        if tempo.at[j, 'unique'] ==1:                    # % de doublons\n",
    "            tempo.at[j, 'doubl%'] = 100\n",
    "    \n",
    "        else:\n",
    "            tempo.at[j, 'doubl%'] = 100-tempo.at[j, 'unique%']                        \n",
    "    \n",
    "        tempo.at[j, 'manqu%'] = round(x.isnull().sum()[i]/tot*100, 3)       # données manquantes en % du total\n",
    "        tempo.at[j, 'rempli'] = tot-x.isnull().sum()[i]                     # données remplies (inverse des manquantes)\n",
    "        tempo.at[j, 'rempli%'] = 100-round(x.isnull().sum()[i]/tot*100, 3)  # données remplies en %\n",
    "    \n",
    "    temp=x.describe().T.applymap('{:,.2f}'.format).copy()                  # describe des données numériques (min, max...)\n",
    "    temp.drop(['count','std'],axis=1,inplace=True)                         # nombre et ecart-type pas ntéressants donc droppés\n",
    "    tempo=tempo.merge(temp,how='left',left_on='nomcol',right_index=True)        # ajout des données numériques aux données de remplissage\n",
    "    \n",
    "    for i in tempo.loc[(tempo['type']!='category') & (tempo['type']!='object')]['nomcol']:                            #skew des données numériques\n",
    "        tempo.at[tempo.loc[tempo['nomcol']==i].index.values[0],'skew']=x[i].skew()\n",
    "    \n",
    "    return tempo\n",
    "# la fonction renvoie le dataframe de contrôle sur la base x fournie en variable"
   ]
  },
  {
   "cell_type": "code",
   "execution_count": null,
   "metadata": {},
   "outputs": [],
   "source": [
    "# # 3 min pour le df de contrôle des données test_train\n",
    "# ctrl_df_test_train=Controle(df_test_train).copy()"
   ]
  },
  {
   "cell_type": "code",
   "execution_count": null,
   "metadata": {},
   "outputs": [],
   "source": [
    "# ctrl_df_test_train"
   ]
  },
  {
   "cell_type": "code",
   "execution_count": null,
   "metadata": {},
   "outputs": [],
   "source": [
    "# ctrl_df_test_train.loc[abs(ctrl_df_test_train['skew'])>8]"
   ]
  },
  {
   "cell_type": "code",
   "execution_count": null,
   "metadata": {},
   "outputs": [],
   "source": [
    "# df_test_train.iloc[:,247]"
   ]
  },
  {
   "cell_type": "code",
   "execution_count": null,
   "metadata": {},
   "outputs": [],
   "source": [
    "# Controle(df_test_train.iloc[:,0:100])"
   ]
  },
  {
   "cell_type": "code",
   "execution_count": null,
   "metadata": {},
   "outputs": [],
   "source": [
    "# Controle(df_test_train.iloc[:,100:200])"
   ]
  },
  {
   "cell_type": "code",
   "execution_count": null,
   "metadata": {},
   "outputs": [],
   "source": [
    "# Controle(df_test_train.iloc[:,200:248])"
   ]
  },
  {
   "cell_type": "code",
   "execution_count": null,
   "metadata": {},
   "outputs": [],
   "source": [
    "# ctrl_df_payments=Controle(df_payments).copy()\n",
    "# ctrl_df_payments"
   ]
  },
  {
   "cell_type": "code",
   "execution_count": null,
   "metadata": {},
   "outputs": [],
   "source": [
    "# ctrl_df_pos_cash=Controle(df_pos_cash).copy()\n",
    "# ctrl_df_pos_cash"
   ]
  },
  {
   "cell_type": "code",
   "execution_count": null,
   "metadata": {},
   "outputs": [],
   "source": [
    "# # 20 sec\n",
    "# ctrl_df_card_balance=Controle(df_card_balance)\n",
    "# ctrl_df_card_balance"
   ]
  },
  {
   "cell_type": "code",
   "execution_count": null,
   "metadata": {},
   "outputs": [],
   "source": [
    "# #4 min 20\n",
    "# ctrl_df_prev_app=Controle(df_prev_app)\n",
    "# ctrl_df_prev_app"
   ]
  },
  {
   "cell_type": "code",
   "execution_count": null,
   "metadata": {},
   "outputs": [],
   "source": [
    "# # 50 sec\n",
    "# ctrl_df_bureau_balance=Controle(df_bureau_balance)\n",
    "# ctrl_df_bureau_balance"
   ]
  },
  {
   "cell_type": "code",
   "execution_count": null,
   "metadata": {},
   "outputs": [],
   "source": [
    "# ctrl_df_total_1=pd.concat([ctrl_df_test_train,ctrl_df_bureau_balance,ctrl_df_pos_cash,ctrl_df_card_balance,ctrl_df_prev_app,ctrl_df_payments])"
   ]
  },
  {
   "cell_type": "code",
   "execution_count": null,
   "metadata": {},
   "outputs": [],
   "source": [
    "# ctrl_df_total_1"
   ]
  },
  {
   "cell_type": "markdown",
   "metadata": {},
   "source": [
    "## Fichier des données test_train"
   ]
  },
  {
   "cell_type": "code",
   "execution_count": null,
   "metadata": {},
   "outputs": [],
   "source": [
    "df_test_train.head()"
   ]
  },
  {
   "cell_type": "code",
   "execution_count": null,
   "metadata": {},
   "outputs": [],
   "source": [
    "df_bureau_balance.head()"
   ]
  },
  {
   "cell_type": "code",
   "execution_count": null,
   "metadata": {},
   "outputs": [],
   "source": [
    "df = pd.read_csv('0_données/application_train.csv')\n",
    "df"
   ]
  },
  {
   "cell_type": "code",
   "execution_count": null,
   "metadata": {},
   "outputs": [],
   "source": [
    "df_test = pd.read_csv('0_données/application_test.csv')\n",
    "df_test"
   ]
  },
  {
   "cell_type": "markdown",
   "metadata": {},
   "source": [
    "### Définition id_train et id_test"
   ]
  },
  {
   "cell_type": "code",
   "execution_count": null,
   "metadata": {},
   "outputs": [],
   "source": [
    "id_train=df['SK_ID_CURR'].copy()\n",
    "id_test=df_test['SK_ID_CURR'].copy()\n"
   ]
  },
  {
   "cell_type": "code",
   "execution_count": null,
   "metadata": {},
   "outputs": [],
   "source": [
    "# df_pos_cash.loc[df_pos_cash.index.isin(id_train)].head()"
   ]
  },
  {
   "cell_type": "code",
   "execution_count": null,
   "metadata": {},
   "outputs": [],
   "source": [
    "# df_pos_cash.loc[df_pos_cash.index.isin(id_test)].head()"
   ]
  },
  {
   "cell_type": "markdown",
   "metadata": {},
   "source": [
    "### Définition infos train et test des fichiers"
   ]
  },
  {
   "cell_type": "code",
   "execution_count": null,
   "metadata": {},
   "outputs": [],
   "source": [
    "for i in list_df:\n",
    "    print(i.loc[i.index.isin(id_test)].shape[0],i.loc[i.index.isin(id_train)].shape[0],(i.loc[i.index.isin(id_test)].shape[0])/(i.shape[0]))"
   ]
  },
  {
   "cell_type": "code",
   "execution_count": null,
   "metadata": {},
   "outputs": [],
   "source": [
    "list_df_namestrings=['df_test_train','df_prev_app','df_bureau_balance','df_payments','df_pos_cash','df_card_balance']\n"
   ]
  },
  {
   "cell_type": "code",
   "execution_count": null,
   "metadata": {},
   "outputs": [],
   "source": [
    "dict_df=dict(zip(list_df_namestrings,list_df))\n"
   ]
  },
  {
   "cell_type": "code",
   "execution_count": null,
   "metadata": {},
   "outputs": [],
   "source": [
    "df_infos_test_trains_fichiers=pd.DataFrame(data=list_df_namestrings,index=list_df_namestrings,columns=['namestrings'])\n",
    "df_infos_test_trains_fichiers"
   ]
  },
  {
   "cell_type": "code",
   "execution_count": null,
   "metadata": {},
   "outputs": [],
   "source": [
    "df_infos_test_trains_fichiers['Tot']=df_infos_test_trains_fichiers['namestrings'].apply(lambda x: dict_df.get(x).shape[0])\n",
    "df_infos_test_trains_fichiers['dont train']=df_infos_test_trains_fichiers['namestrings'].apply(lambda x: dict_df.get(x).loc[(dict_df.get(x)).index.isin(id_train)].shape[0])\n",
    "df_infos_test_trains_fichiers['dont test']=df_infos_test_trains_fichiers['namestrings'].apply(lambda x: dict_df.get(x).loc[(dict_df.get(x)).index.isin(id_test)].shape[0])    "
   ]
  },
  {
   "cell_type": "code",
   "execution_count": null,
   "metadata": {},
   "outputs": [],
   "source": [
    "df_infos_test_trains_fichiers"
   ]
  },
  {
   "cell_type": "code",
   "execution_count": null,
   "metadata": {},
   "outputs": [],
   "source": [
    "df_infos_test_trains_fichiers['train%']=(df_infos_test_trains_fichiers['dont train']/df_infos_test_trains_fichiers['Tot']).round(2)\n",
    "df_infos_test_trains_fichiers['test%']=(df_infos_test_trains_fichiers['dont test']/df_infos_test_trains_fichiers['Tot']).round(2)"
   ]
  },
  {
   "cell_type": "code",
   "execution_count": null,
   "metadata": {},
   "outputs": [],
   "source": [
    "df_infos_test_trains_fichiers"
   ]
  },
  {
   "cell_type": "code",
   "execution_count": null,
   "metadata": {},
   "outputs": [],
   "source": [
    "df_test_train.index"
   ]
  },
  {
   "cell_type": "markdown",
   "metadata": {},
   "source": [
    "### Test classif importance fichier par fichier"
   ]
  },
  {
   "cell_type": "code",
   "execution_count": null,
   "metadata": {},
   "outputs": [],
   "source": [
    "#df_bureau_balance=df_bureau_balance.merge(df_test_train['TARGET'],left_index=True,right_index=True,how='left')"
   ]
  },
  {
   "cell_type": "code",
   "execution_count": null,
   "metadata": {},
   "outputs": [],
   "source": [
    "# kfold_lightgbm(df_bureau_balance, 2, stratified = False)"
   ]
  },
  {
   "cell_type": "code",
   "execution_count": null,
   "metadata": {},
   "outputs": [],
   "source": [
    "#application_train_test()"
   ]
  },
  {
   "cell_type": "code",
   "execution_count": null,
   "metadata": {},
   "outputs": [],
   "source": [
    "# df_prev_app=df_prev_app.merge(df_test_train['TARGET'],left_index=True,right_index=True,how='left')\n",
    "# df_pos_cash=df_pos_cash.merge(df_test_train['TARGET'],left_index=True,right_index=True,how='left')\n",
    "# df_payments=df_payments.merge(df_test_train['TARGET'],left_index=True,right_index=True,how='left')\n",
    "# df_card_balance=df_card_balance.merge(df_test_train['TARGET'],left_index=True,right_index=True,how='left')"
   ]
  },
  {
   "cell_type": "code",
   "execution_count": null,
   "metadata": {},
   "outputs": [],
   "source": [
    "# df_prev_app=df_prev_app.drop(['TARGET_x','TARGET_y'],axis=1)"
   ]
  },
  {
   "cell_type": "code",
   "execution_count": null,
   "metadata": {},
   "outputs": [],
   "source": [
    "# df_pos_cash=df_pos_cash.drop(['TARGET_x','TARGET_y'],axis=1)\n",
    "# df_payments=df_payments.drop(['TARGET_x','TARGET_y'],axis=1)\n",
    "# df_card_balance=df_card_balance.drop(['TARGET_x','TARGET_y'],axis=1)"
   ]
  },
  {
   "cell_type": "code",
   "execution_count": null,
   "metadata": {},
   "outputs": [],
   "source": [
    "#df_prev_app.head()"
   ]
  },
  {
   "cell_type": "code",
   "execution_count": null,
   "metadata": {},
   "outputs": [],
   "source": [
    "# kfold_lightgbm(df_prev_app, 2, stratified = False)"
   ]
  },
  {
   "cell_type": "code",
   "execution_count": null,
   "metadata": {},
   "outputs": [],
   "source": [
    "# kfold_lightgbm(df_pos_cash, 2, stratified = False)"
   ]
  },
  {
   "cell_type": "code",
   "execution_count": null,
   "metadata": {},
   "outputs": [],
   "source": [
    "# kfold_lightgbm(df_payments, 2, stratified = False)"
   ]
  },
  {
   "cell_type": "code",
   "execution_count": null,
   "metadata": {},
   "outputs": [],
   "source": [
    "# kfold_lightgbm(df_card_balance, 2, stratified = False)"
   ]
  },
  {
   "cell_type": "markdown",
   "metadata": {},
   "source": [
    "## FICHIER GLOBAL"
   ]
  },
  {
   "cell_type": "code",
   "execution_count": null,
   "metadata": {},
   "outputs": [],
   "source": [
    "# df_total=df_test_train.merge(df_bureau_balance.drop('TARGET',axis=1),left_index=True,right_index=True,how='left').merge(df_prev_app.drop('TARGET',axis=1),left_index=True,right_index=True,how='left').merge(\n",
    "#                                 df_pos_cash.drop('TARGET',axis=1),left_index=True,right_index=True,how='left').merge(df_payments.drop('TARGET',axis=1),left_index=True,right_index=True,how='left').merge(    \n",
    "#                                 df_card_balance.drop('TARGET',axis=1),left_index=True,right_index=True,how='left').copy()\n",
    "# df_bureau_balance\n",
    "# df_prev_app\n",
    "# df_pos_cash\n",
    "# df_payments\n",
    "# df_card_balance"
   ]
  },
  {
   "cell_type": "code",
   "execution_count": null,
   "metadata": {},
   "outputs": [],
   "source": [
    "df_total=df_test_train.merge(df_bureau_balance,left_index=True,right_index=True,how='left').merge(df_prev_app,left_index=True,right_index=True,how='left').merge(\n",
    "                                df_pos_cash,left_index=True,right_index=True,how='left').merge(df_payments,left_index=True,right_index=True,how='left').merge(    \n",
    "                                df_card_balance,left_index=True,right_index=True,how='left').copy()"
   ]
  },
  {
   "cell_type": "code",
   "execution_count": null,
   "metadata": {},
   "outputs": [],
   "source": [
    "df_total = df_total.rename(columns = lambda x:re.sub('[^A-Za-z0-9_]+', '', x))\n",
    "df_total = df_total.rename(columns = lambda x:x.upper())\n",
    "for i in df_total.columns:\n",
    "    if df_total[i].dtypes=='object':\n",
    "        df_total[i]=df_total[i].astype('bool')"
   ]
  },
  {
   "cell_type": "code",
   "execution_count": null,
   "metadata": {},
   "outputs": [],
   "source": [
    "visu_df(df_total)"
   ]
  },
  {
   "cell_type": "markdown",
   "metadata": {},
   "source": [
    "## Old"
   ]
  },
  {
   "cell_type": "code",
   "execution_count": null,
   "metadata": {},
   "outputs": [],
   "source": [
    "# data_ACP=df_total_sans_na.copy()"
   ]
  },
  {
   "cell_type": "code",
   "execution_count": null,
   "metadata": {},
   "outputs": [],
   "source": [
    "# n_components = 100\n",
    "# pca = PCA(n_components=n_components)\n",
    "# names = data_ACP.index\n",
    "# features = data_ACP.columns\n",
    "# pca.fit(data_ACP)\n",
    "# scree = (pca.explained_variance_ratio_*100).round(2)\n",
    "# scree_cum = scree.cumsum().round()\n",
    "# x_list = range(1, n_components+1)\n",
    "# print('Variance_ratio:', pca.explained_variance_ratio_, '\\n',\n",
    "#       'Inerties:', scree, '\\n',\n",
    "#       'Inerties_cumulées', scree_cum)\n",
    "# plt.bar(x_list, scree)\n",
    "# plt.plot(x_list, scree_cum, c=\"red\", marker='o')\n",
    "# plt.xlabel(\"rang de l'axe d'inertie\")\n",
    "# plt.ylabel(\"pourcentage d'inertie\")\n",
    "# plt.title(\"Eboulis des valeurs propres\")\n",
    "# plt.grid()\n",
    "# plt.ylim(0, 100)\n",
    "# plt.xlim(0, 9)\n",
    "# plt.show()"
   ]
  },
  {
   "cell_type": "code",
   "execution_count": null,
   "metadata": {},
   "outputs": [],
   "source": [
    "# pcs = pca.components_\n",
    "# pcs = pd.DataFrame(pcs)\n",
    "# pcs.columns = features\n",
    "# pcs.index = [f\"F{i}\" for i in x_list]\n",
    "# pcs.round(4)"
   ]
  },
  {
   "cell_type": "code",
   "execution_count": null,
   "metadata": {},
   "outputs": [],
   "source": [
    "# def correlation_graph(pca,\n",
    "#                       x_y,\n",
    "#                       features):\n",
    "#     \"\"\"Affiche le graphe des correlations\n",
    "\n",
    "#     Positional arguments : \n",
    "#     -----------------------------------\n",
    "#     pca : sklearn.decomposition.PCA : notre objet PCA qui a été fit\n",
    "#     x_y : list ou tuple : le couple x,y des plans à afficher, exemple [0,1] pour F1, F2\n",
    "#     features : list ou tuple : la liste des features (ie des dimensions) à représenter\n",
    "#     \"\"\"\n",
    "\n",
    "#     # Extrait x et y\n",
    "#     x, y = x_y\n",
    "\n",
    "#     # Taille de l'image (en inches)\n",
    "#     fig, ax = plt.subplots(figsize=(10, 9))\n",
    "\n",
    "#     # Pour chaque composante :\n",
    "#     for i in range(0, pca.components_.shape[1]):\n",
    "\n",
    "#         # Les flèches\n",
    "#         ax.arrow(0, 0,\n",
    "#                  pca.components_[x, i],\n",
    "#                  pca.components_[y, i],\n",
    "#                  head_width=0.07,\n",
    "#                  head_length=0.07,\n",
    "#                  width=0.02, )\n",
    "\n",
    "#         # Les labels\n",
    "#         plt.text(pca.components_[x, i] + 0.05,\n",
    "#                  pca.components_[y, i] + 0.05,\n",
    "#                  features[i])\n",
    "\n",
    "#     # Affichage des lignes horizontales et verticales\n",
    "#     plt.plot([-1, 1], [0, 0], color='grey', ls='--')\n",
    "#     plt.plot([0, 0], [-1, 1], color='grey', ls='--')\n",
    "#     plt.grid()\n",
    "\n",
    "#     # Nom des axes, avec le pourcentage d'inertie expliqué\n",
    "#     plt.xlabel('F{} ({}%)'.format(\n",
    "#         x+1, round(100*pca.explained_variance_ratio_[x], 1)))\n",
    "#     plt.ylabel('F{} ({}%)'.format(\n",
    "#         y+1, round(100*pca.explained_variance_ratio_[y], 1)))\n",
    "\n",
    "#     # Titre\n",
    "#     plt.title(\"Cercle des corrélations (F{} et F{})\".format(x+1, y+1))\n",
    "\n",
    "#     # Le cercle\n",
    "#     an = np.linspace(0, 2 * np.pi, 100)\n",
    "#     plt.plot(np.cos(an), np.sin(an))  # Add a unit circle for scale\n",
    "\n",
    "#     # Axes et display\n",
    "#     plt.axis('equal')\n",
    "#     plt.show(block=False)"
   ]
  },
  {
   "cell_type": "code",
   "execution_count": null,
   "metadata": {},
   "outputs": [],
   "source": [
    "# correlation_graph(pca, (0, 1), features)"
   ]
  },
  {
   "cell_type": "code",
   "execution_count": null,
   "metadata": {},
   "outputs": [],
   "source": [
    "# correlation_graph(pca, (0, 2), features)"
   ]
  },
  {
   "cell_type": "code",
   "execution_count": null,
   "metadata": {},
   "outputs": [],
   "source": [
    "# correlation_graph(pca, (1, 2), features)"
   ]
  },
  {
   "cell_type": "code",
   "execution_count": null,
   "metadata": {},
   "outputs": [],
   "source": [
    "# correlation_graph(pca, (0, 3), features)"
   ]
  },
  {
   "cell_type": "markdown",
   "metadata": {},
   "source": [
    "# Utilisation des données lightgbm\n"
   ]
  },
  {
   "cell_type": "code",
   "execution_count": null,
   "metadata": {},
   "outputs": [],
   "source": [
    "feature_importance=pd.read_csv('1_outputs/feature_importance.csv')"
   ]
  },
  {
   "cell_type": "code",
   "execution_count": null,
   "metadata": {},
   "outputs": [],
   "source": [
    "temp=pd.crosstab(index=feature_importance['feature'],columns=['Importance_moyenne'],values=feature_importance['importance'],aggfunc='mean')"
   ]
  },
  {
   "cell_type": "code",
   "execution_count": null,
   "metadata": {},
   "outputs": [],
   "source": [
    "sns.lineplot(x=range(temp.shape[0]),y=temp.sort_values(by='Importance_moyenne',ascending=False)['Importance_moyenne'])"
   ]
  },
  {
   "cell_type": "code",
   "execution_count": null,
   "metadata": {},
   "outputs": [],
   "source": [
    "temp.sort_values(by='Importance_moyenne', ascending=False)[:50]"
   ]
  },
  {
   "cell_type": "code",
   "execution_count": null,
   "metadata": {},
   "outputs": [],
   "source": [
    "feat_important=temp.sort_values(by='Importance_moyenne',ascending=False).index.values"
   ]
  },
  {
   "cell_type": "code",
   "execution_count": null,
   "metadata": {},
   "outputs": [],
   "source": [
    "feat_important"
   ]
  },
  {
   "cell_type": "code",
   "execution_count": null,
   "metadata": {},
   "outputs": [],
   "source": [
    "pd.Series(feat_important,dtype='str').to_csv('1_outputs/feat_important_sorted_decroissant.csv',index=False,header=False)\n"
   ]
  },
  {
   "cell_type": "markdown",
   "metadata": {},
   "source": [
    "## def d'un lightgbm sur 100 à 200 var les plus importantes:"
   ]
  },
  {
   "cell_type": "code",
   "execution_count": null,
   "metadata": {},
   "outputs": [],
   "source": [
    "var_lgbm_10=np.append(feat_important[:10],'TARGET')\n",
    "var_lgbm_30=np.append(feat_important[:30],'TARGET')\n",
    "var_lgbm_50=np.append(feat_important[:50],'TARGET')\n",
    "var_lgbm_100=np.append(feat_important[:100],'TARGET')\n",
    "var_lgbm_200=np.append(feat_important[:200],'TARGET')\n",
    "var_lgbm_10"
   ]
  },
  {
   "cell_type": "code",
   "execution_count": null,
   "metadata": {},
   "outputs": [],
   "source": [
    "# redéfinition d'un jeu de test/training à l'intérieur du jeu de train initial pour évaluer les résultats\n",
    "\n",
    "random.seed(8)  # seed fixée pour reproductibilité des résultats\n",
    "# jeu d'apprentissage\n",
    "train_df = df_total[df_total['TARGET'].notnull()]\n",
    "test_df = df_total[df_total['TARGET'].isnull()]\n",
    "\n",
    "Liste_train = list(random.sample(list(train_df.index), round(train_df.shape[0]*0.8)))\n",
    "Liste_test = train_df.loc[train_df.index.isin(Liste_train)==False,:].index.values\n"
   ]
  },
  {
   "cell_type": "code",
   "execution_count": null,
   "metadata": {},
   "outputs": [],
   "source": [
    "df_total[var_lgbm_10].head()"
   ]
  },
  {
   "cell_type": "code",
   "execution_count": null,
   "metadata": {},
   "outputs": [],
   "source": [
    "# def main_eval_var(debug = False):\n",
    "#     num_rows = 10000 if debug else None\n",
    "#     df = application_train_test(num_rows)\n",
    "#     with timer(\"Process bureau and bureau_balance\"):\n",
    "#         bureau = bureau_and_balance(num_rows)\n",
    "#         print(\"Bureau df shape:\", bureau.shape)\n",
    "#         df = df.join(bureau, how='left', on='SK_ID_CURR')\n",
    "#         del bureau\n",
    "#         gc.collect()\n",
    "#     with timer(\"Process previous_applications\"):\n",
    "#         prev = previous_applications(num_rows)\n",
    "#         print(\"Previous applications df shape:\", prev.shape)\n",
    "#         df = df.join(prev, how='left', on='SK_ID_CURR')\n",
    "#         del prev\n",
    "#         gc.collect()\n",
    "#     with timer(\"Process POS-CASH balance\"):\n",
    "#         pos = pos_cash(num_rows)\n",
    "#         print(\"Pos-cash balance df shape:\", pos.shape)\n",
    "#         df = df.join(pos, how='left', on='SK_ID_CURR')\n",
    "#         del pos\n",
    "#         gc.collect()\n",
    "#     with timer(\"Process installments payments\"):\n",
    "#         ins = installments_payments(num_rows)\n",
    "#         print(\"Installments payments df shape:\", ins.shape)\n",
    "#         df = df.join(ins, how='left', on='SK_ID_CURR')\n",
    "#         del ins\n",
    "#         gc.collect()\n",
    "#     with timer(\"Process credit card balance\"):\n",
    "#         cc = credit_card_balance(num_rows)\n",
    "#         print(\"Credit card balance df shape:\", cc.shape)\n",
    "#         df = df.join(cc, how='left', on='SK_ID_CURR')\n",
    "#         del cc\n",
    "#         gc.collect()\n",
    "    \n",
    "# ## Modif \"eval_var\", on restreint le df\n",
    "#     df=df[var_lgbm].copy()\n",
    "\n",
    "\n",
    "#     with timer(\"Run LightGBM with kfold\"):\n",
    "#         feat_importance = kfold_lightgbm(df, num_folds= 2, stratified= False, debug= debug)"
   ]
  },
  {
   "cell_type": "code",
   "execution_count": null,
   "metadata": {},
   "outputs": [],
   "source": [
    "# def kfold_lightgbm_var_import(df, num_folds, stratified = False, debug= False):\n",
    "#     # Divide in training/validation and test data\n",
    "#     df = df.rename(columns = lambda x:re.sub('[^A-Za-z0-9_]+', '', x))\n",
    "#     df = df.rename(columns = lambda x:x.upper())\n",
    "    \n",
    "#     for i in df.columns:\n",
    "#         if df[i].dtypes=='object':\n",
    "#             df[i]=df[i].astype('bool')\n",
    "#     train_df = df[df['TARGET'].notnull()].loc[Liste_train]\n",
    "#     test_df = df[df['TARGET'].notnull()].loc[Liste_test]\n",
    "#     print(\"Starting LightGBM. Train shape: {}, test shape: {}\".format(train_df.shape, test_df.shape))\n",
    "    \n",
    "#     # # Cross validation model\n",
    "#     # if stratified:\n",
    "#     #     folds = StratifiedKFold(n_splits= num_folds, shuffle=True, random_state=1001)\n",
    "#     # else:\n",
    "#     #     folds = KFold(n_splits= num_folds, shuffle=True, random_state=1001)\n",
    "#     # Create arrays and dataframes to store results\n",
    "#     global clf, oof_preds, sub_preds, feature_importance_df\n",
    "#     oof_preds = np.zeros(train_df.shape[0])\n",
    "#     sub_preds = np.zeros(test_df.shape[0])\n",
    "#     feature_importance_df = pd.DataFrame()\n",
    "#     feats = [f for f in train_df.columns if f not in ['TARGET','SK_ID_CURR','SK_ID_BUREAU','SK_ID_PREV','index']]\n",
    "    \n",
    "#     for n_fold, (train_idx, valid_idx) in enumerate(folds.split(train_df[feats], train_df['TARGET'])):\n",
    "#         train_x, train_y = train_df[feats].iloc[train_idx], train_df['TARGET'].iloc[train_idx]\n",
    "#         valid_x, valid_y = train_df[feats].iloc[valid_idx], train_df['TARGET'].iloc[valid_idx]\n",
    "\n",
    "#         # LightGBM parameters found by Bayesian optimization\n",
    "        \n",
    "#         clf = LGBMClassifier(\n",
    "#             nthread=4,\n",
    "#             n_estimators=10000,\n",
    "#             learning_rate=0.02,\n",
    "#             num_leaves=34,\n",
    "#             colsample_bytree=0.9497036,\n",
    "#             subsample=0.8715623,\n",
    "#             max_depth=8,\n",
    "#             reg_alpha=0.041545473,\n",
    "#             reg_lambda=0.0735294,\n",
    "#             min_split_gain=0.0222415,\n",
    "#             min_child_weight=39.3259775,\n",
    "#             silent=-1,\n",
    "#             verbose=-1, )\n",
    "\n",
    "#         clf.fit(train_x, train_y, eval_set=[(train_x, train_y), (valid_x, valid_y)], \n",
    "#             eval_metric= 'auc')\n",
    "\n",
    "#         oof_preds[valid_idx] = clf.predict_proba(valid_x, num_iteration=clf.best_iteration_)[:, 1]\n",
    "#         sub_preds += clf.predict_proba(test_df[feats], num_iteration=clf.best_iteration_)[:, 1] / folds.n_splits\n",
    "\n",
    "#         fold_importance_df = pd.DataFrame()\n",
    "#         fold_importance_df[\"feature\"] = feats\n",
    "#         fold_importance_df[\"importance\"] = clf.feature_importances_\n",
    "#         fold_importance_df[\"fold\"] = n_fold + 1\n",
    "\n",
    "#         feature_importance_df = pd.concat([feature_importance_df, fold_importance_df], axis=0)\n",
    "#         print('Fold %2d AUC : %.6f' % (n_fold + 1, roc_auc_score(valid_y, oof_preds[valid_idx])))\n",
    "#         del clf, train_x, train_y, valid_x, valid_y\n",
    "#         gc.collect()\n",
    "\n",
    "#     print('Full AUC score %.6f' % roc_auc_score(train_df['TARGET'], oof_preds))\n",
    "#     # Write submission file and plot feature importance\n",
    "    \n",
    "#     display_importances(feature_importance_df)\n",
    "#     return feature_importance_df"
   ]
  },
  {
   "cell_type": "markdown",
   "metadata": {},
   "source": [
    "## Calculs avec changements du nbr de var retenues"
   ]
  },
  {
   "cell_type": "markdown",
   "metadata": {},
   "source": [
    " lgbm + _10 ,  _30,  _50 , _100 , _200 = nombre de variables classées selon l'importance retenues + comparaison aux stats \"réelles\" en conservant la totalité "
   ]
  },
  {
   "cell_type": "code",
   "execution_count": null,
   "metadata": {},
   "outputs": [],
   "source": [
    "# ## NBR VAR à changer manuellement ##\n",
    "# df=df_total[var_lgbm_10]\n",
    "# ## NBR VAR à changer manuellement ##\n",
    "\n",
    "# train_df = df[df['TARGET'].notnull()].loc[Liste_train]\n",
    "# test_df = df[df['TARGET'].notnull()].loc[Liste_test]\n",
    "\n",
    "# feature_importance_df = pd.DataFrame()\n",
    "# feats = [f for f in train_df.columns if f not in ['TARGET','SK_ID_CURR','SK_ID_BUREAU','SK_ID_PREV','index']]\n",
    "# train_x, train_y = train_df[feats], train_df['TARGET']\n",
    "# valid_x, valid_y = test_df[feats], test_df['TARGET']\n",
    "\n",
    "# ## NBR VAR à changer manuellement ##\n",
    "# train_x_10=train_x.copy()\n",
    "# train_y_10=train_y.copy()\n",
    "# valid_x_10=valid_x.copy()\n",
    "# valid_y_10=valid_y.copy()\n",
    "# ## NBR VAR à changer manuellement ##\n",
    "\n",
    "\n",
    "# clf = LGBMClassifier(\n",
    "#             nthread=4,\n",
    "#             n_estimators=10000,\n",
    "#             learning_rate=0.02,\n",
    "#             num_leaves=34,\n",
    "#             colsample_bytree=0.9497036,\n",
    "#             subsample=0.8715623,\n",
    "#             max_depth=8,\n",
    "#             reg_alpha=0.041545473,\n",
    "#             reg_lambda=0.0735294,\n",
    "#             min_split_gain=0.0222415,\n",
    "#             min_child_weight=39.3259775,\n",
    "#             silent=-1,\n",
    "#             verbose=-1, )\n",
    "\n",
    "\n",
    "# clf_fit=clf.fit(train_x, train_y, eval_set=[(train_x, train_y), (valid_x, valid_y)], \n",
    "#             eval_metric= 'auc')\n",
    "\n",
    "# # oof_preds[1] = clf.predict_proba(valid_x)[:, 1]\n",
    "# # sub_preds += clf.predict_proba(test_df[feats])[:, 1]\n",
    "\n",
    "# fold_importance_df = pd.DataFrame()\n",
    "# fold_importance_df[\"feature\"] = feats\n",
    "# fold_importance_df[\"importance\"] = clf.feature_importances_\n",
    "# fold_importance_df[\"fold\"] = 1\n",
    "\n",
    "# feature_importance_df = pd.concat([feature_importance_df, fold_importance_df], axis=0)\n",
    "\n",
    "# ## NBR VAR à changer manuellement ##\n",
    "# predict_train_10=pd.Series(clf_fit.predict(train_x),index=train_df.index, name ='predict_train')\n",
    "# predict_valid_10=pd.Series(clf_fit.predict(valid_x),index=test_df.index, name ='predict_valid' )\n",
    "# ## NBR VAR à changer manuellement ##\n",
    "\n",
    "\n",
    "# # score ARI training\n",
    "# print('score ARI training =',round(adjusted_rand_score(train_y,predict_train),3))\n",
    "# # score ARI testing\n",
    "# print('score ARI testing =',round(adjusted_rand_score(valid_y,predict_valid),3))\n",
    "# # accuracy training\n",
    "# print('accuracy training =',round(sklearn.metrics.accuracy_score(train_y, predict_train),3))\n",
    "# # accuracy testing\n",
    "# print('accuracy testing =',round(sklearn.metrics.accuracy_score(valid_y, predict_valid),3))\n",
    "# # precision training\n",
    "# print('precision training =',round(sklearn.metrics.average_precision_score(train_y, predict_train),3))\n",
    "# # precision testing\n",
    "# print('precision testing =',round(sklearn.metrics.average_precision_score(valid_y, predict_valid),3))\n"
   ]
  },
  {
   "cell_type": "code",
   "execution_count": null,
   "metadata": {},
   "outputs": [],
   "source": [
    "# (pd.crosstab(valid_y,predict_valid,normalize='index')*100).round(3)"
   ]
  },
  {
   "cell_type": "code",
   "execution_count": null,
   "metadata": {},
   "outputs": [],
   "source": [
    "# (pd.crosstab(train_y,predict_train,normalize='index')*100).round(3)"
   ]
  },
  {
   "cell_type": "code",
   "execution_count": null,
   "metadata": {},
   "outputs": [],
   "source": [
    "# ## NBR VAR à changer manuellement ##\n",
    "# df=df_total[var_lgbm_30]\n",
    "# ## NBR VAR à changer manuellement ##\n",
    "\n",
    "# train_df = df[df['TARGET'].notnull()].loc[Liste_train]\n",
    "# test_df = df[df['TARGET'].notnull()].loc[Liste_test]\n",
    "\n",
    "# feature_importance_df = pd.DataFrame()\n",
    "# feats = [f for f in train_df.columns if f not in ['TARGET','SK_ID_CURR','SK_ID_BUREAU','SK_ID_PREV','index']]\n",
    "# train_x, train_y = train_df[feats], train_df['TARGET']\n",
    "# valid_x, valid_y = test_df[feats], test_df['TARGET']\n",
    "\n",
    "# ## NBR VAR à changer manuellement ##\n",
    "# train_x_30=train_x.copy()\n",
    "# train_y_30=train_y.copy()\n",
    "# valid_x_30=valid_x.copy()\n",
    "# valid_y_30=valid_y.copy()\n",
    "# ## NBR VAR à changer manuellement ##\n",
    "\n",
    "\n",
    "# clf = LGBMClassifier(\n",
    "#             nthread=4,\n",
    "#             n_estimators=10000,\n",
    "#             learning_rate=0.02,\n",
    "#             num_leaves=34,\n",
    "#             colsample_bytree=0.9497036,\n",
    "#             subsample=0.8715623,\n",
    "#             max_depth=8,\n",
    "#             reg_alpha=0.041545473,\n",
    "#             reg_lambda=0.0735294,\n",
    "#             min_split_gain=0.0222415,\n",
    "#             min_child_weight=39.3259775,\n",
    "#             silent=-1,\n",
    "#             verbose=-1, )\n",
    "\n",
    "\n",
    "# clf_fit=clf.fit(train_x, train_y, eval_set=[(train_x, train_y), (valid_x, valid_y)], \n",
    "#             eval_metric= 'auc')\n",
    "\n",
    "# # oof_preds[1] = clf.predict_proba(valid_x)[:, 1]\n",
    "# # sub_preds += clf.predict_proba(test_df[feats])[:, 1]\n",
    "\n",
    "# fold_importance_df = pd.DataFrame()\n",
    "# fold_importance_df[\"feature\"] = feats\n",
    "# fold_importance_df[\"importance\"] = clf.feature_importances_\n",
    "# fold_importance_df[\"fold\"] = 1\n",
    "\n",
    "# feature_importance_df = pd.concat([feature_importance_df, fold_importance_df], axis=0)\n",
    "\n",
    "# ## NBR VAR à changer manuellement ##\n",
    "# predict_train_30=pd.Series(clf_fit.predict(train_x),index=train_df.index, name ='predict_train')\n",
    "# predict_valid_30=pd.Series(clf_fit.predict(valid_x),index=test_df.index, name ='predict_valid' )\n",
    "# ## NBR VAR à changer manuellement ##\n",
    "\n",
    "\n",
    "# # score ARI training\n",
    "# print('score ARI training =',round(adjusted_rand_score(train_y,predict_train),3))\n",
    "# # score ARI testing\n",
    "# print('score ARI testing =',round(adjusted_rand_score(valid_y,predict_valid),3))\n",
    "# # accuracy training\n",
    "# print('accuracy training =',round(sklearn.metrics.accuracy_score(train_y, predict_train),3))\n",
    "# # accuracy testing\n",
    "# print('accuracy testing =',round(sklearn.metrics.accuracy_score(valid_y, predict_valid),3))\n",
    "# # precision training\n",
    "# print('precision training =',round(sklearn.metrics.average_precision_score(train_y, predict_train),3))\n",
    "# # precision testing\n",
    "# print('precision testing =',round(sklearn.metrics.average_precision_score(valid_y, predict_valid),3))\n"
   ]
  },
  {
   "cell_type": "code",
   "execution_count": null,
   "metadata": {},
   "outputs": [],
   "source": [
    "# ## NBR VAR à changer manuellement ##\n",
    "# df=df_total[var_lgbm_50]\n",
    "# ## NBR VAR à changer manuellement ##\n",
    "\n",
    "# train_df = df[df['TARGET'].notnull()].loc[Liste_train]\n",
    "# test_df = df[df['TARGET'].notnull()].loc[Liste_test]\n",
    "\n",
    "# feature_importance_df = pd.DataFrame()\n",
    "# feats = [f for f in train_df.columns if f not in ['TARGET','SK_ID_CURR','SK_ID_BUREAU','SK_ID_PREV','index']]\n",
    "# train_x, train_y = train_df[feats], train_df['TARGET']\n",
    "# valid_x, valid_y = test_df[feats], test_df['TARGET']\n",
    "\n",
    "# ## NBR VAR à changer manuellement ##\n",
    "# train_x_50=train_x.copy()\n",
    "# train_y_50=train_y.copy()\n",
    "# valid_x_50=valid_x.copy()\n",
    "# valid_y_50=valid_y.copy()\n",
    "# ## NBR VAR à changer manuellement ##\n",
    "\n",
    "\n",
    "# clf = LGBMClassifier(\n",
    "#             nthread=4,\n",
    "#             n_estimators=10000,\n",
    "#             learning_rate=0.02,\n",
    "#             num_leaves=34,\n",
    "#             colsample_bytree=0.9497036,\n",
    "#             subsample=0.8715623,\n",
    "#             max_depth=8,\n",
    "#             reg_alpha=0.041545473,\n",
    "#             reg_lambda=0.0735294,\n",
    "#             min_split_gain=0.0222415,\n",
    "#             min_child_weight=39.3259775,\n",
    "#             silent=-1,\n",
    "#             verbose=-1, )\n",
    "\n",
    "\n",
    "# clf_fit=clf.fit(train_x, train_y, eval_set=[(train_x, train_y), (valid_x, valid_y)], \n",
    "#             eval_metric= 'auc')\n",
    "\n",
    "# # oof_preds[1] = clf.predict_proba(valid_x)[:, 1]\n",
    "# # sub_preds += clf.predict_proba(test_df[feats])[:, 1]\n",
    "\n",
    "# fold_importance_df = pd.DataFrame()\n",
    "# fold_importance_df[\"feature\"] = feats\n",
    "# fold_importance_df[\"importance\"] = clf.feature_importances_\n",
    "# fold_importance_df[\"fold\"] = 1\n",
    "\n",
    "# feature_importance_df = pd.concat([feature_importance_df, fold_importance_df], axis=0)\n",
    "\n",
    "# ## NBR VAR à changer manuellement ##\n",
    "# predict_train_50=pd.Series(clf_fit.predict(train_x),index=train_df.index, name ='predict_train')\n",
    "# predict_valid_50=pd.Series(clf_fit.predict(valid_x),index=test_df.index, name ='predict_valid' )\n",
    "# ## NBR VAR à changer manuellement ##\n",
    "\n",
    "\n",
    "# # score ARI training\n",
    "# print('score ARI training =',round(adjusted_rand_score(train_y,predict_train),3))\n",
    "# # score ARI testing\n",
    "# print('score ARI testing =',round(adjusted_rand_score(valid_y,predict_valid),3))\n",
    "# # accuracy training\n",
    "# print('accuracy training =',round(sklearn.metrics.accuracy_score(train_y, predict_train),3))\n",
    "# # accuracy testing\n",
    "# print('accuracy testing =',round(sklearn.metrics.accuracy_score(valid_y, predict_valid),3))\n",
    "# # precision training\n",
    "# print('precision training =',round(sklearn.metrics.average_precision_score(train_y, predict_train),3))\n",
    "# # precision testing\n",
    "# print('precision testing =',round(sklearn.metrics.average_precision_score(valid_y, predict_valid),3))"
   ]
  },
  {
   "cell_type": "code",
   "execution_count": null,
   "metadata": {},
   "outputs": [],
   "source": [
    "# ## NBR VAR à changer manuellement ##\n",
    "# df=df_total[var_lgbm_100]\n",
    "# ## NBR VAR à changer manuellement ##\n",
    "\n",
    "# train_df = df[df['TARGET'].notnull()].loc[Liste_train]\n",
    "# test_df = df[df['TARGET'].notnull()].loc[Liste_test]\n",
    "\n",
    "# feature_importance_df = pd.DataFrame()\n",
    "# feats = [f for f in train_df.columns if f not in ['TARGET','SK_ID_CURR','SK_ID_BUREAU','SK_ID_PREV','index']]\n",
    "# train_x, train_y = train_df[feats], train_df['TARGET']\n",
    "# valid_x, valid_y = test_df[feats], test_df['TARGET']\n",
    "\n",
    "# ## NBR VAR à changer manuellement ##\n",
    "# train_x_100=train_x.copy()\n",
    "# train_y_100=train_y.copy()\n",
    "# valid_x_100=valid_x.copy()\n",
    "# valid_y_100=valid_y.copy()\n",
    "# ## NBR VAR à changer manuellement ##\n",
    "\n",
    "\n",
    "# clf = LGBMClassifier(\n",
    "#             nthread=4,\n",
    "#             n_estimators=10000,\n",
    "#             learning_rate=0.02,\n",
    "#             num_leaves=34,\n",
    "#             colsample_bytree=0.9497036,\n",
    "#             subsample=0.8715623,\n",
    "#             max_depth=8,\n",
    "#             reg_alpha=0.041545473,\n",
    "#             reg_lambda=0.0735294,\n",
    "#             min_split_gain=0.0222415,\n",
    "#             min_child_weight=39.3259775,\n",
    "#             silent=-1,\n",
    "#             verbose=-1, )\n",
    "\n",
    "\n",
    "# clf_fit=clf.fit(train_x, train_y, eval_set=[(train_x, train_y), (valid_x, valid_y)], \n",
    "#             eval_metric= 'auc')\n",
    "\n",
    "# # oof_preds[1] = clf.predict_proba(valid_x)[:, 1]\n",
    "# # sub_preds += clf.predict_proba(test_df[feats])[:, 1]\n",
    "\n",
    "# fold_importance_df = pd.DataFrame()\n",
    "# fold_importance_df[\"feature\"] = feats\n",
    "# fold_importance_df[\"importance\"] = clf.feature_importances_\n",
    "# fold_importance_df[\"fold\"] = 1\n",
    "\n",
    "# feature_importance_df = pd.concat([feature_importance_df, fold_importance_df], axis=0)\n",
    "\n",
    "# predict_train=pd.Series(clf_fit.predict(train_x),index=train_df.index, name ='predict_train')\n",
    "# predict_valid=pd.Series(clf_fit.predict(valid_x),index=test_df.index, name ='predict_valid' )\n",
    "\n",
    "# ## NBR VAR à changer manuellement ##\n",
    "# predict_train_100=predict_train.copy()\n",
    "# predict_valid_100=predict_valid.copy()\n",
    "# ## NBR VAR à changer manuellement ##\n",
    "\n",
    "# # score ARI training\n",
    "# print('score ARI training =',round(adjusted_rand_score(train_y_100,predict_train),3))\n",
    "# # score ARI testing\n",
    "# print('score ARI testing =',round(adjusted_rand_score(valid_y,predict_valid),3))\n",
    "# # accuracy training\n",
    "# print('accuracy training =',round(sklearn.metrics.accuracy_score(train_y, predict_train),3))\n",
    "# # accuracy testing\n",
    "# print('accuracy testing =',round(sklearn.metrics.accuracy_score(valid_y, predict_valid),3))\n",
    "# # precision training\n",
    "# print('precision training =',round(sklearn.metrics.average_precision_score(train_y, predict_train),3))\n",
    "# # precision testing\n",
    "# print('precision testing =',round(sklearn.metrics.average_precision_score(valid_y, predict_valid),3))"
   ]
  },
  {
   "cell_type": "code",
   "execution_count": null,
   "metadata": {},
   "outputs": [],
   "source": [
    "# ## NBR VAR à changer manuellement ##\n",
    "# df=df_total[var_lgbm_200]\n",
    "# ## NBR VAR à changer manuellement ##\n",
    "\n",
    "# train_df = df[df['TARGET'].notnull()].loc[Liste_train]\n",
    "# test_df = df[df['TARGET'].notnull()].loc[Liste_test]\n",
    "\n",
    "# feature_importance_df = pd.DataFrame()\n",
    "# feats = [f for f in train_df.columns if f not in ['TARGET','SK_ID_CURR','SK_ID_BUREAU','SK_ID_PREV','index']]\n",
    "# train_x, train_y = train_df[feats], train_df['TARGET']\n",
    "# valid_x, valid_y = test_df[feats], test_df['TARGET']\n",
    "\n",
    "# ## NBR VAR à changer manuellement ##\n",
    "# train_x_200=train_x.copy()\n",
    "# train_y_200=train_y.copy()\n",
    "# valid_x_200=valid_x.copy()\n",
    "# valid_y_200=valid_y.copy()\n",
    "# ## NBR VAR à changer manuellement ##\n",
    "\n",
    "\n",
    "# clf = LGBMClassifier(\n",
    "#             nthread=4,\n",
    "#             n_estimators=10000,\n",
    "#             learning_rate=0.02,\n",
    "#             num_leaves=34,\n",
    "#             colsample_bytree=0.9497036,\n",
    "#             subsample=0.8715623,\n",
    "#             max_depth=8,\n",
    "#             reg_alpha=0.041545473,\n",
    "#             reg_lambda=0.0735294,\n",
    "#             min_split_gain=0.0222415,\n",
    "#             min_child_weight=39.3259775,\n",
    "#             silent=-1,\n",
    "#             verbose=-1, )\n",
    "\n",
    "\n",
    "# clf_fit=clf.fit(train_x, train_y, eval_set=[(train_x, train_y), (valid_x, valid_y)], \n",
    "#             eval_metric= 'auc')\n",
    "\n",
    "# # oof_preds[1] = clf.predict_proba(valid_x)[:, 1]\n",
    "# # sub_preds += clf.predict_proba(test_df[feats])[:, 1]\n",
    "\n",
    "# fold_importance_df = pd.DataFrame()\n",
    "# fold_importance_df[\"feature\"] = feats\n",
    "# fold_importance_df[\"importance\"] = clf.feature_importances_\n",
    "# fold_importance_df[\"fold\"] = 1\n",
    "\n",
    "# feature_importance_df = pd.concat([feature_importance_df, fold_importance_df], axis=0)\n",
    "\n",
    "# predict_train=pd.Series(clf_fit.predict(train_x),index=train_df.index, name ='predict_train')\n",
    "# predict_valid=pd.Series(clf_fit.predict(valid_x),index=test_df.index, name ='predict_valid' )\n",
    "\n",
    "# ## NBR VAR à changer manuellement ##\n",
    "# predict_train_200=predict_train.copy()\n",
    "# predict_valid_200=predict_valid.copy()\n",
    "# ## NBR VAR à changer manuellement ##\n",
    "\n",
    "# # score ARI training\n",
    "# print('score ARI training =',round(adjusted_rand_score(train_y,predict_train),3))\n",
    "# # score ARI testing\n",
    "# print('score ARI testing =',round(adjusted_rand_score(valid_y,predict_valid),3))\n",
    "# # accuracy training\n",
    "# print('accuracy training =',round(sklearn.metrics.accuracy_score(train_y, predict_train),3))\n",
    "# # accuracy testing\n",
    "# print('accuracy testing =',round(sklearn.metrics.accuracy_score(valid_y, predict_valid),3))\n",
    "# # precision training\n",
    "# print('precision training =',round(sklearn.metrics.average_precision_score(train_y, predict_train),3))\n",
    "# # precision testing\n",
    "# print('precision testing =',round(sklearn.metrics.average_precision_score(valid_y, predict_valid),3))"
   ]
  },
  {
   "cell_type": "code",
   "execution_count": null,
   "metadata": {},
   "outputs": [],
   "source": [
    "# ## NBR VAR à changer manuellement ##\n",
    "# df=df_total\n",
    "# ## NBR VAR à changer manuellement ##\n",
    "\n",
    "# train_df = df[df['TARGET'].notnull()].loc[Liste_train]\n",
    "# test_df = df[df['TARGET'].notnull()].loc[Liste_test]\n",
    "\n",
    "# feature_importance_df = pd.DataFrame()\n",
    "# feats = [f for f in train_df.columns if f not in ['TARGET','SK_ID_CURR','SK_ID_BUREAU','SK_ID_PREV','index']]\n",
    "# train_x, train_y = train_df[feats], train_df['TARGET']\n",
    "# valid_x, valid_y = test_df[feats], test_df['TARGET']\n",
    "\n",
    "# ## NBR VAR à changer manuellement ##\n",
    "# train_x_tot=train_x.copy()\n",
    "# train_y_tot=train_y.copy()\n",
    "# valid_x_tot=valid_x.copy()\n",
    "# valid_y_tot=valid_y.copy()\n",
    "# ## NBR VAR à changer manuellement ##\n",
    "\n",
    "\n",
    "# clf = LGBMClassifier(\n",
    "#             nthread=4,\n",
    "#             n_estimators=10000,\n",
    "#             learning_rate=0.02,\n",
    "#             num_leaves=34,\n",
    "#             colsample_bytree=0.9497036,\n",
    "#             subsample=0.8715623,\n",
    "#             max_depth=8,\n",
    "#             reg_alpha=0.041545473,\n",
    "#             reg_lambda=0.0735294,\n",
    "#             min_split_gain=0.0222415,\n",
    "#             min_child_weight=39.3259775,\n",
    "#             silent=-1,\n",
    "#             verbose=-1, )\n",
    "\n",
    "\n",
    "# clf_fit=clf.fit(train_x, train_y, eval_set=[(train_x, train_y), (valid_x, valid_y)], \n",
    "#             eval_metric= 'auc')\n",
    "\n",
    "# # oof_preds[1] = clf.predict_proba(valid_x)[:, 1]\n",
    "# # sub_preds += clf.predict_proba(test_df[feats])[:, 1]\n",
    "\n",
    "# fold_importance_df = pd.DataFrame()\n",
    "# fold_importance_df[\"feature\"] = feats\n",
    "# fold_importance_df[\"importance\"] = clf.feature_importances_\n",
    "# fold_importance_df[\"fold\"] = 1\n",
    "\n",
    "# feature_importance_df = pd.concat([feature_importance_df, fold_importance_df], axis=0)\n",
    "\n",
    "# predict_train=pd.Series(clf_fit.predict(train_x),index=train_df.index, name ='predict_train')\n",
    "# predict_valid=pd.Series(clf_fit.predict(valid_x),index=test_df.index, name ='predict_valid' )\n",
    "\n",
    "# ## NBR VAR à changer manuellement ##\n",
    "# predict_train_tot=predict_train.copy()\n",
    "# predict_valid_tot=predict_valid.copy()\n",
    "# ## NBR VAR à changer manuellement ##\n",
    "\n",
    "\n",
    "# # score ARI training\n",
    "# print('score ARI training =',round(adjusted_rand_score(train_y,predict_train),3))\n",
    "# # score ARI testing\n",
    "# print('score ARI testing =',round(adjusted_rand_score(valid_y,predict_valid),3))\n",
    "# # accuracy training\n",
    "# print('accuracy training =',round(sklearn.metrics.accuracy_score(train_y, predict_train),3))\n",
    "# # accuracy testing\n",
    "# print('accuracy testing =',round(sklearn.metrics.accuracy_score(valid_y, predict_valid),3))\n",
    "# # precision training\n",
    "# print('precision training =',round(sklearn.metrics.average_precision_score(train_y, predict_train),3))\n",
    "# # precision testing\n",
    "# print('precision testing =',round(sklearn.metrics.average_precision_score(valid_y, predict_valid),3))"
   ]
  },
  {
   "cell_type": "code",
   "execution_count": null,
   "metadata": {},
   "outputs": [],
   "source": [
    "# (pd.crosstab(train_y_tot,predict_train_tot,normalize='index')*100).round(3)"
   ]
  },
  {
   "cell_type": "code",
   "execution_count": null,
   "metadata": {},
   "outputs": [],
   "source": [
    "# (pd.crosstab(train_y_200,predict_train_200,normalize='index')*100).round(3)"
   ]
  },
  {
   "cell_type": "code",
   "execution_count": null,
   "metadata": {},
   "outputs": [],
   "source": [
    "# (pd.crosstab(train_y_100,predict_train_100,normalize='index')*100).round(3)"
   ]
  },
  {
   "cell_type": "code",
   "execution_count": null,
   "metadata": {},
   "outputs": [],
   "source": [
    "# (pd.crosstab(train_y_50,predict_train_50,normalize='index')*100).round(3)"
   ]
  },
  {
   "cell_type": "code",
   "execution_count": null,
   "metadata": {},
   "outputs": [],
   "source": [
    "# (pd.crosstab(train_y_30,predict_train_30,normalize='index')*100).round(3)"
   ]
  },
  {
   "cell_type": "code",
   "execution_count": null,
   "metadata": {},
   "outputs": [],
   "source": [
    "# (pd.crosstab(valid_y_tot,predict_valid_tot,normalize='index')*100).round(3)"
   ]
  },
  {
   "cell_type": "code",
   "execution_count": null,
   "metadata": {},
   "outputs": [],
   "source": [
    "# (pd.crosstab(valid_y_200,predict_valid_200,normalize='index')*100).round(3)"
   ]
  },
  {
   "cell_type": "code",
   "execution_count": null,
   "metadata": {},
   "outputs": [],
   "source": [
    "# (pd.crosstab(valid_y_100,predict_valid_100,normalize='index')*100).round(3)"
   ]
  },
  {
   "cell_type": "code",
   "execution_count": null,
   "metadata": {},
   "outputs": [],
   "source": [
    "# (pd.crosstab(valid_y_50,predict_valid_50,normalize='index')*100).round(3)"
   ]
  },
  {
   "cell_type": "code",
   "execution_count": null,
   "metadata": {},
   "outputs": [],
   "source": [
    "# (pd.crosstab(valid_y_30,predict_valid_30,normalize='index')*100).round(3)"
   ]
  },
  {
   "cell_type": "code",
   "execution_count": null,
   "metadata": {},
   "outputs": [],
   "source": [
    "# lgbm_valid_y=pd.concat([valid_y_30,predict_valid_30,predict_valid_50,predict_valid_100,predict_valid_200,predict_valid_tot],axis=1)\n",
    "# lgbm_valid_y.columns=['TARGET',30,50,100,200,'tot']\n",
    "# lgbm_train_y=pd.concat([train_y_30,predict_train_30,predict_train_50,predict_train_100,predict_train_200,predict_train_tot],axis=1)\n",
    "# lgbm_train_y.columns=['TARGET',30,50,100,200,'tot']\n",
    "# lgbm_result_tot=pd.concat([lgbm_train_y,lgbm_valid_y],axis=0)\n"
   ]
  },
  {
   "cell_type": "code",
   "execution_count": null,
   "metadata": {},
   "outputs": [],
   "source": [
    "# lgbm_result_tot"
   ]
  },
  {
   "cell_type": "markdown",
   "metadata": {},
   "source": [
    "### sauvegarge des résultats du lgbm avec nbr de var distinctes"
   ]
  },
  {
   "cell_type": "code",
   "execution_count": null,
   "metadata": {},
   "outputs": [],
   "source": [
    "# lgbm_result_tot.to_csv('1_outputs/Result_lgbm_nbr_var.csv')"
   ]
  },
  {
   "cell_type": "code",
   "execution_count": null,
   "metadata": {},
   "outputs": [],
   "source": [
    "# pd.crosstab(lgbm_valid_y['TARGET'],lgbm_valid_y[30])"
   ]
  },
  {
   "cell_type": "code",
   "execution_count": null,
   "metadata": {},
   "outputs": [],
   "source": [
    "# pd.crosstab(lgbm_train_y['TARGET'],lgbm_train_y[30])"
   ]
  },
  {
   "cell_type": "code",
   "execution_count": null,
   "metadata": {},
   "outputs": [],
   "source": [
    "# print('','precision testing_tot =',round(sklearn.metrics.average_precision_score(valid_y, predict_valid_tot),4),'\\n',\n",
    "#     'precision testing_200 =',round(sklearn.metrics.average_precision_score(valid_y, predict_valid_200),4),'\\n',\n",
    "#     'precision testing_100 =',round(sklearn.metrics.average_precision_score(valid_y, predict_valid_100),4),'\\n',\n",
    "#     'precision testing_50 =',round(sklearn.metrics.average_precision_score(valid_y, predict_valid_50),4),'\\n',\n",
    "#     'precision testing_30 =',round(sklearn.metrics.average_precision_score(valid_y, predict_valid_30),4)\n",
    "    # )"
   ]
  },
  {
   "cell_type": "code",
   "execution_count": null,
   "metadata": {},
   "outputs": [],
   "source": [
    "# print('','precision testing_tot =',round(sklearn.metrics.accuracy_score(valid_y, predict_valid_tot),4),'\\n',\n",
    "#     'precision testing_200 =',round(sklearn.metrics.accuracy_score(valid_y, predict_valid_200),4),'\\n',\n",
    "#     'precision testing_100 =',round(sklearn.metrics.accuracy_score(valid_y, predict_valid_100),4),'\\n',\n",
    "#     'precision testing_50 =',round(sklearn.metrics.accuracy_score(valid_y, predict_valid_50),4),'\\n',\n",
    "#     'precision testing_30 =',round(sklearn.metrics.accuracy_score(valid_y, predict_valid_30),4)\n",
    "#     )"
   ]
  },
  {
   "cell_type": "markdown",
   "metadata": {},
   "source": [
    "Garder uniquement 100 variables \"maximise\" la précision sur les différents essais avec moins de variables =>  on simplifie  pour les modèles de scoring en réduisant les temps de calcul. On peut aussi considérer que d'une point de vue explication du résultat du score et gestion des informations, un modèle efficace avec moin s de variables requises serait un plus"
   ]
  },
  {
   "cell_type": "code",
   "execution_count": null,
   "metadata": {},
   "outputs": [],
   "source": [
    "# recharge des résultats obtenus pour les executions du code sans recalcul des lgbm sur différents nbr de variables\n",
    "lgbm_result_tot=pd.read_csv('1_outputs/Result_lgbm_nbr_var.csv')"
   ]
  },
  {
   "cell_type": "markdown",
   "metadata": {},
   "source": [
    "# Modèles de classification sur les bases des 100 var les plus importantes"
   ]
  },
  {
   "cell_type": "code",
   "execution_count": null,
   "metadata": {},
   "outputs": [],
   "source": [
    "data=df_total[var_lgbm_100].copy()"
   ]
  },
  {
   "cell_type": "markdown",
   "metadata": {},
   "source": [
    "### exploration"
   ]
  },
  {
   "cell_type": "code",
   "execution_count": null,
   "metadata": {},
   "outputs": [],
   "source": [
    "df_total[var_lgbm_100].head()"
   ]
  },
  {
   "cell_type": "code",
   "execution_count": null,
   "metadata": {},
   "outputs": [],
   "source": [
    "ctrl_data=Controle(df_total[var_lgbm_100])"
   ]
  },
  {
   "cell_type": "code",
   "execution_count": null,
   "metadata": {},
   "outputs": [],
   "source": [
    "ctrl_data"
   ]
  },
  {
   "cell_type": "code",
   "execution_count": null,
   "metadata": {},
   "outputs": [],
   "source": [
    "ctrl_data[ctrl_data['nomcol'].str.contains('_VAR')]"
   ]
  },
  {
   "cell_type": "code",
   "execution_count": null,
   "metadata": {},
   "outputs": [],
   "source": [
    "ctrl_data.loc[abs(ctrl_data['skew'])>8,:]\n"
   ]
  },
  {
   "cell_type": "code",
   "execution_count": null,
   "metadata": {},
   "outputs": [],
   "source": [
    "skew_a_corriger=ctrl_data.loc[abs(ctrl_data['skew'])>8,'nomcol']\n",
    "skew_a_corriger"
   ]
  },
  {
   "cell_type": "code",
   "execution_count": null,
   "metadata": {},
   "outputs": [],
   "source": [
    "ctrl_data.loc[ctrl_data['nomcol']=='ACTIVE_DAYS_CREDIT_UPDATE_MEAN','min']"
   ]
  },
  {
   "cell_type": "code",
   "execution_count": null,
   "metadata": {},
   "outputs": [],
   "source": [
    "data2=data.copy()\n",
    "# data[skew_a_corriger].apply(lambda x: x+min(x,0),axis=1)\n",
    "for i in skew_a_corriger:\n",
    "    data2[i]=np.log(data[i]-min(data[i].min(),0)+2)"
   ]
  },
  {
   "cell_type": "code",
   "execution_count": null,
   "metadata": {},
   "outputs": [],
   "source": [
    "ctrl_data2=Controle(data2)"
   ]
  },
  {
   "cell_type": "code",
   "execution_count": null,
   "metadata": {},
   "outputs": [],
   "source": [
    "ctrl_data2.loc[ctrl_data2['nomcol'].isin(skew_a_corriger),:]\n"
   ]
  },
  {
   "cell_type": "code",
   "execution_count": null,
   "metadata": {},
   "outputs": [],
   "source": [
    "temp=data['INSTAL_PAYMENT_PERC_VAR'].value_counts()\n",
    "temp"
   ]
  },
  {
   "cell_type": "code",
   "execution_count": null,
   "metadata": {},
   "outputs": [],
   "source": [
    "data['INSTAL_PAYMENT_PERC_VAR'].sort_values(ascending=False)[0:50]"
   ]
  },
  {
   "cell_type": "code",
   "execution_count": null,
   "metadata": {},
   "outputs": [],
   "source": [
    "# version simplifiée du df de contrôle: donnée de type, Skew de la série et valeurs du describe + quntile à 99%\n",
    "def Skew_df(x):\n",
    "    # DataFrame de contrôles sur les colonnes\n",
    "    tempo = pd.DataFrame(columns=['type','skew'])\n",
    "\n",
    "    tot = x.shape[0]\n",
    "\n",
    "    tempo['nomcol'] = pd.Series(x.columns) # nom des colonnes\n",
    "\n",
    "    for i in x.columns:\n",
    "        j=list(x.columns).index(i)\n",
    "        tempo.at[j, 'type'] = x.dtypes[i]\n",
    "        tempo.at[j, '99%'] = np.percentile(x.loc[x[i].isna()==False,i],99)  # retirer les Nan pour calcul du percentile\n",
    "       \n",
    "    \n",
    "    temp=x.describe().T.copy()                  # describe des données numériques (min, max...)\n",
    "    temp.drop(['count','std'],axis=1,inplace=True)                         # nombre et ecart-type pas ntéressants donc droppés\n",
    "    tempo=tempo.merge(temp,how='left',left_on='nomcol',right_index=True)        # ajout des données numériques aux données de remplissage\n",
    "        \n",
    "        \n",
    "    for i in tempo.loc[(tempo['type']!='category') & (tempo['type']!='object')]['nomcol']:                            #skew des données numériques\n",
    "        tempo.at[tempo.loc[tempo['nomcol']==i].index.values[0],'skew']=x[i].skew()\n",
    "    return tempo"
   ]
  },
  {
   "cell_type": "code",
   "execution_count": null,
   "metadata": {},
   "outputs": [],
   "source": [
    "ctrl_data2=Skew_df(data2)"
   ]
  },
  {
   "cell_type": "code",
   "execution_count": null,
   "metadata": {},
   "outputs": [],
   "source": [
    "ctrl_data2"
   ]
  },
  {
   "cell_type": "code",
   "execution_count": null,
   "metadata": {},
   "outputs": [],
   "source": [
    "ctrl_data2.loc[ctrl_data2['nomcol']=='INSTAL_PAYMENT_PERC_VAR','99%'].values[0]"
   ]
  },
  {
   "cell_type": "code",
   "execution_count": null,
   "metadata": {},
   "outputs": [],
   "source": [
    "data2.loc[data2['INSTAL_PAYMENT_PERC_VAR']<ctrl_data2.loc[ctrl_data2['nomcol']=='INSTAL_PAYMENT_PERC_VAR','99%'].values[0],'INSTAL_PAYMENT_PERC_VAR']"
   ]
  },
  {
   "cell_type": "code",
   "execution_count": null,
   "metadata": {},
   "outputs": [],
   "source": [
    "sns.histplot(data2.loc[data2['INSTAL_PAYMENT_PERC_VAR']<ctrl_data2.loc[ctrl_data2['nomcol']=='INSTAL_PAYMENT_PERC_VAR','99%'].values[0],'INSTAL_PAYMENT_PERC_VAR'])\n",
    "plt.xlim(0,3)\n",
    "plt.ylim(0,5000)"
   ]
  },
  {
   "cell_type": "markdown",
   "metadata": {},
   "source": [
    "### opérations finales de feature engineering"
   ]
  },
  {
   "cell_type": "code",
   "execution_count": null,
   "metadata": {},
   "outputs": [],
   "source": [
    "data.head()"
   ]
  },
  {
   "cell_type": "code",
   "execution_count": null,
   "metadata": {},
   "outputs": [],
   "source": [
    "data2=data.copy()"
   ]
  },
  {
   "cell_type": "code",
   "execution_count": null,
   "metadata": {},
   "outputs": [],
   "source": [
    "#data2: remplacement des valeurs inf par des Nan (si jamais les colonnes de variables conservées inculent des valeurs inf)\n",
    "for col in data.loc[:,data.max(axis=0)==np.inf].columns:\n",
    "    data2[col] = data[col].replace([np.inf, -np.inf], np.nan)\n"
   ]
  },
  {
   "cell_type": "code",
   "execution_count": null,
   "metadata": {},
   "outputs": [],
   "source": [
    "data3=data2.copy()"
   ]
  },
  {
   "cell_type": "code",
   "execution_count": null,
   "metadata": {},
   "outputs": [],
   "source": [
    "#data3: cap max à quant75%+10* ecart interquartile(75-25)\n",
    "def clip_quart(col):\n",
    "    return col.clip(upper=np.percentile(col.loc[col.isna()==False],75)+\n",
    "                    10*(np.percentile(col.loc[col.isna()==False],75)-np.percentile(col.loc[col.isna()==False],25)),\n",
    "                    lower=np.percentile(col.loc[col.isna()==False],25)-\n",
    "                    10*(np.percentile(col.loc[col.isna()==False],75)-np.percentile(col.loc[col.isna()==False],25)))\n",
    "\n",
    "\n",
    "data3=data2.apply(clip_quart,axis=0)\n"
   ]
  },
  {
   "cell_type": "code",
   "execution_count": null,
   "metadata": {},
   "outputs": [],
   "source": [
    "ctrl_data2=Skew_df(data2)\n",
    "ctrl_data3=Skew_df(data3)"
   ]
  },
  {
   "cell_type": "code",
   "execution_count": null,
   "metadata": {},
   "outputs": [],
   "source": [
    "ctrl_data2.sort_values(by='skew')"
   ]
  },
  {
   "cell_type": "code",
   "execution_count": null,
   "metadata": {},
   "outputs": [],
   "source": [
    "ctrl_data3.sort_values(by='skew')"
   ]
  },
  {
   "cell_type": "code",
   "execution_count": null,
   "metadata": {},
   "outputs": [],
   "source": [
    "display(ctrl_data2.loc[ctrl_data2['nomcol']=='AMT_INCOME_TOTAL'],ctrl_data3.loc[ctrl_data3['nomcol']=='AMT_INCOME_TOTAL'])\n"
   ]
  },
  {
   "cell_type": "code",
   "execution_count": null,
   "metadata": {},
   "outputs": [],
   "source": [
    "data4=data3.copy()"
   ]
  },
  {
   "cell_type": "code",
   "execution_count": null,
   "metadata": {},
   "outputs": [],
   "source": [
    "#data4: retrait des na\n",
    "for col in data3.columns:\n",
    "    data4[col]=data3[col].fillna(data3[col].mean())"
   ]
  },
  {
   "cell_type": "code",
   "execution_count": null,
   "metadata": {},
   "outputs": [],
   "source": [
    "data5=data4.copy()"
   ]
  },
  {
   "cell_type": "code",
   "execution_count": null,
   "metadata": {},
   "outputs": [],
   "source": [
    "#data5 = arrondi à 4 chiffres après virgule\n",
    "data5=data5.round(4)"
   ]
  },
  {
   "cell_type": "code",
   "execution_count": null,
   "metadata": {},
   "outputs": [],
   "source": [
    "# data6 = standard Scale de data5\n",
    "\n",
    "scale=StandardScaler()\n",
    "data6=pd.DataFrame(data=scale.fit_transform(data5),index=data5.index,columns=data5.columns).round(4)\n",
    "\n",
    "# attention: l'étape 3 de l'écart interquartile fait passer la variable TARGET à 0 car dans la distribution initiale, les quant à 25 et 75% ont pour valeur 0\n",
    "# le cap plafonds fait donc disparaitre tous les 1\n",
    "# on repasse la valeur de TARGET à sa valeur initiale + les 'NA' de target inconnue (les indiv à évaluer) sont passés à -1 (pour différencier des 0 accord et 1 refus)\n",
    "data6['TARGET']=data['TARGET'].fillna(-1)\n",
    "\n"
   ]
  },
  {
   "cell_type": "code",
   "execution_count": null,
   "metadata": {},
   "outputs": [],
   "source": [
    "data6.to_csv(\"1_outputs/data6.csv\")"
   ]
  },
  {
   "cell_type": "markdown",
   "metadata": {},
   "source": [
    "# opérations de création de la base\n",
    "\n"
   ]
  },
  {
   "cell_type": "markdown",
   "metadata": {},
   "source": [
    "obtention de df_total"
   ]
  },
  {
   "cell_type": "code",
   "execution_count": 5,
   "metadata": {},
   "outputs": [
    {
     "name": "stdout",
     "output_type": "stream",
     "text": [
      "Train samples: 307511, test samples: 48744\n"
     ]
    }
   ],
   "source": [
    "# Création des dataframes issus des fichiers sources séparés et de df_total\n",
    "df_test_train=application_train_test(num_rows = None, nan_as_category = False).copy()\n",
    "\n",
    "temp=df_test_train.set_index('SK_ID_CURR')\n",
    "temp.index.rename('ID',inplace=True)\n",
    "temp.insert(1,'SK_ID_CURR',temp.index)\n",
    "temp.head()\n",
    "df_test_train=temp.copy()\n",
    "\n",
    "df_bureau_balance=bureau_and_balance(num_rows = None, nan_as_category = True).copy()\n",
    "df_prev_app=previous_applications(num_rows = None, nan_as_category = True).copy()\n",
    "df_pos_cash=pos_cash(num_rows = None, nan_as_category = True).copy()\n",
    "df_payments=installments_payments(num_rows = None, nan_as_category = True).copy()\n",
    "df_card_balance=credit_card_balance(num_rows = None, nan_as_category = True).copy()\n",
    "\n",
    "df_total=df_test_train.merge(df_bureau_balance,left_index=True,right_index=True,how='left').merge(df_prev_app,left_index=True,right_index=True,how='left').merge(\n",
    "                                df_pos_cash,left_index=True,right_index=True,how='left').merge(df_payments,left_index=True,right_index=True,how='left').merge(    \n",
    "                                df_card_balance,left_index=True,right_index=True,how='left').copy()\n",
    "\n",
    "df_total = df_total.rename(columns = lambda x:re.sub('[^A-Za-z0-9_]+', '', x))\n",
    "df_total = df_total.rename(columns = lambda x:x.upper())\n",
    "for i in df_total.columns:\n",
    "    if df_total[i].dtypes=='object':\n",
    "        df_total[i]=df_total[i].astype('bool')\n"
   ]
  },
  {
   "cell_type": "code",
   "execution_count": null,
   "metadata": {},
   "outputs": [],
   "source": [
    "df_total['SK_ID_CURR'].to_csv('1_outputs/Liste_index_clients.csv')"
   ]
  },
  {
   "cell_type": "code",
   "execution_count": 7,
   "metadata": {},
   "outputs": [],
   "source": [
    "# 6 min 30\n",
    "# enregistrement de df_total = intégralité des données en un dataframe\n",
    "df_total.to_csv('1_outputs/df_total.csv', index = True,sep='\\t',compression='gzip')"
   ]
  },
  {
   "cell_type": "code",
   "execution_count": 4,
   "metadata": {},
   "outputs": [],
   "source": [
    "# 45 sec\n",
    "# chargement depuis le répertoire au besoin\n",
    "df_total=pd.read_csv(\"1_outputs/df_total.csv\",sep='\\t',compression='gzip',index_col='ID')\n"
   ]
  },
  {
   "cell_type": "code",
   "execution_count": 5,
   "metadata": {},
   "outputs": [],
   "source": [
    "# Histo : base avec TARGET connue pour entrainer et tester le modèle\n",
    "# Futur : base avec TARGET inconnue pour API dashboard et data drift\n",
    "base_futur=df_total.loc[df_total['TARGET'].isna()]\n",
    "base_futur.to_csv('1_outputs/base_futur.csv', index = True,sep='\\t',compression='gzip')\n",
    "base_histo=df_total.loc[df_total['TARGET'].isna()==False]\n",
    "base_histo.to_csv('1_outputs/base_histo.csv', index = True,sep='\\t',compression='gzip')"
   ]
  },
  {
   "cell_type": "code",
   "execution_count": 6,
   "metadata": {},
   "outputs": [],
   "source": [
    "base_histo['SK_ID_CURR'].to_csv('1_outputs/Liste_index_clients_histo.csv')\n",
    "# les données base futur servent à l'api est sont envoyées dans le rep dédié\n",
    "base_futur['SK_ID_CURR'].to_csv('2_backend/API_input_data/Liste_index_clients_futur.csv')"
   ]
  },
  {
   "cell_type": "code",
   "execution_count": null,
   "metadata": {},
   "outputs": [],
   "source": [
    "# OLD, avant simplifications\n",
    "\n",
    "# #etape 1: renomme copies\n",
    "# data=base_histo\n",
    "# data2=data.copy()\n",
    "\n",
    "# #etape 2: remplacement des valeurs inf par des Nan (si jamais les colonnes de variables conservées inculent des valeurs inf)\n",
    "# for col in data.loc[:,data.max(axis=0)==np.inf].columns:\n",
    "#     data2[col] = data[col].replace([np.inf, -np.inf], np.nan)\n",
    "\n",
    "# #etape 3: cap max à quant75%+10* ecart interquartile(75-25)\n",
    "# def clip_quart(col):\n",
    "#     return col.clip(upper=np.percentile(col.loc[col.isna()==False],75)+\n",
    "#                     10*(np.percentile(col.loc[col.isna()==False],75)-np.percentile(col.loc[col.isna()==False],25)),\n",
    "#                     lower=np.percentile(col.loc[col.isna()==False],25)-\n",
    "#                     10*(np.percentile(col.loc[col.isna()==False],75)-np.percentile(col.loc[col.isna()==False],25)))\n",
    "\n",
    "# data3=data2.copy()\n",
    "# data3.loc[:,data3.dtypes!='bool']=data2.loc[:,data3.dtypes!='bool'].apply(clip_quart,axis=0)\n",
    "\n",
    "# #etape 4: retrait des na: remplissage par la moyenne\n",
    "# data4=data3.copy()\n",
    "# for col in data3.columns:\n",
    "#     data4[col]=data3[col].fillna(data3[col].mean())\n",
    "\n",
    "# #etape 5 = standard Scale de data4\n",
    "\n",
    "# scale=StandardScaler()\n",
    "# data5=pd.DataFrame(data=scale.fit_transform(data4),index=data4.index,columns=data4.columns).round(4)\n",
    "\n",
    "# # attention: l'étape 3 de l'écart interquartile fait passer la variable TARGET à 0 car dans la distribution initiale, les quant à 25 et 75% ont pour valeur 0\n",
    "# # le cap plafonds fait donc disparaitre tous les 1\n",
    "# # on repasse la valeur de TARGET à sa valeur initiale\n",
    "\n",
    "# # on conserve aussi data4 comme base à utiliser dans l'explainer SHAP => valeurs avant standard-scale \n",
    "# data4['TARGET']=data['TARGET']\n",
    "# data5['TARGET']=data['TARGET']\n",
    "\n",
    "# # étape 6 : format plus réduit\n",
    "# data6=data5.astype('float32')\n",
    "# data7=data4.astype('float32')\n"
   ]
  },
  {
   "cell_type": "code",
   "execution_count": null,
   "metadata": {},
   "outputs": [],
   "source": [
    "# # Version def des mises en forme, base histo\n",
    "\n",
    "# #etape 1: renomme copies\n",
    "# data=base_histo\n",
    "# data2=data.copy()\n",
    "\n",
    "# #etape 2: remplacement des valeurs inf par des Nan (si jamais les colonnes de variables conservées inculent des valeurs inf)\n",
    "# data2.replace([np.inf, -np.inf], np.nan, inplace=True)\n",
    "\n",
    "# #etape 2.5 : si TARGET est NA (base_futur des clients pour lesquels le résultat du prêt n'est pas connu), remplacer par des -1\n",
    "# data2['TARGET']=np.where(data2['TARGET'].isna(),-1,data2['TARGET'])\n",
    "\n",
    "# #etape 3: cap max à quant75%+10* ecart interquartile(75-25)\n",
    "\n",
    "# def clip_quart(col):\n",
    "#     quant_25 = np.percentile(col.loc[col.notna()], 25)\n",
    "#     quant_75 = np.percentile(col.loc[col.notna()], 75)\n",
    "#     upper_bound = quant_75 + 10 * (quant_75 - quant_25)\n",
    "#     lower_bound = quant_25 - 10 * (quant_75 - quant_25)\n",
    "#     return col.clip(upper=upper_bound, lower=lower_bound)\n",
    "\n",
    "# data2.loc[:,data2.dtypes!='bool']=data2.loc[:,data2.dtypes!='bool'].apply(clip_quart,axis=0)\n",
    "\n",
    "# #etape 4: retrait des na: remplissage par la moyenne\n",
    "# data2.fillna(data2.mean(), inplace=True)\n",
    "\n",
    "# #etape 5 = standard Scale de data4\n",
    "# scale=StandardScaler()\n",
    "# data3 = pd.DataFrame(scale.fit_transform(data2), index=data2.index, columns=data2.columns).round(4)\n",
    "# # attention: l'étape 3 de l'écart interquartile fait passer la variable TARGET à 0 car dans la distribution initiale, les quant à 25 et 75% ont pour valeur 0\n",
    "# # le cap plafonds fait donc disparaitre tous les 1\n",
    "# # on repasse la valeur de TARGET à sa valeur initiale\n",
    "\n",
    "# # on conserve aussi data4 comme base à utiliser dans l'explainer SHAP => valeurs avant standard-scale \n",
    "# data2['TARGET']=data['TARGET']\n",
    "# data3['TARGET']=data['TARGET']\n",
    "\n",
    "# # étape 6 : format plus réduit\n",
    "# data2=data2.astype('float32')\n",
    "# data3=data3.astype('float32')\n"
   ]
  },
  {
   "cell_type": "code",
   "execution_count": null,
   "metadata": {},
   "outputs": [],
   "source": [
    "# # Version def des mises en forme, base futur\n",
    "\n",
    "# #etape 1: renomme copies\n",
    "# data=base_futur\n",
    "# data2=data.copy()\n",
    "\n",
    "# #etape 2: remplacement des valeurs inf par des Nan (si jamais les colonnes de variables conservées inculent des valeurs inf)\n",
    "# data2.replace([np.inf, -np.inf], np.nan, inplace=True)\n",
    "\n",
    "# #etape 2.5 : si TARGET est NA (base_futur des clients pour lesquels le résultat du prêt n'est pas connu), remplacer par des -1\n",
    "# data2['TARGET']=np.where(data2['TARGET'].isna(),-1,data2['TARGET'])\n",
    "\n",
    "# #etape 3: cap max à quant75%+10* ecart interquartile(75-25)\n",
    "\n",
    "# def clip_quart(col):\n",
    "#     quant_25 = np.percentile(col.loc[col.notna()], 25)\n",
    "#     quant_75 = np.percentile(col.loc[col.notna()], 75)\n",
    "#     upper_bound = quant_75 + 10 * (quant_75 - quant_25)\n",
    "#     lower_bound = quant_25 - 10 * (quant_75 - quant_25)\n",
    "#     return col.clip(upper=upper_bound, lower=lower_bound)\n",
    "\n",
    "# data2.loc[:,data2.dtypes!='bool']=data2.loc[:,data2.dtypes!='bool'].apply(clip_quart,axis=0)\n",
    "\n",
    "# #etape 4: retrait des na: remplissage par la moyenne\n",
    "# data2.fillna(data2.mean(), inplace=True)\n",
    "\n",
    "# #etape 5 = standard Scale de data4\n",
    "# scale=StandardScaler()\n",
    "# data3 = pd.DataFrame(scale.fit_transform(data2), index=data2.index, columns=data2.columns).round(4)\n",
    "# # attention: l'étape 3 de l'écart interquartile fait passer la variable TARGET à 0 car dans la distribution initiale, les quant à 25 et 75% ont pour valeur 0\n",
    "# # le cap plafonds fait donc disparaitre tous les 1\n",
    "# # on repasse la valeur de TARGET à sa valeur initiale\n",
    "\n",
    "# # on conserve aussi data2 comme base à utiliser dans l'explainer SHAP => valeurs avant standard-scale \n",
    "# data2['TARGET']=np.where(data['TARGET'].isna(),-1,data['TARGET'])\n",
    "# data3['TARGET']=np.where(data['TARGET'].isna(),-1,data['TARGET'])\n",
    "\n",
    "# # étape 6 : format plus réduit\n",
    "# data2=data2.astype('float32')\n",
    "# data3=data3.astype('float32')\n"
   ]
  },
  {
   "cell_type": "code",
   "execution_count": 9,
   "metadata": {},
   "outputs": [],
   "source": [
    "def mise_en_forme_pre_std_scale(dataframe):\n",
    "\n",
    "    #etape 1: renomme copies\n",
    "    data=dataframe\n",
    "    data2=data.copy()\n",
    "\n",
    "    #etape 2: remplacement des valeurs inf par des Nan (si jamais les colonnes de variables conservées inculent des valeurs inf)\n",
    "    data2.replace([np.inf, -np.inf], np.nan, inplace=True)\n",
    "\n",
    "    #etape 2.5 : si TARGET est NA (base_futur des clients pour lesquels le résultat du prêt n'est pas connu), remplacer par des -1\n",
    "    data2['TARGET']=np.where(data2['TARGET'].isna(),-1,data2['TARGET'])\n",
    "\n",
    "    #etape 3: cap max à quant75%+10* ecart interquartile(75-25)\n",
    "\n",
    "    def clip_quart(col):\n",
    "        quant_25 = np.percentile(col.loc[col.notna()], 25)\n",
    "        quant_75 = np.percentile(col.loc[col.notna()], 75)\n",
    "        upper_bound = quant_75 + 10 * (quant_75 - quant_25)\n",
    "        lower_bound = quant_25 - 10 * (quant_75 - quant_25)\n",
    "        return col.clip(upper=upper_bound, lower=lower_bound)\n",
    "\n",
    "    data2.loc[:,data2.dtypes!='bool']=data2.loc[:,data2.dtypes!='bool'].apply(clip_quart,axis=0)\n",
    "\n",
    "    #etape 4: retrait des na: remplissage par la moyenne\n",
    "    data2.fillna(data2.mean(), inplace=True)\n",
    "\n",
    "    # attention: l'étape 3 de l'écart interquartile fait passer la variable TARGET à 0 car dans la distribution initiale, les quant à 25 et 75% ont pour valeur 0\n",
    "    # le cap plafonds fait donc disparaitre tous les 1\n",
    "    # on repasse la valeur de TARGET à sa valeur initiale\n",
    "\n",
    "    data2['TARGET']=data['TARGET']\n",
    "\n",
    "    # étape 6 : format plus réduit\n",
    "    data2=data2.astype('float32')\n",
    "\n",
    "    return data2\n"
   ]
  },
  {
   "cell_type": "code",
   "execution_count": 10,
   "metadata": {},
   "outputs": [],
   "source": [
    "def mise_en_forme_yc_std_scale(dataframe):\n",
    "\n",
    "    #etape 1: renomme copies\n",
    "    data=dataframe\n",
    "    data2=data.copy()\n",
    "\n",
    "    #etape 2: remplacement des valeurs inf par des Nan (si jamais les colonnes de variables conservées inculent des valeurs inf)\n",
    "    data2.replace([np.inf, -np.inf], np.nan, inplace=True)\n",
    "\n",
    "    #etape 2.5 : si TARGET est NA (base_futur des clients pour lesquels le résultat du prêt n'est pas connu), remplacer par des -1\n",
    "    data2['TARGET']=np.where(data2['TARGET'].isna(),-1,data2['TARGET'])\n",
    "\n",
    "    #etape 3: cap max à quant75%+10* ecart interquartile(75-25)\n",
    "\n",
    "    def clip_quart(col):\n",
    "        quant_25 = np.percentile(col.loc[col.notna()], 25)\n",
    "        quant_75 = np.percentile(col.loc[col.notna()], 75)\n",
    "        upper_bound = quant_75 + 10 * (quant_75 - quant_25)\n",
    "        lower_bound = quant_25 - 10 * (quant_75 - quant_25)\n",
    "        return col.clip(upper=upper_bound, lower=lower_bound)\n",
    "\n",
    "    data2.loc[:,data2.dtypes!='bool']=data2.loc[:,data2.dtypes!='bool'].apply(clip_quart,axis=0)\n",
    "\n",
    "    #etape 4: retrait des na: remplissage par la moyenne\n",
    "    data2.fillna(data2.mean(), inplace=True)\n",
    "\n",
    "    #etape 5 = standard Scale de data4\n",
    "    scale=StandardScaler()\n",
    "    data3 = pd.DataFrame(scale.fit_transform(data2), index=data2.index, columns=data2.columns).round(4) \n",
    "\n",
    "    # attention: l'étape 3 de l'écart interquartile fait passer la variable TARGET à 0 car dans la distribution initiale, les quant à 25 et 75% ont pour valeur 0\n",
    "    # le cap plafonds fait donc disparaitre tous les 1\n",
    "    # on repasse la valeur de TARGET à sa valeur initiale\n",
    "\n",
    "    data3['TARGET']=data['TARGET']\n",
    "\n",
    "    # étape 6 : format plus réduit\n",
    "    data3=data3.astype('float32')\n",
    "\n",
    "    return data3"
   ]
  },
  {
   "cell_type": "code",
   "execution_count": null,
   "metadata": {},
   "outputs": [],
   "source": [
    "\n",
    "base_histo.shape[0]"
   ]
  },
  {
   "cell_type": "code",
   "execution_count": null,
   "metadata": {},
   "outputs": [],
   "source": [
    "# 7 min 20\n",
    "# Sauvegarde de la base_histo après mise en forme des données pour etre directement utilisable par les algos\n",
    "data7.to_csv(\"1_outputs/base_histo_prep_shap.csv\",sep='\\t',compression='gzip')"
   ]
  },
  {
   "cell_type": "code",
   "execution_count": 11,
   "metadata": {},
   "outputs": [],
   "source": [
    "# enregistrement sur le disque = 1 min\n",
    "# Sauvegarde de la base_futur après mise en forme des données pour etre directement utilisable par les algos\n",
    "mise_en_forme_yc_std_scale(base_futur).to_csv(\"1_outputs/base_futur_prep_algo.csv\",sep='\\t',compression='gzip')"
   ]
  },
  {
   "cell_type": "code",
   "execution_count": 14,
   "metadata": {},
   "outputs": [],
   "source": [
    "# enregistrement sur le disque = 1 min\n",
    "# Sauvegarde de la base_futur après mise en forme des données pour etre directement utilisable par les algos\n",
    "mise_en_forme_pre_std_scale(base_futur).to_csv(\"1_outputs/base_futur_prep_shap.csv\",sep='\\t',compression='gzip')"
   ]
  },
  {
   "cell_type": "code",
   "execution_count": 15,
   "metadata": {},
   "outputs": [],
   "source": [
    "# 7 min 20\n",
    "# Sauvegarde de la base_histo après mise en forme des données pour etre directement utilisable par les algos\n",
    "mise_en_forme_yc_std_scale(base_histo).to_csv(\"1_outputs/base_histo_prep_algo.csv\",sep='\\t',compression='gzip')"
   ]
  },
  {
   "cell_type": "markdown",
   "metadata": {},
   "source": [
    "# 2: Import de la base de données préparée"
   ]
  },
  {
   "cell_type": "code",
   "execution_count": 19,
   "metadata": {},
   "outputs": [],
   "source": [
    "# 40 sec\n",
    "base=pd.read_csv(\"1_outputs/base_histo_prep_algo.csv\",sep='\\t',compression='gzip',index_col='ID')\n",
    "base_histo=pd.read_csv(\"1_outputs/base_histo.csv\",sep='\\t',compression='gzip',index_col='ID')\n",
    "base_futur=pd.read_csv(\"1_outputs/base_futur.csv\",sep='\\t',compression='gzip',index_col='ID')"
   ]
  },
  {
   "cell_type": "code",
   "execution_count": 20,
   "metadata": {},
   "outputs": [],
   "source": [
    "feat_important_sorted_decroissant=pd.Series(pd.read_csv('1_outputs/feat_important_sorted_decroissant.csv',header=None)[0])\n",
    "feat_important_sorted_decroissant=feat_important_sorted_decroissant.array\n",
    "var_lgbm_100=np.append(feat_important_sorted_decroissant[:100],'TARGET')"
   ]
  },
  {
   "cell_type": "code",
   "execution_count": 21,
   "metadata": {},
   "outputs": [],
   "source": [
    "base_100=base[var_lgbm_100]"
   ]
  },
  {
   "cell_type": "markdown",
   "metadata": {},
   "source": [
    "# ACP - TSNE"
   ]
  },
  {
   "cell_type": "markdown",
   "metadata": {},
   "source": [
    "## base totale"
   ]
  },
  {
   "cell_type": "code",
   "execution_count": null,
   "metadata": {},
   "outputs": [],
   "source": [
    "data_ACP=base.copy()"
   ]
  },
  {
   "cell_type": "code",
   "execution_count": null,
   "metadata": {},
   "outputs": [],
   "source": [
    "\n",
    "n_components = data_ACP.shape[1]-1\n",
    "pca = decomposition.PCA(n_components=n_components)\n",
    "names = data_ACP.index\n",
    "features = data_ACP.columns\n",
    "pca.fit(data_ACP)\n",
    "scree = (pca.explained_variance_ratio_*100).round(2)\n",
    "scree_cum = scree.cumsum().round()\n",
    "x_list = range(1, n_components+1)\n",
    "print('Variance_ratio:', pca.explained_variance_ratio_, '\\n',\n",
    "      'Inerties:', scree, '\\n',\n",
    "      'Inerties_cumulées', scree_cum)\n",
    "plt.bar(x_list, scree)\n",
    "plt.plot(x_list, scree_cum, c=\"red\", marker='o')\n",
    "plt.xlabel(\"rang de l'axe d'inertie\")\n",
    "plt.ylabel(\"pourcentage d'inertie\")\n",
    "plt.title(\"Eboulis des valeurs propres\")\n",
    "plt.grid()\n",
    "plt.ylim(0, 100)\n",
    "plt.xlim(0, data_ACP.shape[1]-1)\n",
    "plt.show()"
   ]
  },
  {
   "cell_type": "code",
   "execution_count": null,
   "metadata": {},
   "outputs": [],
   "source": [
    "print(data_ACP.shape)\n",
    "pca = decomposition.PCA(n_components=0.99)\n",
    "feat_pca= pd.DataFrame(pca.fit_transform(data_ACP),index=data_ACP.index)\n",
    "print(feat_pca.shape)"
   ]
  },
  {
   "cell_type": "code",
   "execution_count": null,
   "metadata": {},
   "outputs": [],
   "source": [
    "print(base_100.shape)\n",
    "pca = decomposition.PCA(n_components=0.99)\n",
    "feat_pca_100=pd.DataFrame(pca.fit_transform(base_100),index=base_100.index)\n",
    "print(feat_pca_100.shape)"
   ]
  },
  {
   "cell_type": "code",
   "execution_count": null,
   "metadata": {},
   "outputs": [],
   "source": [
    "print(' Tx de compression à 99% de variance sur base =',round(feat_pca.shape[1]/data_ACP.shape[1],4),'\\n',\n",
    "      'Tx de compression à 99% de variance sur base_100 =',round(feat_pca_100.shape[1]/base_100.shape[1],4))"
   ]
  },
  {
   "cell_type": "markdown",
   "metadata": {},
   "source": [
    "La réalisation d'une ACP montre que les 100 variables retenues sont globalement importantes pour expliquer la variance <br>\n",
    "Une ACP qui conserve 99% de la variance utilise 76 axes de projection sur les 101 issus de la sélection feture importance <br>\n",
    "Une ACP qui conserve 99% de la variance de la base totale de 798 variables nécessite 319 axes"
   ]
  },
  {
   "cell_type": "code",
   "execution_count": null,
   "metadata": {},
   "outputs": [],
   "source": [
    "# Fonction calcul tsne et visualisation\n",
    "#feat_pca, 30, cat_0#\n",
    "def visu_tsne_cat(data,perplex,cat,nbr_lignes):\n",
    "    temps1 = time.time()\n",
    "    tsne = manifold.TSNE(n_components=2, perplexity=perplex, n_iter=2000, init='random', random_state=6)\n",
    "    X_tsne = tsne.fit_transform(data[:nbr_lignes])\n",
    "\n",
    "    duration1=time.time()-temps1\n",
    "    print(\"temps de T-SNE : \", \"%15.2f\" % duration1, \"secondes\")\n",
    "\n",
    "    global df_tsne\n",
    "    df_tsne = pd.DataFrame(X_tsne, columns=['tsne1', 'tsne2'],index=base.index[:nbr_lignes])\n",
    "    df_tsne[\"class\"] = base[:nbr_lignes][cat]\n",
    "\n",
    "    plt.figure(figsize=(8,5))\n",
    "    sns.scatterplot(\n",
    "        x=\"tsne1\", y=\"tsne2\",\n",
    "        hue=\"class\",\n",
    "        palette='bright', s=50, alpha=0.6,\n",
    "        data=df_tsne,\n",
    "        legend=\"brief\")\n",
    "\n",
    "    plt.title('TSNE des images selon les\\n principales catégories réelles', fontsize = 25, fontweight = 'bold')\n",
    "    plt.xlabel('axe_1', fontsize = 15, fontweight = 'bold')\n",
    "    plt.ylabel('axe_2', fontsize = 15, fontweight = 'bold')\n",
    "    plt.legend(prop={'size': 14},bbox_to_anchor=(1.05, 1), loc=2)  \n",
    "\n",
    "    plt.show()"
   ]
  },
  {
   "cell_type": "code",
   "execution_count": null,
   "metadata": {},
   "outputs": [],
   "source": [
    "visu_tsne_cat(feat_pca,100,'TARGET',2000)"
   ]
  },
  {
   "cell_type": "code",
   "execution_count": null,
   "metadata": {},
   "outputs": [],
   "source": [
    "visu_tsne_cat(feat_pca,50,'TARGET',2000)"
   ]
  },
  {
   "cell_type": "code",
   "execution_count": null,
   "metadata": {},
   "outputs": [],
   "source": [
    "visu_tsne_cat(feat_pca,20,'TARGET',2000)"
   ]
  },
  {
   "cell_type": "code",
   "execution_count": null,
   "metadata": {},
   "outputs": [],
   "source": [
    "visu_tsne_cat(feat_pca_100,100,'TARGET',2000)"
   ]
  },
  {
   "cell_type": "markdown",
   "metadata": {},
   "source": [
    "# Définitions de données et fonctions"
   ]
  },
  {
   "cell_type": "markdown",
   "metadata": {},
   "source": [
    "## 3: Définition des jeux test/train"
   ]
  },
  {
   "cell_type": "code",
   "execution_count": null,
   "metadata": {},
   "outputs": [],
   "source": [
    "# Création des jeux train/test initiaux, _0 indique toutes variables\n",
    "X_train_0, X_test_0, y_train_0, y_test_0=train_test_split(base.loc[base['TARGET']>-1].drop('TARGET',axis=1), \n",
    "                                                          base.loc[base['TARGET']>-1,'TARGET'], \n",
    "                                                          test_size=0.20,\n",
    "                                                          random_state=8)\n",
    "\n",
    "# _100 indique uniquement les 100 variables les plus importantes selon l'algo lgbm\n",
    "X_train_100=X_train_0[var_lgbm_100[:100]]\n",
    "X_test_100=X_test_0[var_lgbm_100[:100]]\n",
    "\n",
    "# Séparation entre un jeu \"Ext\" contnent uniquement les variables ext_sources (variables très déterminantes) et un jeu 'Aut' contenant le reste\n",
    "X_train_100_Ext=X_train_100[['EXT_SOURCE_1','EXT_SOURCE_2','EXT_SOURCE_3']]\n",
    "X_test_100_Ext=X_test_100[['EXT_SOURCE_1','EXT_SOURCE_2','EXT_SOURCE_3']]\n",
    "X_train_100_Aut=X_train_100.drop(['EXT_SOURCE_1','EXT_SOURCE_2','EXT_SOURCE_3'],axis=1)\n",
    "X_test_100_Aut=X_test_100.drop(['EXT_SOURCE_1','EXT_SOURCE_2','EXT_SOURCE_3'],axis=1)"
   ]
  },
  {
   "cell_type": "code",
   "execution_count": null,
   "metadata": {},
   "outputs": [],
   "source": [
    "# Sélection aléatoire d'un % donné du jeu de train pour les tests d'algo\n",
    "# id_random liste des index sélectionnées aléatoirement\n",
    "def pct_training(x):\n",
    "    global id_random\n",
    "    id_random=np.array(random.sample(X_train_0.index.to_list(),round(x/100*X_train_0.shape[0])))\n",
    "    return print(\"Entrainement du modèle sur liste id_random calculée comme sélection aléatoire de\",x,\"% du jeu de train total\")"
   ]
  },
  {
   "cell_type": "code",
   "execution_count": null,
   "metadata": {},
   "outputs": [],
   "source": [
    "pct_training(10)"
   ]
  },
  {
   "cell_type": "code",
   "execution_count": null,
   "metadata": {},
   "outputs": [],
   "source": [
    "X_train_0.shape,y_train_0.shape,X_test_0.shape,y_test_0.shape"
   ]
  },
  {
   "cell_type": "code",
   "execution_count": null,
   "metadata": {},
   "outputs": [],
   "source": [
    "# Code pour générer un ensemble X,y avec taille données et under ou oversampling:\n",
    "def undersampling(X_train,y_train):\n",
    "    # taille de la classe minoritaire (1 ici) dans y_train\n",
    "    taille_classe_ref= y_train.loc[y_train==1].shape[0]  \n",
    "\n",
    "    # sélection aléatoire d'indices de X_train de la classe majoritaire de la taille de la classe ref minoritaire\n",
    "    index_undersampl=np.array(random.sample(X_train.loc[y_train.loc[y_train==0].index].index.to_list(),taille_classe_ref))\n",
    "\n",
    "    # return des concaténations X_train[indices undersampling], X_train[indices y_train=minoritaire] et y_train idem\n",
    "    return (pd.concat([X_train.loc[index_undersampl],X_train.loc[y_train==1]],axis=0),\n",
    "            pd.concat([y_train.loc[index_undersampl],y_train.loc[y_train==1]],axis=0))\n",
    "\n"
   ]
  },
  {
   "cell_type": "code",
   "execution_count": null,
   "metadata": {},
   "outputs": [],
   "source": [
    "X_train_temp,y_train_temp=undersampling(X_train_100,y_train_0)"
   ]
  },
  {
   "cell_type": "code",
   "execution_count": null,
   "metadata": {},
   "outputs": [],
   "source": [
    "X_train_temp.shape,y_train_temp.shape,y_train_temp.value_counts(),y_train_0.value_counts()"
   ]
  },
  {
   "cell_type": "code",
   "execution_count": null,
   "metadata": {},
   "outputs": [],
   "source": [
    "# Code pour générer un ensemble X,y avec taille données et under ou oversampling:\n",
    "def oversampling(X_train,y_train):\n",
    "    # taille de la classe majoritaire (0 ici) dans y_train\n",
    "    taille_classe_ref= y_train.loc[y_train==0].shape[0]\n",
    "    nbr_a_rajouter=  int(taille_classe_ref - y_train.loc[y_train==1].shape[0])\n",
    "\n",
    "    # sélection aléatoire d'indices de X_train de la classe minoritaire de la taille de la classe ref minoritaire\n",
    "    index_oversampl=np.array(random.choices(X_train.loc[y_train.loc[y_train==1].index].index.to_list(),k=nbr_a_rajouter))\n",
    "\n",
    "    # return des concaténations X_train[indices undersamplin], X_train[indices y_train=minoritaire] et y_train idem\n",
    "    return (pd.concat([X_train.loc[index_oversampl],X_train],axis=0),\n",
    "            pd.concat([y_train.loc[index_oversampl],y_train],axis=0))"
   ]
  },
  {
   "cell_type": "code",
   "execution_count": null,
   "metadata": {},
   "outputs": [],
   "source": [
    "X_train_temp,y_train_temp=oversampling(X_train_100,y_train_0)"
   ]
  },
  {
   "cell_type": "code",
   "execution_count": null,
   "metadata": {},
   "outputs": [],
   "source": [
    "X_train_temp.shape,y_train_temp.shape,y_train_temp.value_counts(),y_train_0.value_counts()"
   ]
  },
  {
   "cell_type": "markdown",
   "metadata": {},
   "source": [
    "## 4: Fonctions d'évaluation et de visualisation"
   ]
  },
  {
   "cell_type": "code",
   "execution_count": null,
   "metadata": {},
   "outputs": [],
   "source": [
    "\n",
    "temps1 = time.time()\n",
    "duration1=time.time()-temps1\n",
    "print(\"temps de training \", \"%5.2f\" % duration1, \"secondes\")\n",
    "\n"
   ]
  },
  {
   "cell_type": "code",
   "execution_count": null,
   "metadata": {},
   "outputs": [],
   "source": [
    "def balanced_accuracy(y_true, y_pred):\n",
    "    cm = confusion_matrix(y_true, y_pred)\n",
    "    tpr = cm[1, 1] / (cm[1, 1] + cm[1, 0])  # True Positive Rate (Recall)\n",
    "    tnr = cm[0, 0] / (cm[0, 0] + cm[0, 1])  # True Negative Rate\n",
    "    balanced_acc = 0.5 * (tpr + tnr)\n",
    "    return balanced_acc"
   ]
  },
  {
   "cell_type": "code",
   "execution_count": null,
   "metadata": {},
   "outputs": [],
   "source": [
    "def scores(array_ref,array_pred):\n",
    "    \n",
    "    return print('', 'precision_test =',round(metrics.average_precision_score(array_ref, array_pred),4),'\\n',\n",
    "                     'accuracy_test =',round(metrics.accuracy_score(array_ref, array_pred),4),'\\n',\n",
    "                     'ARI_test =',round(adjusted_rand_score(array_ref, array_pred),4),'\\n', \n",
    "                    'Balanced_accuracy =',round(balanced_accuracy(array_ref, array_pred),4),'\\n',\n",
    "                    \"F1-score =\", round(metrics.f1_score(array_ref, array_pred),4))\n",
    "                    \n",
    "    "
   ]
  },
  {
   "cell_type": "code",
   "execution_count": null,
   "metadata": {},
   "outputs": [],
   "source": [
    "def eval_Gsearch(grid_search_objet,fonction_score,nbre_top):\n",
    "\n",
    "    indices_top = np.argsort(grid_search_objet.cv_results_['mean_test_'+fonction_score])[::-1][:nbre_top]\n",
    "    top_score=[grid_search_objet.cv_results_['mean_test_'+fonction_score][i] for i in indices_top]\n",
    "    top_score_params=[grid_search_objet.cv_results_['params'][i] for i in indices_top]\n",
    "    \n",
    "    for rank, (params, score) in enumerate(zip(top_score_params, top_score), start=1):\n",
    "        print(f\"Rank {rank}: Params = {params}, Mean {fonction_score} = {score:.4f}\")\n",
    "    "
   ]
  },
  {
   "cell_type": "code",
   "execution_count": null,
   "metadata": {},
   "outputs": [],
   "source": [
    "def eval_Gsearch_uniscore(grid_search_objet,nbre_top):\n",
    "\n",
    "    indices_top = np.argsort(grid_search_objet.cv_results_['mean_test_score'])[::-1][:nbre_top]\n",
    "    top_score=[grid_search_objet.cv_results_['mean_test_score'][i] for i in indices_top]\n",
    "    top_score_params=[grid_search_objet.cv_results_['params'][i] for i in indices_top]\n",
    "    \n",
    "    for rank, (params, score) in enumerate(zip(top_score_params, top_score), start=1):\n",
    "        print(f\"Rank {rank}: Params = {params}, Mean score = {score:.4f}\")"
   ]
  },
  {
   "cell_type": "code",
   "execution_count": null,
   "metadata": {},
   "outputs": [],
   "source": [
    "def heatmap_Gsearch(grid_search_objet,fonction_score,nbre_top,param1,param2):\n",
    "\n",
    "    def get_param_value(param_dict, param_name):\n",
    "        if isinstance(param_dict, dict):\n",
    "            return str(param_dict.get(param_name, ''))\n",
    "        return param_dict\n",
    "    \n",
    "    param1_values = [get_param_value(d, param1) for d in grid_search_objet.cv_results_['params']] \n",
    "    param2_values = [get_param_value(d, param2) for d in grid_search_objet.cv_results_['params']]\n",
    "\n",
    "\n",
    "    param1_values = [d[param1] for d in grid_search_objet.cv_results_['params']] \n",
    "    param2_values = [d[param2] for d in grid_search_objet.cv_results_['params']]\n",
    "    mean_test_scores = grid_search_objet.cv_results_['mean_test_'+fonction_score]\n",
    "\n",
    "    \n",
    "    df = pd.DataFrame({param1: param1_values, param2: param2_values, fonction_score: mean_test_scores})\n",
    "\n",
    "    \n",
    "    pivot_table = df.pivot_table(index=param1, columns=param2, values=fonction_score)\n",
    "\n",
    "    \n",
    "    plt.figure(figsize=(10, 6))\n",
    "    sns.heatmap(pivot_table, annot=True, fmt='.4f', cmap='coolwarm', cbar=True)\n",
    "    plt.title('Hyperparameter Heatmap')\n",
    "    plt.xlabel(param1)\n",
    "    plt.ylabel(param2)\n",
    "    return plt.show()"
   ]
  },
  {
   "cell_type": "code",
   "execution_count": null,
   "metadata": {},
   "outputs": [],
   "source": [
    "def heatmap_Gsearch_uniscore(grid_search_objet,nbre_top,param1,param2):\n",
    "\n",
    "    def get_param_value(param_dict, param_name):\n",
    "        if isinstance(param_dict, dict):\n",
    "            return str(param_dict.get(param_name, ''))\n",
    "        return param_dict\n",
    "    \n",
    "    param1_values = [get_param_value(d, param1) for d in grid_search_objet.cv_results_['params']] \n",
    "    param2_values = [get_param_value(d, param2) for d in grid_search_objet.cv_results_['params']]\n",
    "    mean_test_scores = grid_search_objet.cv_results_['mean_test_score']\n",
    "\n",
    "    \n",
    "    df = pd.DataFrame({param1: param1_values, param2: param2_values, 'score': mean_test_scores})\n",
    "\n",
    "    \n",
    "    pivot_table = df.pivot_table(index=param1, columns=param2, values='score')\n",
    "\n",
    "    \n",
    "    plt.figure(figsize=(10, 6))\n",
    "    sns.heatmap(pivot_table, annot=True, fmt='.4f', cmap='coolwarm', cbar=True)\n",
    "    plt.title('Hyperparameter Heatmap')\n",
    "    plt.xlabel(param1)\n",
    "    plt.ylabel(param2)\n",
    "    return plt.show()"
   ]
  },
  {
   "cell_type": "markdown",
   "metadata": {},
   "source": [
    "## 5: Fonctions cout"
   ]
  },
  {
   "cell_type": "code",
   "execution_count": null,
   "metadata": {},
   "outputs": [],
   "source": [
    "# définition d'une fonction de coût\n",
    "def recap_gain(valeur_pret,indic_pb_paie,tx_rdmt,tx_rcvrmt,détail):\n",
    "    temp=pd.DataFrame(index=valeur_pret.index)\n",
    "    if valeur_pret.min()<0:\n",
    "        temp['Prets']=(valeur_pret-valeur_pret.min()).copy()\n",
    "    else:\n",
    "        temp['Prets']=valeur_pret.copy()\n",
    "    \n",
    "    #indic_pb_paie : 0 si ok => gain=pret *tx_ rdmt, 1 si pb => perte=pret*(1-tx_rcvrmt)\n",
    "    temp['Gain']=(temp['Prets']*(1-indic_pb_paie)*tx_rdmt).copy()\n",
    "    temp['Perte']=-(temp['Prets']*indic_pb_paie*(1-tx_rcvrmt)).copy()\n",
    "\n",
    "    rdmt_ptf=(temp['Gain'].sum()+temp['Perte'].sum())/temp['Prets'].sum()\n",
    "\n",
    "    if détail==1:           \n",
    "        print('Valeur des prêts =',round(temp['Prets'].sum(),2))\n",
    "        print('Gain de rendement des prêts remboursés =',round(temp['Gain'].sum(),2))\n",
    "        print('Perte liées aux prêts non remboursés =',round(temp['Perte'].sum(),2)) \n",
    "        print('Rendement global (Gain-Perte)/Valeur =',round(rdmt_ptf,4)*100,'%')\n",
    "\n",
    "    elif détail==2:\n",
    "        return temp\n",
    "\n",
    "    elif détail==0:\n",
    "        return [round(temp['Prets'].sum(),2),round(temp['Gain'].sum(),2),round(temp['Perte'].sum(),2),round(rdmt_ptf,4)*100]"
   ]
  },
  {
   "cell_type": "code",
   "execution_count": null,
   "metadata": {},
   "outputs": [],
   "source": [
    "# def recap_gain(valeur_pret,indic_pb_paie,tx_rdmt,tx_rcvrmt):\n",
    "#     temp=pd.DataFrame(index=valeur_pret.index)\n",
    "#     if valeur_pret.min()<0:\n",
    "#         temp['Prets']=(valeur_pret-valeur_pret.min()).copy()\n",
    "#     else:\n",
    "#         temp['Prets']=valeur_pret.copy()\n",
    "    \n",
    "#     #indic_pb_paie : 0 si ok => gain=pret *tx_ rdmt, 1 si pb => perte=pret*(1-tx_rcvrmt)\n",
    "#     temp['Gain']=(temp['Prets']*(1-indic_pb_paie)*tx_rdmt).copy()\n",
    "#     temp['Perte']=-(temp['Prets']*indic_pb_paie*(1-tx_rcvrmt)).copy()\n",
    "                   \n",
    "#     rdmt_ptf=(temp['Gain'].sum()+temp['Perte'].sum())/temp['Prets'].sum()\n",
    "#     return round(rdmt_ptf,4)*100"
   ]
  },
  {
   "cell_type": "code",
   "execution_count": null,
   "metadata": {},
   "outputs": [],
   "source": [
    "# cout algorithmique diff entré réalité et modèle\n",
    "def cout_algo(valeur_pret,indic_reel,indic_pred,tx_rdmt,tx_rcvrmt,quantile_seuil,détail):\n",
    "\n",
    "    # valeur_pret: colonne des valeurs de prets\n",
    "    # indic_reel: colonne des 0/1 \"TARGET\"\n",
    "    # indic_pred: colonne des 0/1 issus du modèle\n",
    "    # tx_rdmt: tx de rendement sur un pret remboursé\n",
    "    # tx_rcvrmt: tx de recouvrement d'un pret mal remboursé\n",
    "    # quantile_seuil: quantile en dessous duquel tous les prets sont autorisés. 0 indique que flag 1 du modèle = non accordé dans tous les cas\n",
    "    # détail: niveau de détail de sortie: 2= dataframe,1=print,0=bracket valeurs\n",
    "    \n",
    "    temp=pd.DataFrame(index=valeur_pret.index)\n",
    "    if valeur_pret.min()<0:\n",
    "        temp['Prets']=(valeur_pret-valeur_pret.min()).copy()\n",
    "    else:\n",
    "        temp['Prets']=valeur_pret.copy()\n",
    "    \n",
    "    temp['reel']=indic_reel\n",
    "    temp['pred']=indic_pred\n",
    "    \n",
    "    temp['TP']=(temp['Prets']*(1-temp['reel'])*(1-temp['pred'])*tx_rdmt).copy() # tx_rdmt ssi reel et pred de 0\n",
    "    temp['FN']=-(temp['Prets']*(temp['reel'])*(1-temp['pred'])*(1-tx_rcvrmt)).copy() # perte de -x*(1-rcvrmt) ssi reel 1 et pred de 0 (accordé à tort)\n",
    "    temp['FP']=((1-temp['reel'])*(temp['pred'])*np.where(temp['Prets']<=np.quantile(temp['Prets'],quantile_seuil),temp['Prets']*tx_rdmt,0)).copy()\n",
    "    temp['TN']=((temp['reel'])*(temp['pred'])*np.where(temp['Prets']<=np.quantile(temp['Prets'],quantile_seuil),-temp['Prets']*(1-tx_rcvrmt),0))\n",
    "\n",
    "    rdmt_ptf=(temp[['TP','FP']].sum().sum()+temp[['TN','FN']].sum().sum())/temp['Prets'].sum()\n",
    "\n",
    "    if détail==1:             \n",
    "        print('Valeur des prêts accordés =',round(temp['Prets'].sum(),2))\n",
    "        print('Gain de rendement des prêts prédits remboursés =',round(temp[['TP','FP']].sum().sum(),2))\n",
    "        print('Perte liées aux prêts prédits non remboursés =',round(temp[['TN','FN']].sum().sum(),2))\n",
    "        print('Rendement global prédit (Gain-Perte)/Valeur =',round(rdmt_ptf,4)*100,'%')\n",
    "    elif détail==2:\n",
    "        return temp\n",
    "    else:\n",
    "        return [round(temp['Prets'].sum(),2),round(temp[['TP','FP']].sum().sum(),2),round(temp[['TN','FN']].sum().sum(),2),round(rdmt_ptf,4)*100]\n",
    "\n",
    "    "
   ]
  },
  {
   "cell_type": "code",
   "execution_count": null,
   "metadata": {},
   "outputs": [],
   "source": [
    "def cout_algo_2(valeur_pret,indic_reel,indic_pred,tx_rdmt,tx_rcvrmt,quantile_seuil,détail):\n",
    "\n",
    "\n",
    "\n",
    "    # valeur_pret: colonne des valeurs de prets\n",
    "    # indic_reel: colonne des 0/1 \"TARGET\"\n",
    "    # indic_pred: colonne des 0/1 issus du modèle\n",
    "    # tx_rdmt: tx de rendement sur un pret remboursé\n",
    "    # tx_rcvrmt: tx de recouvrement d'un pret mal remboursé\n",
    "    # quantile_seuil: quantile en dessous duquel tous les prets sont autorisés. 0 indique que flag 1 du modèle = non accordé dans tous les cas\n",
    "    # détail: niveau de détail de sortie: 2= dataframe,1=print,0=bracket valeurs\n",
    "    \n",
    "    temp=pd.DataFrame(index=indic_reel.index)\n",
    "    if valeur_pret.min()<0:\n",
    "        temp['Prets']=(valeur_pret-valeur_pret.min()).copy()\n",
    "    else:\n",
    "        temp['Prets']=valeur_pret.copy()\n",
    "    \n",
    "    temp['reel']=indic_reel\n",
    "    temp['pred']=indic_pred\n",
    "    \n",
    "    temp['TP']=(temp['Prets']*(1-temp['reel'])*(1-temp['pred'])*tx_rdmt).copy() # tx_rdmt ssi reel et pred de 0\n",
    "    temp['FN']=-(temp['Prets']*(temp['reel'])*(1-temp['pred'])*(1-tx_rcvrmt)).copy() # perte de -x*(1-rcvrmt) ssi reel 1 et pred de 0 (accordé à tort)\n",
    "    temp['FP']=((1-temp['reel'])*(temp['pred'])*np.where(temp['Prets']<=np.quantile(temp['Prets'],quantile_seuil),temp['Prets']*tx_rdmt,0)).copy()\n",
    "    temp['TN']=((temp['reel'])*(temp['pred'])*np.where(temp['Prets']<=np.quantile(temp['Prets'],quantile_seuil),-temp['Prets']*(1-tx_rcvrmt),0))\n",
    "\n",
    "    rdmt_ptf=(temp[['TP','FP']].sum().sum()+temp[['TN','FN']].sum().sum())/temp['Prets'].sum()\n",
    "\n",
    "    if détail==1:             \n",
    "        print('Valeur des prêts accordés =',round(temp['Prets'].sum(),2))\n",
    "        print('Gain de rendement des prêts prédits remboursés =',round(temp[['TP','FP']].sum().sum(),2))\n",
    "        print('Perte liées aux prêts prédits non remboursés =',round(temp[['TN','FN']].sum().sum(),2))\n",
    "        print('Rendement global prédit (Gain-Perte)/Valeur =',round(rdmt_ptf,4)*100,'%')\n",
    "    elif détail==2:\n",
    "        return temp\n",
    "    else:\n",
    "        return [round(temp['Prets'].sum(),2),round(temp[['TP','FP']].sum().sum(),2),round(temp[['TN','FN']].sum().sum(),2),round(rdmt_ptf,4)*100]"
   ]
  },
  {
   "cell_type": "code",
   "execution_count": null,
   "metadata": {},
   "outputs": [],
   "source": [
    "def cout_algo_temp(y_true,y_pred):\n",
    "    return cout_algo_2(X_train_100.loc[id_random,'AMT_CREDIT'],y_true,y_pred,0.1,0.3,0,0)[3]"
   ]
  },
  {
   "cell_type": "code",
   "execution_count": null,
   "metadata": {},
   "outputs": [],
   "source": [
    "cout_algo_score = metrics.make_scorer(cout_algo_temp, greater_is_better=True)"
   ]
  },
  {
   "cell_type": "markdown",
   "metadata": {},
   "source": [
    "### Rdmt ptf de training:"
   ]
  },
  {
   "cell_type": "code",
   "execution_count": null,
   "metadata": {},
   "outputs": [],
   "source": [
    "recap_gain(base.loc[y_train_0.index,'AMT_CREDIT'],base.loc[y_train_0.index,'TARGET'],tx_rdmt=0.1,tx_rcvrmt=0.3,détail=1)"
   ]
  },
  {
   "cell_type": "markdown",
   "metadata": {},
   "source": [
    "### Gain/perte unitaire\n"
   ]
  },
  {
   "cell_type": "code",
   "execution_count": null,
   "metadata": {},
   "outputs": [],
   "source": [
    "def gain_unit(x,valeur_pret,indic_pb_paie,tx_rdmt,tx_rcvrmt):\n",
    "    temp=pd.DataFrame(index=[x])\n",
    "    if valeur_pret.min()<0:\n",
    "        temp['Prets']=(valeur_pret[x]-valeur_pret.min()).copy()\n",
    "    else:\n",
    "        temp['Prets']=valeur_pret[x].copy()\n",
    "    \n",
    "    #indic_pb_paie : 0 si ok => gain=pret *tx_ rdmt, 1 si pb => perte=pret*(1-tx_rcvrmt)\n",
    "    temp['Gain']=(temp['Prets']*(1-indic_pb_paie)*tx_rdmt).copy()\n",
    "    temp['Perte']=(temp['Prets']*indic_pb_paie*(1-tx_rcvrmt)).copy()\n",
    "                   \n",
    "    print('Valeur des prêts =',round(temp['Prets'].sum(),2))\n",
    "    print('Gain de rendement des prêts remboursés =',round(temp['Gain'].sum(),3))\n",
    "    print('Perte liées aux prêts non remboursés =',round(temp['Perte'].sum(),3))\n",
    "    rdmt_ptf=(temp['Gain'].sum()-temp['Perte'].sum())/temp['Prets'].sum()\n",
    "    print('Rendement global (Gain-Perte)/Valeur =',round(rdmt_ptf,4)*100,'%')"
   ]
  },
  {
   "cell_type": "code",
   "execution_count": null,
   "metadata": {},
   "outputs": [],
   "source": [
    "gain_unit(198983,base.loc[y_train_0.index,'AMT_CREDIT'],base.loc[y_train_0.index,'TARGET'],0.1,0.3)"
   ]
  },
  {
   "cell_type": "code",
   "execution_count": null,
   "metadata": {},
   "outputs": [],
   "source": [
    "gain_unit(414513,base.loc[:,'AMT_CREDIT'],base.loc[:,'TARGET'],0.1,0.3)"
   ]
  },
  {
   "cell_type": "code",
   "execution_count": null,
   "metadata": {},
   "outputs": [],
   "source": [
    "base_futur.head()"
   ]
  },
  {
   "cell_type": "markdown",
   "metadata": {},
   "source": [
    "# Modèles de classification"
   ]
  },
  {
   "cell_type": "markdown",
   "metadata": {},
   "source": [
    "## dummy"
   ]
  },
  {
   "cell_type": "code",
   "execution_count": null,
   "metadata": {},
   "outputs": [],
   "source": [
    "dummy_clf= DummyClassifier(strategy='most_frequent')\n",
    "\n",
    "temps1 = time.time()\n",
    "dummy_clf.fit(X_train_0,y_train_0)\n",
    "duration1=time.time()-temps1\n",
    "print(\"temps de training \", \"%5.2f\" % duration1, \"secondes\")\n",
    "y_pred_0_dummyfreq = dummy_clf.predict(X_test_0)"
   ]
  },
  {
   "cell_type": "code",
   "execution_count": null,
   "metadata": {},
   "outputs": [],
   "source": [
    "scores(y_test_0, y_pred_0_dummyfreq)\n"
   ]
  },
  {
   "cell_type": "code",
   "execution_count": null,
   "metadata": {},
   "outputs": [],
   "source": [
    "dummy_clf= DummyClassifier(strategy='stratified')\n",
    "\n",
    "temps1 = time.time()\n",
    "dummy_clf.fit(X_train_0,y_train_0)\n",
    "duration1=time.time()-temps1\n",
    "print(\"temps de training \", \"%5.2f\" % duration1, \"secondes\")\n",
    "y_pred_0_dummystrat = dummy_clf.predict(X_test_0)"
   ]
  },
  {
   "cell_type": "code",
   "execution_count": null,
   "metadata": {},
   "outputs": [],
   "source": [
    "scores(y_test_0,y_pred_0_dummystrat)"
   ]
  },
  {
   "cell_type": "code",
   "execution_count": null,
   "metadata": {},
   "outputs": [],
   "source": [
    "display(pd.crosstab(y_test_0,y_pred_0_dummystrat,normalize='index').round(3),\n",
    "        pd.crosstab(y_test_0,y_pred_0_dummystrat).round(3)\n",
    ")"
   ]
  },
  {
   "cell_type": "code",
   "execution_count": null,
   "metadata": {},
   "outputs": [],
   "source": [
    "recap_gain_txt(base.loc[y_test_0.index,'AMT_CREDIT'],y_pred_0_dummystrat,0.1,0.3)"
   ]
  },
  {
   "cell_type": "code",
   "execution_count": null,
   "metadata": {},
   "outputs": [],
   "source": [
    "y_test_0.index"
   ]
  },
  {
   "cell_type": "code",
   "execution_count": null,
   "metadata": {},
   "outputs": [],
   "source": [
    "gain_unit(108234,base.loc[y_test_0.index,'AMT_CREDIT'],pd.Series(y_pred_0_dummystrat,index=y_test_0.index),0.1,0.3)"
   ]
  },
  {
   "cell_type": "code",
   "execution_count": null,
   "metadata": {},
   "outputs": [],
   "source": [
    "dummy_clf= DummyClassifier(strategy='most_frequent')\n",
    "\n",
    "temps1 = time.time()\n",
    "dummy_clf.fit(X_train_100,y_train_0)\n",
    "duration1=time.time()-temps1\n",
    "print(\"temps de training \", \"%5.2f\" % duration1, \"secondes\")\n",
    "y_pred_100_dummyfreq = dummy_clf.predict(X_test_100)"
   ]
  },
  {
   "cell_type": "code",
   "execution_count": null,
   "metadata": {},
   "outputs": [],
   "source": [
    "scores(y_test_0, y_pred_100_dummyfreq)\n"
   ]
  },
  {
   "cell_type": "code",
   "execution_count": null,
   "metadata": {},
   "outputs": [],
   "source": [
    "dummy_clf= DummyClassifier(strategy='stratified')\n",
    "\n",
    "temps1 = time.time()\n",
    "dummy_clf.fit(X_train_100,y_train_0)\n",
    "duration1=time.time()-temps1\n",
    "print(\"temps de training \", \"%5.2f\" % duration1, \"secondes\")\n",
    "y_pred_100_dummystrat = dummy_clf.predict(X_test_100)"
   ]
  },
  {
   "cell_type": "code",
   "execution_count": null,
   "metadata": {},
   "outputs": [],
   "source": [
    "scores(y_test_0, y_pred_100_dummystrat)\n"
   ]
  },
  {
   "cell_type": "markdown",
   "metadata": {},
   "source": [
    "## kmeans"
   ]
  },
  {
   "cell_type": "code",
   "execution_count": null,
   "metadata": {},
   "outputs": [],
   "source": [
    "kmeans = KMeans(n_clusters=2,random_state=8)\n",
    "X_kmeans=base.loc[base['TARGET']>-1].drop('TARGET',axis=1)\n",
    "temps1 = time.time()\n",
    "kmeans.fit(X_kmeans)\n",
    "duration1=time.time()-temps1\n",
    "print(\"temps de training \", \"%5.2f\" % duration1, \"secondes\")\n",
    "kmeans_pred_0=pd.Series(kmeans.labels_,index=X_kmeans.index)\n"
   ]
  },
  {
   "cell_type": "code",
   "execution_count": null,
   "metadata": {},
   "outputs": [],
   "source": [
    "pd.crosstab(base.loc[base['TARGET']>-1,'TARGET'],kmeans_pred_0)"
   ]
  },
  {
   "cell_type": "code",
   "execution_count": null,
   "metadata": {},
   "outputs": [],
   "source": [
    "scores(base.loc[base['TARGET']>-1,'TARGET'],kmeans_pred)\n"
   ]
  },
  {
   "cell_type": "code",
   "execution_count": null,
   "metadata": {},
   "outputs": [],
   "source": [
    "kmeans = KMeans(n_clusters=2,random_state=8)\n",
    "X_kmeans=X_train_100\n",
    "temps1 = time.time()\n",
    "kmeans.fit(X_kmeans)\n",
    "duration1=time.time()-temps1\n",
    "print(\"temps de training \", \"%5.2f\" % duration1, \"secondes\")\n",
    "kmeans_pred_100=pd.Series(kmeans.labels_,index=X_kmeans.index)"
   ]
  },
  {
   "cell_type": "code",
   "execution_count": null,
   "metadata": {},
   "outputs": [],
   "source": [
    "np.unique(kmeans.labels_, return_counts=True)"
   ]
  },
  {
   "cell_type": "code",
   "execution_count": null,
   "metadata": {},
   "outputs": [],
   "source": [
    "# 0 et 1 du k_means sont atribués aléatoirements, attention"
   ]
  },
  {
   "cell_type": "code",
   "execution_count": null,
   "metadata": {},
   "outputs": [],
   "source": [
    "scores(y_train_0,1-kmeans_pred_100)\n"
   ]
  },
  {
   "cell_type": "code",
   "execution_count": null,
   "metadata": {},
   "outputs": [],
   "source": [
    "pd.crosstab(y_train_0,1-kmeans_pred_100)"
   ]
  },
  {
   "cell_type": "code",
   "execution_count": null,
   "metadata": {},
   "outputs": [],
   "source": [
    "recap_gain_txt(base.loc[y_train_0.index,'AMT_CREDIT'],1-kmeans_pred_100,0.1,0.3)"
   ]
  },
  {
   "cell_type": "markdown",
   "metadata": {},
   "source": [
    "## randomforest"
   ]
  },
  {
   "cell_type": "code",
   "execution_count": null,
   "metadata": {},
   "outputs": [],
   "source": [
    "with mlflow.start_run():\n",
    "    mlflow.log_param(\"max_depth\", 3)\n",
    "    clf = RandomForestClassifier(n_estimators=10,max_depth=3)\n",
    "    clf.fit(X_train,y_train)\n",
    "    y_pred = clf.predict(X_test)\n",
    "\n",
    "mlflow.end_run()"
   ]
  },
  {
   "cell_type": "code",
   "execution_count": null,
   "metadata": {},
   "outputs": [],
   "source": [
    "pd.crosstab(y_test,y_pred).round(3)"
   ]
  },
  {
   "cell_type": "code",
   "execution_count": null,
   "metadata": {},
   "outputs": [],
   "source": [
    "with mlflow.start_run():\n",
    "    mlflow.log_param(\"max_depth\", 4)\n",
    "    clf = RandomForestClassifier(n_estimators=30,max_depth=4)\n",
    "    clf.fit(X_train,y_train)\n",
    "    y_pred = clf.predict(X_test)\n",
    "\n",
    "mlflow.end_run()"
   ]
  },
  {
   "cell_type": "code",
   "execution_count": null,
   "metadata": {},
   "outputs": [],
   "source": [
    "pd.crosstab(y_test,y_pred).round(3)"
   ]
  },
  {
   "cell_type": "code",
   "execution_count": null,
   "metadata": {},
   "outputs": [],
   "source": [
    "with mlflow.start_run():\n",
    "    mlflow.log_param(\"max_depth\", 5)\n",
    "    clf = RandomForestClassifier(n_estimators=50,max_depth=5)\n",
    "    clf.fit(X_train,y_train)\n",
    "    y_pred = clf.predict(X_test)\n",
    "\n",
    "mlflow.end_run()"
   ]
  },
  {
   "cell_type": "code",
   "execution_count": null,
   "metadata": {},
   "outputs": [],
   "source": [
    "pd.crosstab(y_test,y_pred).round(3)"
   ]
  },
  {
   "cell_type": "code",
   "execution_count": null,
   "metadata": {},
   "outputs": [],
   "source": [
    "with mlflow.start_run():\n",
    "    mlflow.log_param(\"max_depth\", 6)\n",
    "    clf = RandomForestClassifier(n_estimators=50,max_depth=6)\n",
    "    clf.fit(X_train,y_train)\n",
    "    y_pred = clf.predict(X_test)\n",
    "    pd.crosstab(y_test,y_pred).round(3)\n",
    "\n",
    "mlflow.end_run()"
   ]
  },
  {
   "cell_type": "code",
   "execution_count": null,
   "metadata": {},
   "outputs": [],
   "source": [
    "pd.crosstab(y_test,y_pred).round(3)"
   ]
  },
  {
   "cell_type": "code",
   "execution_count": null,
   "metadata": {},
   "outputs": [],
   "source": [
    "with mlflow.start_run():\n",
    "    mlflow.log_param(\"max_depth\", 7)\n",
    "    clf = RandomForestClassifier(n_estimators=75,max_depth=7)\n",
    "    clf.fit(X_train,y_train)\n",
    "    y_pred = clf.predict(X_test)\n",
    "    pd.crosstab(y_test,y_pred).round(3)\n",
    "\n",
    "mlflow.end_run()"
   ]
  },
  {
   "cell_type": "code",
   "execution_count": null,
   "metadata": {},
   "outputs": [],
   "source": [
    "with mlflow.start_run():\n",
    "    mlflow.log_param(\"max_depth\", 8)\n",
    "    clf = RandomForestClassifier(n_estimators=75,max_depth=8)\n",
    "    clf.fit(X_train,y_train)\n",
    "    y_pred_8 = clf.predict(X_test)\n",
    "    display(pd.crosstab(y_test,y_pred_8).round(3))\n",
    "\n",
    "mlflow.end_run()"
   ]
  },
  {
   "cell_type": "markdown",
   "metadata": {},
   "source": [
    "## decision_tree_classifier"
   ]
  },
  {
   "cell_type": "code",
   "execution_count": null,
   "metadata": {},
   "outputs": [],
   "source": [
    "len(id_random)"
   ]
  },
  {
   "cell_type": "markdown",
   "metadata": {},
   "source": [
    "### fonction gridsearch pour decision tree"
   ]
  },
  {
   "cell_type": "code",
   "execution_count": null,
   "metadata": {},
   "outputs": [],
   "source": [
    "\n",
    "param_grid = {\n",
    "    'max_depth': [25,50,100,200,400,800,5000],\n",
    "    \n",
    "    \n",
    "}\n",
    "\n",
    "scoring_list = ['balanced_accuracy']\n",
    "\n",
    "# Create an instance of the model you want to tune (e.g., SVC)\n",
    "model = DecisionTreeClassifier()\n",
    "\n",
    "# Create a GridSearchCV object\n",
    "temps1 = time.time()\n",
    "grid_search = GridSearchCV(model, param_grid, cv=5, scoring='balanced_accuracy')\n",
    "duration1=time.time()-temps1\n",
    "print(\"temps de training \", \"%5.2f\" % duration1, \"secondes\")\n",
    "\n",
    "# Fit the grid search to your data\n",
    "grid_search.fit(X_train_0.loc[id_random], y_train_0.loc[id_random])\n",
    "\n",
    "# Print the best hyperparameters and corresponding score\n",
    "print(\"Best hyperparameters:\", grid_search.best_params_)\n",
    "print(\"Best cross-validation score:\", grid_search.best_score_)"
   ]
  },
  {
   "cell_type": "code",
   "execution_count": null,
   "metadata": {},
   "outputs": [],
   "source": [
    "csv_file = '1_outputs/gridsearch_decisiontree.csv'\n",
    "\n",
    "# Write the dictionary to a CSV file\n",
    "with open(csv_file, 'w', newline='') as csvfile:\n",
    "    writer = csv.writer(csvfile)\n",
    "    \n",
    "    # Write the header row (keys)\n",
    "    writer.writerow(['Key', 'Value'])\n",
    "    \n",
    "    # Write the data rows (key-value pairs)\n",
    "    for key, value in grid_search.cv_results_.items():\n",
    "        writer.writerow([key, value])"
   ]
  },
  {
   "cell_type": "code",
   "execution_count": null,
   "metadata": {},
   "outputs": [],
   "source": [
    "dict_test=pd.read_csv('1_outputs/gridsearch_decisiontree.csv')"
   ]
  },
  {
   "cell_type": "code",
   "execution_count": null,
   "metadata": {},
   "outputs": [],
   "source": [
    "# grid_search.cv_results_"
   ]
  },
  {
   "cell_type": "code",
   "execution_count": null,
   "metadata": {},
   "outputs": [],
   "source": [
    "grid_search.cv_results_.keys()"
   ]
  },
  {
   "cell_type": "code",
   "execution_count": null,
   "metadata": {},
   "outputs": [],
   "source": [
    "# indices_top_5_precision = np.argsort(grid_search.cv_results_['mean_test_precision'])[::-1][:5]\n",
    "# top_5_precision=[grid_search.cv_results_['mean_test_precision'][i] for i in indices_top_5_precision]\n",
    "# top_5_precision_params=[grid_search.cv_results_['params'][i] for i in indices_top_5_precision]\n",
    "\n"
   ]
  },
  {
   "cell_type": "code",
   "execution_count": null,
   "metadata": {},
   "outputs": [],
   "source": [
    "# # Print the top 5 hyperparameter combinations, their 'params' values, and 'mean_test_accuracy'\n",
    "# for rank, (params, prec) in enumerate(zip(top_5_precision_params, top_5_precision), start=1):\n",
    "#     print(f\"Rank {rank}: Params = {params}, Mean Test Accuracy = {prec:.4f}\")"
   ]
  },
  {
   "cell_type": "code",
   "execution_count": null,
   "metadata": {},
   "outputs": [],
   "source": [
    "eval_Gsearch_uniscore(grid_search,20)#,eval_Gsearch(grid_search,'recall',5),eval_Gsearch(grid_search,'accuracy',5)"
   ]
  },
  {
   "cell_type": "code",
   "execution_count": null,
   "metadata": {},
   "outputs": [],
   "source": [
    "#heatmap_Gsearch(grid_search,'balanced_accuracy',20,'max_depth','max_features')"
   ]
  },
  {
   "cell_type": "code",
   "execution_count": null,
   "metadata": {},
   "outputs": [],
   "source": [
    "[d['max_depth'] for d in grid_search.cv_results_['params']]"
   ]
  },
  {
   "cell_type": "code",
   "execution_count": null,
   "metadata": {},
   "outputs": [],
   "source": [
    "\n",
    "duration1=time.time()-temps1\n",
    "print(\"temps de training \", \"%5.2f\" % duration1, \"secondes\")\n",
    "y_pred_dtclf_0=grid_search.predict(X_test_0)\n",
    "display(pd.crosstab(y_test_0,y_pred_dtclf_0).round(3),scores(y_test_0,y_pred_dtclf_0))\n"
   ]
  },
  {
   "cell_type": "code",
   "execution_count": null,
   "metadata": {},
   "outputs": [],
   "source": [
    "scores(y_test_0,y_pred_dtclf_0)"
   ]
  },
  {
   "cell_type": "code",
   "execution_count": null,
   "metadata": {},
   "outputs": [],
   "source": [
    "selected_params = {'criterion': 'gini', 'max_depth': 5, 'max_features': 600}\n",
    "\n",
    "model = DecisionTreeClassifier(criterion=selected_params['criterion'],\n",
    "                                max_depth=selected_params['max_depth'],\n",
    "                                  max_features=selected_params['max_features'])\n",
    "temps1 = time.time()\n",
    "model.fit(X_train_0.loc[id_random], y_train_0.loc[id_random])\n",
    "duration1=time.time()-temps1\n",
    "print(\"temps de training \", \"%5.2f\" % duration1, \"secondes\")\n",
    "y_pred_dtclf_0=model.predict(X_test_0)\n",
    "pd.crosstab(y_test_0,y_pred_dtclf_0).round(3)"
   ]
  },
  {
   "cell_type": "code",
   "execution_count": null,
   "metadata": {},
   "outputs": [],
   "source": [
    "pd.crosstab(y_test_0,y_pred_dtclf_0).round(3)"
   ]
  },
  {
   "cell_type": "code",
   "execution_count": null,
   "metadata": {},
   "outputs": [],
   "source": [
    "# 6 min\n",
    "\n",
    "# Create a decision tree classifier\n",
    "clf = DecisionTreeClassifier()\n",
    "\n",
    "# Fit the model to your training data\n",
    "temps1 = time.time()\n",
    "clf.fit(X_train_0, y_train_0)\n",
    "duration1=time.time()-temps1\n",
    "print(\"temps de training \", \"%5.2f\" % duration1, \"secondes\")\n",
    "\n",
    "# Make predictions on new data\n",
    "y_pred_0 = clf.predict(X_test_0)"
   ]
  },
  {
   "cell_type": "code",
   "execution_count": null,
   "metadata": {},
   "outputs": [],
   "source": [
    "pd.crosstab(y_test_0,y_pred_0).round(3)"
   ]
  },
  {
   "cell_type": "code",
   "execution_count": null,
   "metadata": {},
   "outputs": [],
   "source": [
    "scores(y_test_0,y_pred_0)"
   ]
  },
  {
   "cell_type": "code",
   "execution_count": null,
   "metadata": {},
   "outputs": [],
   "source": [
    "taille_sample=0.1\n",
    "id_random=np.array(random.sample(X_train_0.index.to_list(),round(taille_sample*X_train_0.shape[0])))\n",
    "y_train_0[id_random].value_counts()\n",
    "\n",
    "param_grid = {\n",
    "    'max_depth': [25,50,100,200,400,800,5000],    \n",
    "}\n",
    "\n",
    "scoring_list = ['balanced_accuracy']\n",
    "\n",
    "# Create an instance of the model you want to tune (e.g., SVC)\n",
    "model = DecisionTreeClassifier()\n",
    "\n",
    "# Create a GridSearchCV object\n",
    "temps1 = time.time()\n",
    "grid_search = GridSearchCV(model, param_grid, cv=5, scoring='balanced_accuracy')\n",
    "duration1=time.time()-temps1\n",
    "print(\"temps de training \", \"%5.2f\" % duration1, \"secondes\")\n",
    "\n",
    "# Fit the grid search to your data\n",
    "grid_search.fit(X_train_100.loc[id_random], y_train_0.loc[id_random])\n",
    "\n",
    "# Print the best hyperparameters and corresponding score\n",
    "print(\"Best hyperparameters:\", grid_search.best_params_)\n",
    "print(\"Best cross-validation score:\", grid_search.best_score_)"
   ]
  },
  {
   "cell_type": "code",
   "execution_count": null,
   "metadata": {},
   "outputs": [],
   "source": [
    "taille_sample=0.1\n",
    "id_random=np.array(random.sample(X_train_0.index.to_list(),round(taille_sample*X_train_0.shape[0])))\n",
    "y_train_0[id_random].value_counts()\n",
    "\n",
    "param_grid = {\n",
    "    'max_depth': [5000,10000,50000,100000],    \n",
    "}\n",
    "\n",
    "scoring_list = ['balanced_accuracy']\n",
    "\n",
    "# Create an instance of the model you want to tune (e.g., SVC)\n",
    "model = DecisionTreeClassifier()\n",
    "\n",
    "# Create a GridSearchCV object\n",
    "temps1 = time.time()\n",
    "grid_search2 = GridSearchCV(model, param_grid, cv=5, scoring='balanced_accuracy')\n",
    "duration1=time.time()-temps1\n",
    "print(\"temps de training \", \"%5.2f\" % duration1, \"secondes\")\n",
    "\n",
    "# Fit the grid search to your data\n",
    "grid_search2.fit(X_train_100.loc[id_random], y_train_0.loc[id_random])\n",
    "\n",
    "# Print the best hyperparameters and corresponding score\n",
    "print(\"Best hyperparameters:\", grid_search.best_params_)\n",
    "print(\"Best cross-validation score:\", grid_search.best_score_)"
   ]
  },
  {
   "cell_type": "code",
   "execution_count": null,
   "metadata": {},
   "outputs": [],
   "source": [
    "taille_sample=0.1\n",
    "id_random=np.array(random.sample(X_train_0.index.to_list(),round(taille_sample*X_train_0.shape[0])))\n",
    "y_train_0[id_random].value_counts()\n",
    "\n",
    "param_grid = {\n",
    "    'max_depth': [3000,3500,4000,4500,5500,6000],    \n",
    "}\n",
    "\n",
    "scoring_list = ['balanced_accuracy']\n",
    "\n",
    "# Create an instance of the model you want to tune (e.g., SVC)\n",
    "model = DecisionTreeClassifier()\n",
    "\n",
    "# Create a GridSearchCV object\n",
    "temps1 = time.time()\n",
    "grid_search2 = GridSearchCV(model, param_grid, cv=5, scoring='balanced_accuracy')\n",
    "duration1=time.time()-temps1\n",
    "print(\"temps de training \", \"%5.2f\" % duration1, \"secondes\")\n",
    "\n",
    "# Fit the grid search to your data\n",
    "grid_search2.fit(X_train_100.loc[id_random], y_train_0.loc[id_random])\n",
    "\n",
    "# Print the best hyperparameters and corresponding score\n",
    "print(\"Best hyperparameters:\", grid_search2.best_params_)\n",
    "print(\"Best cross-validation score:\", grid_search2.best_score_)"
   ]
  },
  {
   "cell_type": "code",
   "execution_count": null,
   "metadata": {},
   "outputs": [],
   "source": [
    "taille_sample=0.1\n",
    "id_random=np.array(random.sample(X_train_0.index.to_list(),round(taille_sample*X_train_0.shape[0])))\n",
    "y_train_0[id_random].value_counts()\n",
    "\n",
    "param_grid = {\n",
    "    'max_depth': [4900,4930,4960,4980,5020,5050,5075],    \n",
    "}\n",
    "\n",
    "scoring_list = ['balanced_accuracy']\n",
    "\n",
    "# Create an instance of the model you want to tune (e.g., SVC)\n",
    "model = DecisionTreeClassifier()\n",
    "\n",
    "# Create a GridSearchCV object\n",
    "temps1 = time.time()\n",
    "grid_search3 = GridSearchCV(model, param_grid, cv=5, scoring='balanced_accuracy')\n",
    "duration1=time.time()-temps1\n",
    "print(\"temps de training \", \"%5.2f\" % duration1, \"secondes\")\n",
    "\n",
    "# Fit the grid search to your data\n",
    "grid_search3.fit(X_train_100.loc[id_random], y_train_0.loc[id_random])\n",
    "\n",
    "# Print the best hyperparameters and corresponding score\n",
    "print(\"Best hyperparameters:\", grid_search.best_params_)\n",
    "print(\"Best cross-validation score:\", grid_search.best_score_)"
   ]
  },
  {
   "cell_type": "code",
   "execution_count": null,
   "metadata": {},
   "outputs": [],
   "source": [
    "# Print the best hyperparameters and corresponding score\n",
    "print(\"Best hyperparameters:\", grid_search3.best_params_)\n",
    "print(\"Best cross-validation score:\", grid_search3.best_score_)"
   ]
  },
  {
   "cell_type": "code",
   "execution_count": null,
   "metadata": {},
   "outputs": [],
   "source": [
    "# Print the best hyperparameters and corresponding score\n",
    "print(\"Best hyperparameters:\", grid_search2.best_params_)\n",
    "print(\"Best cross-validation score:\", grid_search2.best_score_)"
   ]
  },
  {
   "cell_type": "code",
   "execution_count": null,
   "metadata": {},
   "outputs": [],
   "source": [
    "taille_sample=0.1\n",
    "id_random=np.array(random.sample(X_train_0.index.to_list(),round(taille_sample*X_train_0.shape[0])))\n",
    "y_train_0[id_random].value_counts()\n",
    "\n",
    "param_grid = {\n",
    "    'max_depth': range(3500,5000,100),    \n",
    "}\n",
    "\n",
    "scoring_list = ['balanced_accuracy']\n",
    "\n",
    "# Create an instance of the model you want to tune (e.g., SVC)\n",
    "model = DecisionTreeClassifier()\n",
    "\n",
    "# Create a GridSearchCV object\n",
    "temps1 = time.time()\n",
    "grid_search4 = GridSearchCV(model, param_grid, cv=5, scoring='balanced_accuracy')\n",
    "duration1=time.time()-temps1\n",
    "print(\"temps de training \", \"%5.2f\" % duration1, \"secondes\")\n",
    "\n",
    "# Fit the grid search to your data\n",
    "grid_search4.fit(X_train_100.loc[id_random], y_train_0.loc[id_random])\n",
    "\n",
    "# Print the best hyperparameters and corresponding score\n",
    "print(\"Best hyperparameters:\", grid_search4.best_params_)\n",
    "print(\"Best cross-validation score:\", grid_search4.best_score_)"
   ]
  },
  {
   "cell_type": "code",
   "execution_count": null,
   "metadata": {},
   "outputs": [],
   "source": [
    "eval_Gsearch_uniscore(grid_search4,10)"
   ]
  },
  {
   "cell_type": "code",
   "execution_count": null,
   "metadata": {},
   "outputs": [],
   "source": [
    "grid_search4.cv_results_['mean_test_score']"
   ]
  },
  {
   "cell_type": "code",
   "execution_count": null,
   "metadata": {},
   "outputs": [],
   "source": [
    "sns.lineplot(x=range(3500,5000,100),y=grid_search4.cv_results_['mean_test_score'])\n",
    "plt.show()"
   ]
  },
  {
   "cell_type": "code",
   "execution_count": null,
   "metadata": {},
   "outputs": [],
   "source": [
    "taille_sample=0.05\n",
    "id_random=np.array(random.sample(X_train_0.index.to_list(),round(taille_sample*X_train_0.shape[0])))\n",
    "y_train_0[id_random].value_counts()\n",
    "\n",
    "\n",
    "class_weights = {\n",
    "    0: 1.0,  # Weight for class 0\n",
    "    1: 10.0  # Weight for class 1\n",
    "}\n",
    "\n",
    "param_grid = {\n",
    "    'max_depth': range(3500,7000,500),    \n",
    "}\n",
    "\n",
    "scoring_list = ['balanced_accuracy']\n",
    "\n",
    "# Create an instance of the model you want to tune (e.g., SVC)\n",
    "model = DecisionTreeClassifier(class_weight=class_weights)\n",
    "\n",
    "# Create a GridSearchCV object\n",
    "temps1 = time.time()\n",
    "grid_search9 = GridSearchCV(model, param_grid, cv=5, scoring='balanced_accuracy')\n",
    "duration1=time.time()-temps1\n",
    "print(\"temps de training \", \"%5.2f\" % duration1, \"secondes\")\n",
    "\n",
    "# Fit the grid search to your data\n",
    "grid_search9.fit(X_train_100.loc[id_random], y_train_0.loc[id_random])\n",
    "\n",
    "# Print the best hyperparameters and corresponding score\n",
    "print(\"Best hyperparameters:\", grid_search9.best_params_)\n",
    "print(\"Best cross-validation score:\", grid_search9.best_score_)\n",
    "\n"
   ]
  },
  {
   "cell_type": "code",
   "execution_count": null,
   "metadata": {},
   "outputs": [],
   "source": [
    "sns.lineplot(x=range(3500,7000,500),y=grid_search9.cv_results_['mean_test_score'])\n",
    "plt.show()"
   ]
  },
  {
   "cell_type": "code",
   "execution_count": null,
   "metadata": {},
   "outputs": [],
   "source": [
    "taille_sample=0.05\n",
    "id_random=np.array(random.sample(X_train_0.index.to_list(),round(taille_sample*X_train_0.shape[0])))\n",
    "y_train_0[id_random].value_counts()\n",
    "\n",
    "\n",
    "param_grid = {\n",
    "    'max_depth': range(3800,4600,100),\n",
    "    'class_weight' : [{0: 1.0, 1: 5.0},{0: 1.0, 1: 10.0},{0: 1.0, 1: 20.0},{0: 1.0, 1: 30.0}]   \n",
    "}\n",
    "\n",
    "scoring_list = ['balanced_accuracy']\n",
    "\n",
    "# Create an instance of the model you want to tune (e.g., SVC)\n",
    "model = DecisionTreeClassifier()\n",
    "\n",
    "# Create a GridSearchCV object\n",
    "temps1 = time.time()\n",
    "grid_search10 = GridSearchCV(model, param_grid, cv=5, scoring='balanced_accuracy')\n",
    "duration1=time.time()-temps1\n",
    "print(\"temps de training \", \"%5.2f\" % duration1, \"secondes\")\n",
    "\n",
    "# Fit the grid search to your data\n",
    "grid_search10.fit(X_train_100.loc[id_random], y_train_0.loc[id_random])\n",
    "\n",
    "# Print the best hyperparameters and corresponding score\n",
    "print(\"Best hyperparameters:\", grid_search10.best_params_)\n",
    "print(\"Best cross-validation score:\", grid_search10.best_score_)\n"
   ]
  },
  {
   "cell_type": "code",
   "execution_count": null,
   "metadata": {},
   "outputs": [],
   "source": [
    "taille_sample=0.2\n",
    "id_random=np.array(random.sample(X_train_0.index.to_list(),round(taille_sample*X_train_0.shape[0])))\n",
    "y_train_0[id_random].value_counts()\n",
    "\n",
    "\n",
    "param_grid = {\n",
    "    'max_depth': range(4200,4700,100),\n",
    "    'class_weight' : [{0: 1.0, 1: 5.0},{0: 1.0, 1: 8.0},{0: 1.0, 1: 10.0},{0: 1.0, 1: 12.0}]   \n",
    "}\n",
    "\n",
    "scoring_list = ['balanced_accuracy']\n",
    "\n",
    "# Create an instance of the model you want to tune (e.g., SVC)\n",
    "model = DecisionTreeClassifier()\n",
    "\n",
    "# Create a GridSearchCV object\n",
    "temps1 = time.time()\n",
    "grid_search11 = GridSearchCV(model, param_grid, cv=5, scoring='balanced_accuracy')\n",
    "duration1=time.time()-temps1\n",
    "print(\"temps de training \", \"%5.2f\" % duration1, \"secondes\")\n",
    "\n",
    "# Fit the grid search to your data\n",
    "grid_search11.fit(X_train_100.loc[id_random], y_train_0.loc[id_random])\n",
    "\n",
    "# Print the best hyperparameters and corresponding score\n",
    "print(\"Best hyperparameters:\", grid_search11.best_params_)\n",
    "print(\"Best cross-validation score:\", grid_search11.best_score_)"
   ]
  },
  {
   "cell_type": "code",
   "execution_count": null,
   "metadata": {},
   "outputs": [],
   "source": [
    "grid_search11.cv_results_['mean_test_score']"
   ]
  },
  {
   "cell_type": "code",
   "execution_count": null,
   "metadata": {},
   "outputs": [],
   "source": [
    "sns.lineplot(x=range(3800,4600,100),y=grid_search11.cv_results_['mean_test_score'])\n",
    "plt.show()"
   ]
  },
  {
   "cell_type": "code",
   "execution_count": null,
   "metadata": {},
   "outputs": [],
   "source": [
    "taille_sample=1\n",
    "id_random=np.array(random.sample(X_train_0.index.to_list(),round(taille_sample*X_train_0.shape[0])))\n",
    "y_train_0[id_random].value_counts()\n",
    "\n",
    "\n",
    "param_grid = {\n",
    "    'max_depth': [4500],\n",
    "    'class_weight' : [{0: 1.0, 1: 8.0},{0: 1.0, 1: 10.0},{0: 1.0, 1: 12.0}]    \n",
    "}\n",
    "\n",
    "scoring_list = ['accuracy','balanced_accuracy']\n",
    "\n",
    "# Create an instance of the model you want to tune (e.g., SVC)\n",
    "model = DecisionTreeClassifier()\n",
    "\n",
    "# Create a GridSearchCV object\n",
    "temps1 = time.time()\n",
    "grid_search12 = GridSearchCV(model, param_grid, cv=5, scoring=scoring_list,refit=False)\n",
    "duration1=time.time()-temps1\n",
    "print(\"temps de training \", \"%5.2f\" % duration1, \"secondes\")\n",
    "\n",
    "# Fit the grid search to your data\n",
    "grid_search12.fit(X_train_100.loc[id_random], y_train_0.loc[id_random])\n"
   ]
  },
  {
   "cell_type": "code",
   "execution_count": null,
   "metadata": {},
   "outputs": [],
   "source": [
    "grid_search12.cv_results_['params']"
   ]
  },
  {
   "cell_type": "code",
   "execution_count": null,
   "metadata": {},
   "outputs": [],
   "source": [
    "grid_search12.cv_results_['mean_test_accuracy'],grid_search12.cv_results_['mean_test_balanced_accuracy']"
   ]
  },
  {
   "cell_type": "code",
   "execution_count": null,
   "metadata": {},
   "outputs": [],
   "source": [
    "from sklearn.tree import DecisionTreeClassifier, plot_tree"
   ]
  },
  {
   "cell_type": "code",
   "execution_count": null,
   "metadata": {},
   "outputs": [],
   "source": [
    "taille_sample=0.3\n",
    "id_random=np.array(random.sample(X_train_0.index.to_list(),round(taille_sample*X_train_0.shape[0])))\n",
    "\n",
    "model_tree = DecisionTreeClassifier( max_depth=10,\n",
    "                                class_weight = {0: 1.0, 1: 8.0})\n",
    "temps1 = time.time()\n",
    "model_tree.fit(X_train_100.loc[id_random], y_train_0.loc[id_random])\n",
    "duration1=time.time()-temps1\n",
    "print(\"temps de training \", \"%5.2f\" % duration1, \"secondes\")\n",
    "y_pred_tree=model_tree.predict(X_test_100)\n",
    "pd.crosstab(y_test_0,y_pred_tree).round(3)"
   ]
  },
  {
   "cell_type": "code",
   "execution_count": null,
   "metadata": {},
   "outputs": [],
   "source": [
    "scores(y_test_0,y_pred_tree)"
   ]
  },
  {
   "cell_type": "code",
   "execution_count": null,
   "metadata": {},
   "outputs": [],
   "source": []
  },
  {
   "cell_type": "code",
   "execution_count": null,
   "metadata": {},
   "outputs": [],
   "source": []
  },
  {
   "cell_type": "code",
   "execution_count": null,
   "metadata": {},
   "outputs": [],
   "source": [
    "\n",
    "# Export the tree to DOT format\n",
    "dot_data = export_graphviz(\n",
    "    model_tree, \n",
    "    out_file=None, \n",
    "    feature_names=X_train_100.columns, \n",
    "    class_names=True, \n",
    "    filled=True, \n",
    "    rounded=True\n",
    ")\n",
    "\n",
    "# Render the tree using Graphviz\n",
    "graph = graphviz.Source(dot_data)\n",
    "graph.render(\"decision_tree\")  # Save the rendered tree to a file\n",
    "graph.view()  # Open the rendered tree in the default viewer\n"
   ]
  },
  {
   "cell_type": "code",
   "execution_count": null,
   "metadata": {},
   "outputs": [],
   "source": [
    "taille_sample=0.3\n",
    "id_random=np.array(random.sample(X_train_0.index.to_list(),round(taille_sample*X_train_0.shape[0])))\n",
    "y_train_0[id_random].value_counts()\n",
    "\n",
    "\n",
    "param_grid = {\n",
    "    'max_depth': range(3,15,1),\n",
    "    'class_weight' : [{0: 1.0, 1: 8.0}]    \n",
    "}\n",
    "\n",
    "# Create an instance of the model you want to tune (e.g., SVC)\n",
    "model = DecisionTreeClassifier()\n",
    "\n",
    "# Create a GridSearchCV object\n",
    "temps1 = time.time()\n",
    "grid_search13 = GridSearchCV(model, param_grid, cv=5, scoring='balanced_accuracy')\n",
    "duration1=time.time()-temps1\n",
    "print(\"temps de training \", \"%5.2f\" % duration1, \"secondes\")\n",
    "\n",
    "# Fit the grid search to your data\n",
    "grid_search13.fit(X_train_100.loc[id_random], y_train_0.loc[id_random])"
   ]
  },
  {
   "cell_type": "code",
   "execution_count": null,
   "metadata": {},
   "outputs": [],
   "source": [
    "y_pred_gridtree=grid_search13.predict(X_test_100)"
   ]
  },
  {
   "cell_type": "code",
   "execution_count": null,
   "metadata": {},
   "outputs": [],
   "source": [
    "scores(y_test_0,y_pred_gridtree)"
   ]
  },
  {
   "cell_type": "code",
   "execution_count": null,
   "metadata": {},
   "outputs": [],
   "source": [
    "grid_search13.cv_results_['params'],grid_search13.cv_results_['mean_test_score']"
   ]
  },
  {
   "cell_type": "code",
   "execution_count": null,
   "metadata": {},
   "outputs": [],
   "source": [
    "taille_sample=0.3\n",
    "id_random=np.array(random.sample(X_train_0.index.to_list(),round(taille_sample*X_train_0.shape[0])))\n",
    "\n",
    "model_tree = DecisionTreeClassifier( max_depth=3,\n",
    "                                class_weight = {0: 1.0, 1: 8.0})\n",
    "temps1 = time.time()\n",
    "model_tree.fit(X_train_100.loc[id_random], y_train_0.loc[id_random])\n",
    "duration1=time.time()-temps1\n",
    "print(\"temps de training \", \"%5.2f\" % duration1, \"secondes\")\n",
    "y_pred_tree=model_tree.predict(X_test_100)\n",
    "pd.crosstab(y_test_0,y_pred_tree).round(3)\n",
    "\n",
    "\n",
    "# Export the tree to DOT format\n",
    "dot_data = export_graphviz(\n",
    "    model_tree, \n",
    "    out_file=None, \n",
    "    feature_names=X_train_100.columns, \n",
    "    class_names=True, \n",
    "    filled=True, \n",
    "    rounded=True\n",
    ")\n",
    "\n",
    "# Render the tree using Graphviz\n",
    "graph = graphviz.Source(dot_data)\n",
    "graph.render(\"decision_tree\")  # Save the rendered tree to a file\n",
    "graph.view()  # Open the rendered tree in the default viewer"
   ]
  },
  {
   "cell_type": "code",
   "execution_count": null,
   "metadata": {},
   "outputs": [],
   "source": [
    "taille_sample=0.3\n",
    "id_random=np.array(random.sample(X_train_0.index.to_list(),round(taille_sample*X_train_0.shape[0])))\n",
    "y_train_0[id_random].value_counts()\n",
    "\n",
    "\n",
    "param_grid = {\n",
    "    'max_depth': range(3,8,1),\n",
    "    'class_weight' : [{0: 1.0, 1: 8.0},{0: 1.0, 1: 3.0},{0: 1.0, 1: 20.0}]    \n",
    "}\n",
    "\n",
    "# Create an instance of the model you want to tune (e.g., SVC)\n",
    "model = DecisionTreeClassifier()\n",
    "\n",
    "# Create a GridSearchCV object\n",
    "temps1 = time.time()\n",
    "grid_search14 = GridSearchCV(model, param_grid, cv=5, scoring='balanced_accuracy')\n",
    "duration1=time.time()-temps1\n",
    "print(\"temps de training \", \"%5.2f\" % duration1, \"secondes\")\n",
    "\n",
    "# Fit the grid search to your data\n",
    "grid_search14.fit(X_train_100.loc[id_random], y_train_0.loc[id_random])\n",
    "\n",
    "y_pred_grid14=grid_search14.predict(X_test_100)"
   ]
  },
  {
   "cell_type": "code",
   "execution_count": null,
   "metadata": {},
   "outputs": [],
   "source": [
    "grid_search14.cv_results_['params'],grid_search14.cv_results_['mean_test_score']"
   ]
  },
  {
   "cell_type": "code",
   "execution_count": null,
   "metadata": {},
   "outputs": [],
   "source": [
    "heatmap_Gsearch_uniscore(grid_search14,20,'class_weight','max_depth')"
   ]
  },
  {
   "cell_type": "code",
   "execution_count": null,
   "metadata": {},
   "outputs": [],
   "source": [
    "scores(y_test_0,y_pred_grid14)"
   ]
  },
  {
   "cell_type": "code",
   "execution_count": null,
   "metadata": {},
   "outputs": [],
   "source": [
    "pd.crosstab(y_test_0,y_pred_grid14)"
   ]
  },
  {
   "cell_type": "code",
   "execution_count": null,
   "metadata": {},
   "outputs": [],
   "source": [
    "taille_sample=0.3\n",
    "id_random=np.array(random.sample(X_train_0.index.to_list(),round(taille_sample*X_train_0.shape[0])))\n",
    "\n",
    "model_tree = DecisionTreeClassifier( max_depth=7,\n",
    "                                class_weight = {0: 1.0, 1: 8.0})\n",
    "temps1 = time.time()\n",
    "model_tree.fit(X_train_100.loc[id_random], y_train_0.loc[id_random])\n",
    "duration1=time.time()-temps1\n",
    "print(\"temps de training \", \"%5.2f\" % duration1, \"secondes\")\n",
    "y_pred_tree=model_tree.predict(X_test_100)\n",
    "pd.crosstab(y_test_0,y_pred_tree).round(3)\n",
    "\n",
    "\n",
    "# Export the tree to DOT format\n",
    "dot_data = export_graphviz(\n",
    "    model_tree, \n",
    "    out_file=None, \n",
    "    feature_names=X_train_100.columns, \n",
    "    class_names=True, \n",
    "    filled=True, \n",
    "    rounded=True\n",
    ")\n",
    "\n",
    "# Render the tree using Graphviz\n",
    "graph = graphviz.Source(dot_data)\n",
    "graph.render(\"decision_tree\")  # Save the rendered tree to a file\n",
    "graph.view()  # Open the rendered tree in the default viewer"
   ]
  },
  {
   "cell_type": "code",
   "execution_count": null,
   "metadata": {},
   "outputs": [],
   "source": [
    "# Get the feature importances\n",
    "feature_tree = model_tree.feature_importances_\n",
    "\n",
    "# Now, you can associate the importances with the feature names if available\n",
    "feature_names = X_train_100.columns  # Assuming X_train is a DataFrame\n",
    "feature_tree_dict = dict(zip(feature_names, feature_tree))\n",
    "# Print or visualize the feature importances\n",
    "for feature, importance in sorted(feature_tree_dict.items(), key=lambda x: x[1], reverse=True)[:10]:\n",
    "    print(f\"{feature}: {importance:.4f}\")"
   ]
  },
  {
   "cell_type": "code",
   "execution_count": null,
   "metadata": {},
   "outputs": [],
   "source": [
    "def eval_Gsearch(grid_search_objet,fonction_score,nbre_top):\n",
    "\n",
    "    indices_top = np.argsort(grid_search_objet.cv_results_['mean_test_'+fonction_score])[::-1][:nbre_top]\n",
    "    top_score=[grid_search_objet.cv_results_['mean_test_'+fonction_score][i] for i in indices_top]\n",
    "    top_score_params=[grid_search_objet.cv_results_['params'][i] for i in indices_top]\n",
    "    \n",
    "    for rank, (params, score) in enumerate(zip(top_score_params, top_score), start=1):\n",
    "        print(f\"Rank {rank}: Params = {params}, Mean {fonction_score} = {score:.4f}\")"
   ]
  },
  {
   "cell_type": "code",
   "execution_count": null,
   "metadata": {},
   "outputs": [],
   "source": [
    "eval_Gsearch_uniscore(grid_search14,20)"
   ]
  },
  {
   "cell_type": "markdown",
   "metadata": {},
   "source": [
    "### essai en enelveant ext_source1_2_3 => var les plus importantes de trop loin"
   ]
  },
  {
   "cell_type": "code",
   "execution_count": null,
   "metadata": {},
   "outputs": [],
   "source": [
    "taille_sample=0.3\n",
    "id_random=np.array(random.sample(X_train_0.index.to_list(),round(taille_sample*X_train_0.shape[0])))\n",
    "y_train_0[id_random].value_counts()\n",
    "\n",
    "\n",
    "param_grid = {\n",
    "    'max_depth': range(3,8,1),\n",
    "    'class_weight' : [{0: 1.0, 1: 8.0},{0: 1.0, 1: 3.0},{0: 1.0, 1: 20.0}]    \n",
    "}\n",
    "\n",
    "# Create an instance of the model you want to tune (e.g., SVC)\n",
    "model = DecisionTreeClassifier()\n",
    "\n",
    "# Create a GridSearchCV object\n",
    "temps1 = time.time()\n",
    "grid_search15 = GridSearchCV(model, param_grid, cv=5, scoring='balanced_accuracy')\n",
    "duration1=time.time()-temps1\n",
    "print(\"temps de training \", \"%5.2f\" % duration1, \"secondes\")\n",
    "\n",
    "# Fit the grid search to your data\n",
    "grid_search15.fit(X_train_100.drop(['EXT_SOURCE_1','EXT_SOURCE_2','EXT_SOURCE_3'],axis=1).loc[id_random], y_train_0.loc[id_random])\n",
    "\n",
    "y_pred_grid15=grid_search15.predict(X_test_100.drop(['EXT_SOURCE_1','EXT_SOURCE_2','EXT_SOURCE_3'],axis=1))"
   ]
  },
  {
   "cell_type": "code",
   "execution_count": null,
   "metadata": {},
   "outputs": [],
   "source": [
    "y_pred_grid15=grid_search15.predict(X_test_100.drop(['EXT_SOURCE_1','EXT_SOURCE_2','EXT_SOURCE_3'],axis=1))"
   ]
  },
  {
   "cell_type": "code",
   "execution_count": null,
   "metadata": {},
   "outputs": [],
   "source": [
    "eval_Gsearch_uniscore(grid_search15,5)"
   ]
  },
  {
   "cell_type": "code",
   "execution_count": null,
   "metadata": {},
   "outputs": [],
   "source": [
    "scores(y_test_0,y_pred_grid15)"
   ]
  },
  {
   "cell_type": "code",
   "execution_count": null,
   "metadata": {},
   "outputs": [],
   "source": [
    "29/46,32/53"
   ]
  },
  {
   "cell_type": "markdown",
   "metadata": {},
   "source": [
    "### grid/série/graph types erreurs"
   ]
  },
  {
   "cell_type": "code",
   "execution_count": null,
   "metadata": {},
   "outputs": [],
   "source": [
    "df_result=pd.concat([y_test_0,pd.Series(y_pred_grid16,index=y_test_0.index,name='pred')],axis=1)\n",
    "df_result['erreurs']=list(zip(df_result['pred'],df_result['TARGET']))\n",
    "df_result"
   ]
  },
  {
   "cell_type": "code",
   "execution_count": null,
   "metadata": {},
   "outputs": [],
   "source": [
    "display(pd.crosstab(y_test_0,y_pred_grid16),pd.crosstab(y_test_0,y_pred_grid16,normalize='index').round(2))"
   ]
  },
  {
   "cell_type": "code",
   "execution_count": null,
   "metadata": {},
   "outputs": [],
   "source": [
    "sns.scatterplot(x=X_test_0['AMT_CREDIT'],y=X_test_0['AMT_INCOME_TOTAL'],hue=df_result['erreurs'])\n",
    "plt.show()"
   ]
  },
  {
   "cell_type": "code",
   "execution_count": null,
   "metadata": {},
   "outputs": [],
   "source": [
    "sns.displot(x=X_test_0['DAYS_EMPLOYED'], kind=\"kde\",hue=df_result['erreurs'])\n",
    "plt.show()"
   ]
  },
  {
   "cell_type": "code",
   "execution_count": null,
   "metadata": {},
   "outputs": [],
   "source": [
    "model=grid_search15.best_estimator_\n",
    "data=X_train_100.drop(['EXT_SOURCE_1','EXT_SOURCE_2','EXT_SOURCE_3'],axis=1)\n",
    "\n",
    "feature_tree_dict = dict(zip(data.columns, model.feature_importances_))\n",
    "# Print or visualize the feature importances\n",
    "for feature, importance in sorted(feature_tree_dict.items(), key=lambda x: x[1], reverse=True)[:10]:\n",
    "    print(f\"{feature}: {importance:.4f}\")"
   ]
  },
  {
   "cell_type": "markdown",
   "metadata": {},
   "source": [
    "## SVC"
   ]
  },
  {
   "cell_type": "code",
   "execution_count": null,
   "metadata": {},
   "outputs": [],
   "source": [
    "# SGD classifier"
   ]
  },
  {
   "cell_type": "markdown",
   "metadata": {},
   "source": [
    "## ada boost"
   ]
  },
  {
   "cell_type": "markdown",
   "metadata": {},
   "source": [
    "### test initial"
   ]
  },
  {
   "cell_type": "code",
   "execution_count": null,
   "metadata": {},
   "outputs": [],
   "source": [
    "ada = AdaBoostClassifier()\n",
    "\n",
    "# Fit the model to your training data\n",
    "ada.fit(X_train_0, y_train_0)\n",
    "\n",
    "# Make predictions on new data\n",
    "y_pred_ada = ada.predict(X_test_0)"
   ]
  },
  {
   "cell_type": "code",
   "execution_count": null,
   "metadata": {},
   "outputs": [],
   "source": [
    "scores(y_test_0,y_pred_ada)"
   ]
  },
  {
   "cell_type": "code",
   "execution_count": null,
   "metadata": {},
   "outputs": [],
   "source": [
    "pd.crosstab(y_test_0,y_pred_ada).round(3)"
   ]
  },
  {
   "cell_type": "markdown",
   "metadata": {},
   "source": [
    "### grid search learning rate n_estimator"
   ]
  },
  {
   "cell_type": "code",
   "execution_count": null,
   "metadata": {},
   "outputs": [],
   "source": [
    "\n",
    "param_grid = {\n",
    "    \n",
    "    'learning_rate':[0.1,0.5,1,2],\n",
    "    'n_estimators':[50,100,200]\n",
    "    \n",
    "    \n",
    "}\n",
    "\n",
    "scoring_list = ['balanced_accuracy']\n",
    "\n",
    "# Create an instance of the model you want to tune (e.g., SVC)\n",
    "model = AdaBoostClassifier(algorithm='SAMME')\n",
    "\n",
    "# Create a GridSearchCV object\n",
    "temps1 = time.time()\n",
    "grid_search = GridSearchCV(model, param_grid, cv=5, scoring='balanced_accuracy')\n",
    "duration1=time.time()-temps1\n",
    "print(\"temps de training \", \"%5.2f\" % duration1, \"secondes\")\n",
    "\n",
    "# Fit the grid search to your data\n",
    "grid_search.fit(X_train_0.loc[id_random], y_train_0.loc[id_random])\n",
    "\n",
    "# Print the best hyperparameters and corresponding score\n",
    "print(\"Best hyperparameters:\", grid_search.best_params_)\n",
    "print(\"Best cross-validation score:\", grid_search.best_score_)"
   ]
  },
  {
   "cell_type": "code",
   "execution_count": null,
   "metadata": {},
   "outputs": [],
   "source": [
    "heatmap_Gsearch_uniscore(grid_search,20,'learning_rate','n_estimators')"
   ]
  },
  {
   "cell_type": "code",
   "execution_count": null,
   "metadata": {},
   "outputs": [],
   "source": [
    "ada = AdaBoostClassifier(learning_rate=1, n_estimators=200)\n",
    "\n",
    "# Fit the model to your training data\n",
    "ada.fit(X_train_0.loc[id_random], y_train_0.loc[id_random])\n",
    "\n",
    "# Make predictions on new data\n",
    "y_pred_ada = ada.predict(X_test_0)"
   ]
  },
  {
   "cell_type": "code",
   "execution_count": null,
   "metadata": {},
   "outputs": [],
   "source": [
    "pd.crosstab(y_test_0,y_pred_ada).round(3)"
   ]
  },
  {
   "cell_type": "code",
   "execution_count": null,
   "metadata": {},
   "outputs": [],
   "source": [
    "scores(y_test_0,y_pred_ada)"
   ]
  },
  {
   "cell_type": "code",
   "execution_count": null,
   "metadata": {},
   "outputs": [],
   "source": [
    "ada = AdaBoostClassifier(learning_rate=1, n_estimators=300)\n",
    "\n",
    "# Fit the model to your training data\n",
    "ada.fit(X_train_0.loc[id_random], y_train_0.loc[id_random])\n",
    "#id_random à 10% du total\n",
    "# Make predictions on new data\n",
    "y_pred_ada2 = ada.predict(X_test_0)"
   ]
  },
  {
   "cell_type": "code",
   "execution_count": null,
   "metadata": {},
   "outputs": [],
   "source": [
    "scores(y_test_0,y_pred_ada2)"
   ]
  },
  {
   "cell_type": "code",
   "execution_count": null,
   "metadata": {},
   "outputs": [],
   "source": [
    "pd.crosstab(y_test_0,y_pred_ada2).round(3)"
   ]
  },
  {
   "cell_type": "code",
   "execution_count": null,
   "metadata": {},
   "outputs": [],
   "source": [
    "taille_sample=0.05\n",
    "id_random=np.array(random.sample(X_train_0.index.to_list(),round(taille_sample*X_train_0.shape[0])))\n",
    "\n",
    "ada = AdaBoostClassifier(learning_rate=1, n_estimators=500)\n",
    "\n",
    "# Fit the model to your training data\n",
    "ada.fit(X_train_100.loc[id_random], y_train_0.loc[id_random])\n",
    "#id_random à 10% du total\n",
    "# Make predictions on new data\n",
    "y_pred_ada3 = ada.predict(X_test_100)"
   ]
  },
  {
   "cell_type": "code",
   "execution_count": null,
   "metadata": {},
   "outputs": [],
   "source": [
    "scores(y_test_0,y_pred_ada3)"
   ]
  },
  {
   "cell_type": "code",
   "execution_count": null,
   "metadata": {},
   "outputs": [],
   "source": [
    "pd.crosstab(y_test_0,y_pred_ada3).round(3)"
   ]
  },
  {
   "cell_type": "code",
   "execution_count": null,
   "metadata": {},
   "outputs": [],
   "source": [
    "#2h avec 0.05% du train\n",
    "\n",
    "taille_sample=0.05\n",
    "id_random=np.array(random.sample(X_train_0.index.to_list(),round(taille_sample*X_train_0.shape[0])))\n",
    "\n",
    "ada = AdaBoostClassifier(learning_rate=1, n_estimators=10000)\n",
    "\n",
    "# Fit the model to your training data\n",
    "ada.fit(X_train_100.loc[id_random], y_train_0.loc[id_random])\n",
    "#id_random à 5% du total\n",
    "# Make predictions on new data\n",
    "y_pred_ada4 = ada.predict(X_test_100)"
   ]
  },
  {
   "cell_type": "code",
   "execution_count": null,
   "metadata": {},
   "outputs": [],
   "source": [
    "scores(y_test_0,y_pred_ada4)"
   ]
  },
  {
   "cell_type": "code",
   "execution_count": null,
   "metadata": {},
   "outputs": [],
   "source": [
    "pd.crosstab(y_test_0,y_pred_ada4).round(3)"
   ]
  },
  {
   "cell_type": "markdown",
   "metadata": {},
   "source": [
    "### exploration features importance / staged predi / staged proba"
   ]
  },
  {
   "cell_type": "code",
   "execution_count": null,
   "metadata": {},
   "outputs": [],
   "source": [
    "taille_sample=0.05\n",
    "id_random=np.array(random.sample(X_train_0.index.to_list(),round(taille_sample*X_train_0.shape[0])))\n",
    "\n",
    "ada = AdaBoostClassifier()\n",
    "\n",
    "# Fit the model to your training data\n",
    "ada.fit(X_train_100.loc[id_random], y_train_0.loc[id_random])\n",
    "#id_random à 5% du total\n",
    "# Make predictions on new data\n",
    "y_pred_ada5 = ada.predict(X_test_100)"
   ]
  },
  {
   "cell_type": "code",
   "execution_count": null,
   "metadata": {},
   "outputs": [],
   "source": [
    "\n",
    "ada.feature_importances_"
   ]
  },
  {
   "cell_type": "code",
   "execution_count": null,
   "metadata": {},
   "outputs": [],
   "source": [
    "ada.estimators_[1]"
   ]
  },
  {
   "cell_type": "code",
   "execution_count": null,
   "metadata": {},
   "outputs": [],
   "source": [
    "# Initialize an empty list to store staged predictions\n",
    "staged_predictions = []\n",
    "\n",
    "# Loop through each stage and get the staged decision function\n",
    "for stage_predictions in ada.staged_decision_function(X_test_100):\n",
    "    staged_predictions.append(stage_predictions)\n",
    "\n"
   ]
  },
  {
   "cell_type": "code",
   "execution_count": null,
   "metadata": {},
   "outputs": [],
   "source": [
    "staged_predictions"
   ]
  },
  {
   "cell_type": "code",
   "execution_count": null,
   "metadata": {},
   "outputs": [],
   "source": [
    "# Initialize an empty list to store staged predictions\n",
    "staged_proba = []\n",
    "\n",
    "# Loop through each stage and get the staged decision function\n",
    "for proba in ada.staged_predict_proba(X_test_100):\n",
    "    staged_proba.append(proba)"
   ]
  },
  {
   "cell_type": "code",
   "execution_count": null,
   "metadata": {},
   "outputs": [],
   "source": [
    "pd.Series(staged_proba[1][:,0]).value_counts(),pd.Series(staged_proba[1][:,1]).value_counts()"
   ]
  },
  {
   "cell_type": "code",
   "execution_count": null,
   "metadata": {},
   "outputs": [],
   "source": [
    "temp_serie=pd.Series(staged_proba[49][:,0])\n",
    "sns.histplot(x=temp_serie.values,bins=50)\n",
    "plt.ylim(0,1000)\n",
    "plt.show()\n"
   ]
  },
  {
   "cell_type": "code",
   "execution_count": null,
   "metadata": {},
   "outputs": [],
   "source": [
    "temp_serie=pd.Series(staged_proba[49][:,1])\n",
    "sns.histplot(x=temp_serie.values,bins=50)\n",
    "plt.ylim(0,1000)\n",
    "plt.show()"
   ]
  },
  {
   "cell_type": "code",
   "execution_count": null,
   "metadata": {},
   "outputs": [],
   "source": [
    "temp_serie.describe()"
   ]
  },
  {
   "cell_type": "code",
   "execution_count": null,
   "metadata": {},
   "outputs": [],
   "source": [
    "temp_serie"
   ]
  },
  {
   "cell_type": "code",
   "execution_count": null,
   "metadata": {},
   "outputs": [],
   "source": [
    "pd.Series(staged_proba[49][:,1]).value_counts()"
   ]
  },
  {
   "cell_type": "code",
   "execution_count": null,
   "metadata": {},
   "outputs": [],
   "source": [
    "len(staged_proba)"
   ]
  },
  {
   "cell_type": "code",
   "execution_count": null,
   "metadata": {},
   "outputs": [],
   "source": [
    "scores(y_test_0,y_pred_ada5)"
   ]
  },
  {
   "cell_type": "code",
   "execution_count": null,
   "metadata": {},
   "outputs": [],
   "source": [
    "pd.crosstab(y_test_0,y_pred_ada5).round(3)"
   ]
  },
  {
   "cell_type": "markdown",
   "metadata": {},
   "source": [
    "### exploration param DecisionTreeClassifier(max_depth=)"
   ]
  },
  {
   "cell_type": "code",
   "execution_count": null,
   "metadata": {},
   "outputs": [],
   "source": [
    "taille_sample=0.05\n",
    "id_random=np.array(random.sample(X_train_0.index.to_list(),round(taille_sample*X_train_0.shape[0])))\n",
    "\n",
    "ada2 = AdaBoostClassifier(estimator=DecisionTreeClassifier(max_depth=2))\n",
    "\n",
    "# Fit the model to your training data\n",
    "ada2.fit(X_train_100.loc[id_random], y_train_0.loc[id_random])\n",
    "#id_random à 5% du total\n",
    "# Make predictions on new data\n",
    "y_pred_ada2 = ada2.predict(X_test_100)\n"
   ]
  },
  {
   "cell_type": "code",
   "execution_count": null,
   "metadata": {},
   "outputs": [],
   "source": [
    "scores(y_test_0,y_pred_ada2)"
   ]
  },
  {
   "cell_type": "code",
   "execution_count": null,
   "metadata": {},
   "outputs": [],
   "source": [
    "#2h avec 0.05% du train\n",
    "\n",
    "taille_sample=0.1\n",
    "id_random=np.array(random.sample(X_train_0.index.to_list(),round(taille_sample*X_train_0.shape[0])))\n",
    "\n",
    "ada3 = AdaBoostClassifier(estimator=DecisionTreeClassifier(max_depth=3))\n",
    "\n",
    "# Fit the model to your training data\n",
    "ada3.fit(X_train_100.loc[id_random], y_train_0.loc[id_random])\n",
    "#id_random à 5% du total\n",
    "# Make predictions on new data\n",
    "y_pred_ada3 = ada3.predict(X_test_100)"
   ]
  },
  {
   "cell_type": "code",
   "execution_count": null,
   "metadata": {},
   "outputs": [],
   "source": [
    "\n",
    "scores(y_test_0,y_pred_ada3)"
   ]
  },
  {
   "cell_type": "code",
   "execution_count": null,
   "metadata": {},
   "outputs": [],
   "source": [
    "#2h avec 0.05% du train\n",
    "\n",
    "taille_sample=0.05\n",
    "id_random=np.array(random.sample(X_train_0.index.to_list(),round(taille_sample*X_train_0.shape[0])))\n",
    "\n",
    "ada4 = AdaBoostClassifier(estimator=DecisionTreeClassifier(max_depth=4))\n",
    "\n",
    "# Fit the model to your training data\n",
    "ada4.fit(X_train_100.loc[id_random], y_train_0.loc[id_random])\n",
    "#id_random à 5% du total\n",
    "# Make predictions on new data\n",
    "y_pred_ada4 = ada4.predict(X_test_100)"
   ]
  },
  {
   "cell_type": "code",
   "execution_count": null,
   "metadata": {},
   "outputs": [],
   "source": [
    "scores(y_test_0,y_pred_ada5)"
   ]
  },
  {
   "cell_type": "code",
   "execution_count": null,
   "metadata": {},
   "outputs": [],
   "source": [
    "\n",
    "param_grid = {  \n",
    "    'estimator':[DecisionTreeClassifier(max_depth=3)],#,DecisionTreeClassifier(max_depth=4),DecisionTreeClassifier(max_depth=5)\n",
    "}\n",
    "\n",
    "scoring_list = ['balanced_accuracy']\n",
    "\n",
    "# Create an instance of the model you want to tune (e.g., SVC)\n",
    "model = AdaBoostClassifier()\n",
    "\n",
    "# Create a GridSearchCV object\n",
    "temps1 = time.time()\n",
    "grid_search = GridSearchCV(model, param_grid, cv=5, scoring='balanced_accuracy')\n",
    "duration1=time.time()-temps1\n",
    "print(\"temps de training \", \"%5.2f\" % duration1, \"secondes\")\n",
    "\n",
    "# Fit the grid search to your data\n",
    "grid_search.fit(X_train_100.loc[id_random], y_train_0.loc[id_random])\n",
    "\n",
    "# Print the best hyperparameters and corresponding score\n",
    "print(\"Best hyperparameters:\", grid_search.best_params_)\n",
    "print(\"Best cross-validation score:\", grid_search.best_score_)"
   ]
  },
  {
   "cell_type": "code",
   "execution_count": null,
   "metadata": {},
   "outputs": [],
   "source": [
    "pred_gd_search=grid_search.predict(X_test_100)"
   ]
  },
  {
   "cell_type": "code",
   "execution_count": null,
   "metadata": {},
   "outputs": [],
   "source": [
    "scores(y_test_0,pred_gd_search)"
   ]
  },
  {
   "cell_type": "code",
   "execution_count": null,
   "metadata": {},
   "outputs": [],
   "source": [
    "pd.crosstab(y_test_0,pred_gd_search)"
   ]
  },
  {
   "cell_type": "code",
   "execution_count": null,
   "metadata": {},
   "outputs": [],
   "source": [
    "\n",
    "param_grid = {   \n",
    "    'estimator':[DecisionTreeClassifier(max_depth=2),DecisionTreeClassifier(max_depth=1)],#,DecisionTreeClassifier(max_depth=4),DecisionTreeClassifier(max_depth=5) \n",
    "}\n",
    "\n",
    "scoring_list = ['balanced_accuracy']\n",
    "\n",
    "# Create an instance of the model you want to tune (e.g., SVC)\n",
    "model = AdaBoostClassifier()\n",
    "\n",
    "# Create a GridSearchCV object\n",
    "temps1 = time.time()\n",
    "grid_search2 = GridSearchCV(model, param_grid, cv=5, scoring='balanced_accuracy')\n",
    "duration1=time.time()-temps1\n",
    "print(\"temps de training \", \"%5.2f\" % duration1, \"secondes\")\n",
    "\n",
    "# Fit the grid search to your data\n",
    "grid_search2.fit(X_train_100.loc[id_random], y_train_0.loc[id_random])\n",
    "\n",
    "# Print the best hyperparameters and corresponding score\n",
    "print(\"Best hyperparameters:\", grid_search2.best_params_)\n",
    "print(\"Best cross-validation score:\", grid_search2.best_score_)\n",
    "\n",
    "pred_gd_search2=grid_search2.predict(X_test_100)"
   ]
  },
  {
   "cell_type": "code",
   "execution_count": null,
   "metadata": {},
   "outputs": [],
   "source": [
    "scores(y_test_0,pred_gd_search2)"
   ]
  },
  {
   "cell_type": "code",
   "execution_count": null,
   "metadata": {},
   "outputs": [],
   "source": [
    "# Print the best hyperparameters and corresponding score\n",
    "print(\"Best hyperparameters:\", grid_search2.best_params_)\n",
    "print(\"Best cross-validation score:\", grid_search2.best_score_)"
   ]
  },
  {
   "cell_type": "code",
   "execution_count": null,
   "metadata": {},
   "outputs": [],
   "source": [
    "\n",
    "param_grid = {  \n",
    "    'estimator':[DecisionTreeClassifier(max_depth=4),DecisionTreeClassifier(max_depth=5)],#,DecisionTreeClassifier(max_depth=4),DecisionTreeClassifier(max_depth=5)\n",
    "}\n",
    "\n",
    "scoring_list = ['balanced_accuracy']\n",
    "\n",
    "# Create an instance of the model you want to tune (e.g., SVC)\n",
    "model = AdaBoostClassifier()\n",
    "\n",
    "# Create a GridSearchCV object\n",
    "temps1 = time.time()\n",
    "grid_search3 = GridSearchCV(model, param_grid, cv=5, scoring='balanced_accuracy')\n",
    "duration1=time.time()-temps1\n",
    "print(\"temps de training \", \"%5.2f\" % duration1, \"secondes\")\n",
    "\n",
    "# Fit the grid search to your data\n",
    "grid_search3.fit(X_train_100.loc[id_random], y_train_0.loc[id_random])\n",
    "\n",
    "# Print the best hyperparameters and corresponding score\n",
    "print(\"Best hyperparameters:\", grid_search3.best_params_)\n",
    "print(\"Best cross-validation score:\", grid_search3.best_score_)\n",
    "\n",
    "pred_gd_search3=grid_search3.predict(X_test_100)"
   ]
  },
  {
   "cell_type": "code",
   "execution_count": null,
   "metadata": {},
   "outputs": [],
   "source": [
    "scores(y_test_0,pred_gd_search3)"
   ]
  },
  {
   "cell_type": "code",
   "execution_count": null,
   "metadata": {},
   "outputs": [],
   "source": [
    "\n",
    "param_grid = {\n",
    "    'estimator':[DecisionTreeClassifier(max_depth=3)],#,DecisionTreeClassifier(max_depth=4),DecisionTreeClassifier(max_depth=5)\n",
    "}\n",
    "\n",
    "scoring_list = ['balanced_accuracy']\n",
    "\n",
    "# Create an instance of the model you want to tune (e.g., SVC)\n",
    "model = AdaBoostClassifier(algorithm='SAMME')\n",
    "\n",
    "# Create a GridSearchCV object\n",
    "temps1 = time.time()\n",
    "grid_search4 = GridSearchCV(model, param_grid, cv=5, scoring='balanced_accuracy')\n",
    "duration1=time.time()-temps1\n",
    "print(\"temps de training \", \"%5.2f\" % duration1, \"secondes\")\n",
    "\n",
    "# Fit the grid search to your data\n",
    "grid_search4.fit(X_train_100.loc[id_random], y_train_0.loc[id_random])\n",
    "\n",
    "# Print the best hyperparameters and corresponding score\n",
    "print(\"Best hyperparameters:\", grid_search4.best_params_)\n",
    "print(\"Best cross-validation score:\", grid_search4.best_score_)\n",
    "\n",
    "pred_gd_search4=grid_search3.predict(X_test_100)"
   ]
  },
  {
   "cell_type": "code",
   "execution_count": null,
   "metadata": {},
   "outputs": [],
   "source": [
    "\n",
    "param_grid = {   \n",
    "    'estimator':[DecisionTreeClassifier(max_depth=2),DecisionTreeClassifier(max_depth=4),DecisionTreeClassifier(max_depth=5)],#,DecisionTreeClassifier(max_depth=4),DecisionTreeClassifier(max_depth=5)\n",
    "}\n",
    "\n",
    "scoring_list = ['balanced_accuracy']\n",
    "\n",
    "# Create an instance of the model you want to tune (e.g., SVC)\n",
    "model = AdaBoostClassifier(algorithm='SAMME')\n",
    "\n",
    "# Create a GridSearchCV object\n",
    "temps1 = time.time()\n",
    "grid_search5 = GridSearchCV(model, param_grid, cv=5, scoring='balanced_accuracy')\n",
    "duration1=time.time()-temps1\n",
    "print(\"temps de training \", \"%5.2f\" % duration1, \"secondes\")\n",
    "\n",
    "# Fit the grid search to your data\n",
    "grid_search5.fit(X_train_100.loc[id_random], y_train_0.loc[id_random])\n",
    "\n",
    "# Print the best hyperparameters and corresponding score\n",
    "print(\"Best hyperparameters:\", grid_search5.best_params_)\n",
    "print(\"Best cross-validation score:\", grid_search5.best_score_)\n",
    "\n",
    "pred_gd_search5=grid_search5.predict(X_test_100)"
   ]
  },
  {
   "cell_type": "code",
   "execution_count": null,
   "metadata": {},
   "outputs": [],
   "source": [
    "param_grid = { \n",
    "    'estimator':[DecisionTreeClassifier(max_depth=6),DecisionTreeClassifier(max_depth=7)],\n",
    "    'learning_rate':[0.1]\n",
    "}\n",
    "\n",
    "scoring_list = ['balanced_accuracy']\n",
    "\n",
    "# Create an instance of the model you want to tune (e.g., SVC)\n",
    "model = AdaBoostClassifier(algorithm='SAMME')\n",
    "\n",
    "# Create a GridSearchCV object\n",
    "temps1 = time.time()\n",
    "grid_search6 = GridSearchCV(model, param_grid, cv=5, scoring='balanced_accuracy')\n",
    "duration1=time.time()-temps1\n",
    "print(\"temps de training \", \"%5.2f\" % duration1, \"secondes\")\n",
    "\n",
    "# Fit the grid search to your data\n",
    "grid_search6.fit(X_train_100.loc[id_random], y_train_0.loc[id_random])\n",
    "\n",
    "# Print the best hyperparameters and corresponding score\n",
    "print(\"Best hyperparameters:\", grid_search6.best_params_)\n",
    "print(\"Best cross-validation score:\", grid_search6.best_score_)\n",
    "\n",
    "pred_gd_search6=grid_search6.predict(X_test_100)"
   ]
  },
  {
   "cell_type": "code",
   "execution_count": null,
   "metadata": {},
   "outputs": [],
   "source": [
    "param_grid = {   \n",
    "    'estimator':[DecisionTreeClassifier(max_depth=6),DecisionTreeClassifier(max_depth=7)],  \n",
    "}\n",
    "\n",
    "scoring_list = ['balanced_accuracy']\n",
    "\n",
    "# Create an instance of the model you want to tune (e.g., SVC)\n",
    "model = AdaBoostClassifier(algorithm='SAMME')\n",
    "\n",
    "# Create a GridSearchCV object\n",
    "temps1 = time.time()\n",
    "grid_search7 = GridSearchCV(model, param_grid, cv=5, scoring='balanced_accuracy')\n",
    "duration1=time.time()-temps1\n",
    "print(\"temps de training \", \"%5.2f\" % duration1, \"secondes\")\n",
    "\n",
    "# Fit the grid search to your data\n",
    "grid_search7.fit(X_train_100.loc[id_random], y_train_0.loc[id_random])\n",
    "\n",
    "# Print the best hyperparameters and corresponding score\n",
    "print(\"Best hyperparameters:\", grid_search7.best_params_)\n",
    "print(\"Best cross-validation score:\", grid_search7.best_score_)\n",
    "\n",
    "pred_gd_search7=grid_search7.predict(X_test_100)"
   ]
  },
  {
   "cell_type": "code",
   "execution_count": null,
   "metadata": {},
   "outputs": [],
   "source": [
    "param_grid = {   \n",
    "    'estimator':[DecisionTreeClassifier(max_depth=4),DecisionTreeClassifier(max_depth=5)],#,DecisionTreeClassifier(max_depth=4),DecisionTreeClassifier(max_depth=5)\n",
    "}\n",
    "\n",
    "scoring_list = ['balanced_accuracy']\n",
    "\n",
    "# Create an instance of the model you want to tune (e.g., SVC)\n",
    "model = AdaBoostClassifier(algorithm='SAMME')\n",
    "\n",
    "# Create a GridSearchCV object\n",
    "temps1 = time.time()\n",
    "grid_search8 = GridSearchCV(model, param_grid, cv=5, scoring='balanced_accuracy')\n",
    "\n",
    "\n",
    "taille_sample=0.5\n",
    "id_random=np.array(random.sample(X_train_0.index.to_list(),round(taille_sample*X_train_0.shape[0])))\n",
    "\n",
    "# Fit the grid search to your data\n",
    "grid_search8.fit(X_train_100.loc[id_random], y_train_0.loc[id_random])\n",
    "\n",
    "duration1=time.time()-temps1\n",
    "print(\"temps de training \", \"%5.2f\" % duration1, \"secondes\")\n",
    "\n",
    "# Print the best hyperparameters and corresponding score\n",
    "print(\"Best hyperparameters:\", grid_search8.best_params_)\n",
    "print(\"Best cross-validation score:\", grid_search8.best_score_)\n",
    "\n",
    "pred_gd_search8=grid_search8.predict(X_test_100)"
   ]
  },
  {
   "cell_type": "code",
   "execution_count": null,
   "metadata": {},
   "outputs": [],
   "source": [
    "pd.crosstab(y_test_0,pred_gd_search5)"
   ]
  },
  {
   "cell_type": "markdown",
   "metadata": {},
   "source": [
    "### test de l'undersampling sur le adaboost"
   ]
  },
  {
   "cell_type": "code",
   "execution_count": null,
   "metadata": {},
   "outputs": [],
   "source": [
    "y_train_0.value_counts(),y_train_0.value_counts()[1]/y_train_0.value_counts()[0]"
   ]
  },
  {
   "cell_type": "code",
   "execution_count": null,
   "metadata": {},
   "outputs": [],
   "source": [
    "taille_sample=1\n",
    "id_random=np.array(random.sample(X_train_0.index.to_list(),round(taille_sample*X_train_0.shape[0])))\n",
    "\n",
    "ada_und_1 = AdaBoostClassifier(estimator=DecisionTreeClassifier(max_depth=5),\n",
    "                               algorithm='SAMME')\n",
    "temps1 = time.time()\n",
    "\n",
    "X_train_temp,y_train_temp=undersampling(X_train_100.loc[id_random], y_train_0.loc[id_random])\n",
    "ada_und_1.fit(X_train_temp,y_train_temp)\n",
    "duration1=time.time()-temps1\n",
    "print(\"temps de training \", \"%5.2f\" % duration1, \"secondes\")\n",
    "\n",
    "y_pred_ada_und_1 = ada_und_1.predict(X_test_100)\n",
    "\n",
    "X_train_ada_und_1,y_train_ada_und_1=X_train_temp,y_train_temp\n",
    "\n",
    "display(scores(y_test_0,y_pred_ada_und_1),\n",
    "        pd.crosstab(y_test_0,y_pred_ada_und_1))"
   ]
  },
  {
   "cell_type": "code",
   "execution_count": null,
   "metadata": {},
   "outputs": [],
   "source": [
    "pd.Series(y_train_temp).value_counts()"
   ]
  },
  {
   "cell_type": "code",
   "execution_count": null,
   "metadata": {},
   "outputs": [],
   "source": [
    "# le rendement associé à un ptf avec undersampling/oversampling est forcément très négatif => autant de prets remboursés qu'avec problèmes\n",
    "recap_gain(X_train_temp['AMT_CREDIT'],y_train_temp,0.1,0.3,1)"
   ]
  },
  {
   "cell_type": "code",
   "execution_count": null,
   "metadata": {},
   "outputs": [],
   "source": [
    "# Prédiction de rendement d'un ptf entrainé avec undersampling\n",
    "recap_gain(X_test_0['AMT_CREDIT'],y_pred_ada_und_1,0.1,0.3,1)"
   ]
  },
  {
   "cell_type": "code",
   "execution_count": null,
   "metadata": {},
   "outputs": [],
   "source": [
    "cout_algo(X_test_0['AMT_CREDIT'],y_test_0,y_pred_ada_und_1,0.1,0.3,0,1)"
   ]
  },
  {
   "cell_type": "markdown",
   "metadata": {},
   "source": [
    "#### Tests sur la fonction cout_algo"
   ]
  },
  {
   "cell_type": "code",
   "execution_count": null,
   "metadata": {},
   "outputs": [],
   "source": [
    "# sortie_test=cout_algo(X_test_0['AMT_CREDIT'],y_test_0,y_pred_ada_und_1,0.1,0.3,1,0.15)\n",
    "# sortie_test"
   ]
  },
  {
   "cell_type": "code",
   "execution_count": null,
   "metadata": {},
   "outputs": [],
   "source": [
    "# pd.crosstab(sortie_test['reel'],sortie_test['pred'])"
   ]
  },
  {
   "cell_type": "code",
   "execution_count": null,
   "metadata": {},
   "outputs": [],
   "source": [
    "# sortie_test[['TP','FN','FP','TN']].sum().sum()/sortie_test['Prets'].sum()"
   ]
  },
  {
   "cell_type": "code",
   "execution_count": null,
   "metadata": {},
   "outputs": [],
   "source": [
    "(base_histo.loc[base_histo['TARGET']==0,'AMT_CREDIT'].describe(),base_histo.loc[base_histo['TARGET']==1,'AMT_CREDIT'].describe())"
   ]
  },
  {
   "cell_type": "code",
   "execution_count": null,
   "metadata": {},
   "outputs": [],
   "source": [
    "cout_algo(X_test_0['AMT_CREDIT'],y_test_0,y_pred_ada_und_1,0.20,0.3,0,0.1,0)"
   ]
  },
  {
   "cell_type": "code",
   "execution_count": null,
   "metadata": {},
   "outputs": [],
   "source": [
    "impact_ada_param=pd.DataFrame(columns=['Prets','Gain','Perte','Rdmt'])\n",
    "for i in np.linspace(0,1,21):\n",
    "    impact_ada_param.loc[i,:]=cout_algo(X_test_0['AMT_CREDIT'],y_test_0,y_pred_ada_und_1,0.20,0.3,1,i,0)\n",
    "impact_ada_param"
   ]
  },
  {
   "cell_type": "code",
   "execution_count": null,
   "metadata": {},
   "outputs": [],
   "source": [
    "temp=pd.DataFrame(index=np.linspace(0,0.3,11),columns=np.linspace(0.1,0.6,11))\n",
    "for i in temp.columns:\n",
    "    for j in temp.index:\n",
    "        temp.at[j,i]=cout_algo(X_test_0['AMT_CREDIT'],y_test_0,y_pred_ada_und_1,j,i,1,0.15,0)[3]\n",
    "temp"
   ]
  },
  {
   "cell_type": "code",
   "execution_count": null,
   "metadata": {},
   "outputs": [],
   "source": [
    "temp=pd.DataFrame(index=np.linspace(0,0.3,11),columns=np.linspace(0.1,0.6,11))\n",
    "for i in temp.columns:\n",
    "    for j in temp.index:\n",
    "        temp.at[j,i]=cout_algo(X_test_0['AMT_CREDIT'],y_test_0,y_pred_ada_und_1,j,i,0,0.05,0)[3]\n",
    "temp"
   ]
  },
  {
   "cell_type": "code",
   "execution_count": null,
   "metadata": {},
   "outputs": [],
   "source": [
    "from scipy.optimize import minimize"
   ]
  },
  {
   "cell_type": "code",
   "execution_count": null,
   "metadata": {},
   "outputs": [],
   "source": [
    "def fun(xyz):\n",
    "    x, y, z = xyz\n",
    "    return -cout_algo(X_test_0['AMT_CREDIT'],y_test_0,y_pred_ada_und_1,x,y,1,z,0)[3]"
   ]
  },
  {
   "cell_type": "code",
   "execution_count": null,
   "metadata": {},
   "outputs": [],
   "source": [
    "minimize(fun,x0=[0,0,0],bounds=[(0,0.3),(0,0.5),(0,1)],method='Powell')"
   ]
  },
  {
   "cell_type": "code",
   "execution_count": null,
   "metadata": {},
   "outputs": [],
   "source": [
    "(-cout_algo(X_test_0['AMT_CREDIT'],y_test_0,y_pred_ada_und_1,0.3,0.5,1,0.15,0)[3],\n",
    "-cout_algo(X_test_0['AMT_CREDIT'],y_test_0,y_pred_ada_und_1,0.3,0.5,1,0.05,0)[3],\n",
    "-cout_algo(X_test_0['AMT_CREDIT'],y_test_0,y_pred_ada_und_1,0.3,0.5,1,0,0)[3],\n",
    "-cout_algo(X_test_0['AMT_CREDIT'],y_test_0,y_pred_ada_und_1,0.3,0.5,1,1,0)[3])"
   ]
  },
  {
   "cell_type": "code",
   "execution_count": null,
   "metadata": {},
   "outputs": [],
   "source": [
    "cout_algo(X_test_0['AMT_CREDIT'],y_test_0,y_pred_ada_und_1,0.1,0.3,0,0.15,1)"
   ]
  },
  {
   "cell_type": "code",
   "execution_count": null,
   "metadata": {},
   "outputs": [],
   "source": [
    "cout_algo(X_test_0['AMT_CREDIT'],y_test_0,y_pred_ada_und_1,0.1,0.3,1,0.15,1)"
   ]
  },
  {
   "cell_type": "code",
   "execution_count": null,
   "metadata": {},
   "outputs": [],
   "source": [
    "cout_algo(X_test_0['AMT_CREDIT'],y_test_0,y_pred_ada_und_1,0.1,0.3,1,0.25,1)"
   ]
  },
  {
   "cell_type": "code",
   "execution_count": null,
   "metadata": {},
   "outputs": [],
   "source": [
    "cout_algo(X_test_0['AMT_CREDIT'],y_test_0,y_pred_ada_und_1,0.1,0.3,1,0.4,1)"
   ]
  },
  {
   "cell_type": "code",
   "execution_count": null,
   "metadata": {},
   "outputs": [],
   "source": [
    "cout_algo(X_test_0['AMT_CREDIT'],y_test_0,y_pred_ada_und_1,0.1,0.3,1,0,1)"
   ]
  },
  {
   "cell_type": "code",
   "execution_count": null,
   "metadata": {},
   "outputs": [],
   "source": [
    "recap_gain(X_test_0['AMT_CREDIT'],y_test_0,0.1,0.3,1)"
   ]
  },
  {
   "cell_type": "markdown",
   "metadata": {},
   "source": [
    "### Test oversampling"
   ]
  },
  {
   "cell_type": "code",
   "execution_count": null,
   "metadata": {},
   "outputs": [],
   "source": [
    "taille_sample=0.087 # ratio des 1 dans le total\n",
    "id_random=np.array(random.sample(X_train_0.index.to_list(),round(taille_sample*X_train_0.shape[0])))\n",
    "\n",
    "ada_ov_1 = AdaBoostClassifier(estimator=DecisionTreeClassifier(max_depth=5),\n",
    "                               algorithm='SAMME')\n",
    "temps1 = time.time()\n",
    "X_train_temp,y_train_temp=oversampling(X_train_100.loc[id_random], y_train_0.loc[id_random])\n",
    "ada_ov_1.fit(X_train_temp,y_train_temp)\n",
    "duration1=time.time()-temps1\n",
    "print(\"temps de training \", \"%5.2f\" % duration1, \"secondes\")\n",
    "\n",
    "y_pred_ada_ov_1 = ada_ov_1.predict(X_test_100)\n",
    "\n",
    "X_train_ada_ov_1,y_train_ada_ov_1=X_train_temp,y_train_temp\n",
    "\n",
    "display(scores(y_test_0,y_pred_ada_ov_1),\n",
    "        pd.crosstab(y_test_0,y_pred_ada_ov_1))"
   ]
  },
  {
   "cell_type": "code",
   "execution_count": null,
   "metadata": {},
   "outputs": [],
   "source": [
    "recap_gain(X_train_ada_ov_1['AMT_CREDIT'],y_train_ada_ov_1,0.1,0.3,1)"
   ]
  },
  {
   "cell_type": "code",
   "execution_count": null,
   "metadata": {},
   "outputs": [],
   "source": [
    "recap_gain(X_test_0['AMT_CREDIT'],y_pred_ada_ov_1,0.1,0.3,1)"
   ]
  },
  {
   "cell_type": "code",
   "execution_count": null,
   "metadata": {},
   "outputs": [],
   "source": [
    "cout_algo(X_test_0['AMT_CREDIT'],y_test_0,y_pred_ada_ov_1,0.1,0.3,0,1)"
   ]
  },
  {
   "cell_type": "code",
   "execution_count": null,
   "metadata": {},
   "outputs": [],
   "source": []
  },
  {
   "cell_type": "code",
   "execution_count": null,
   "metadata": {},
   "outputs": [],
   "source": [
    "X_train_ada_ov_1.shape"
   ]
  },
  {
   "cell_type": "markdown",
   "metadata": {},
   "source": [
    "### Test sans modifs over/under/balance"
   ]
  },
  {
   "cell_type": "code",
   "execution_count": null,
   "metadata": {},
   "outputs": [],
   "source": [
    "# proportion à retenir pour avoir 39400 lignes d'entrainement (équiv avec les over et undersampl)\n",
    "39400/y_train_0.shape[0]"
   ]
  },
  {
   "cell_type": "code",
   "execution_count": null,
   "metadata": {},
   "outputs": [],
   "source": [
    "taille_sample=0.16\n",
    "id_random=np.array(random.sample(X_train_0.index.to_list(),round(taille_sample*X_train_0.shape[0])))\n",
    "\n",
    "ada_0_1 = AdaBoostClassifier(estimator=DecisionTreeClassifier(max_depth=5),\n",
    "                               algorithm='SAMME')\n",
    "temps1 = time.time()\n",
    "X_train_temp,y_train_temp=X_train_100.loc[id_random], y_train_0.loc[id_random]\n",
    "ada_0_1.fit(X_train_temp,y_train_temp)\n",
    "duration1=time.time()-temps1\n",
    "print(\"temps de training \", \"%5.2f\" % duration1, \"secondes\")\n",
    "\n",
    "y_pred_ada_0_1 = ada_0_1.predict(X_test_100)\n",
    "\n",
    "X_train_ada_0_1,y_train_ada_0_1=X_train_temp,y_train_temp\n",
    "\n",
    "display(scores(y_test_0,y_pred_ada_0_1),\n",
    "        pd.crosstab(y_test_0,y_pred_ada_0_1))"
   ]
  },
  {
   "cell_type": "code",
   "execution_count": null,
   "metadata": {},
   "outputs": [],
   "source": [
    "recap_gain(X_train_ada_0_1['AMT_CREDIT'],y_train_ada_0_1,0.1,0.3,1)"
   ]
  },
  {
   "cell_type": "code",
   "execution_count": null,
   "metadata": {},
   "outputs": [],
   "source": [
    "recap_gain(X_test_0['AMT_CREDIT'],y_pred_ada_0_1,0.1,0.3,1)"
   ]
  },
  {
   "cell_type": "code",
   "execution_count": null,
   "metadata": {},
   "outputs": [],
   "source": [
    "temp=recap_gain(X_test_0['AMT_CREDIT'],y_pred_ada_0_1,0.1,0.3,2)\n",
    "temp"
   ]
  },
  {
   "cell_type": "code",
   "execution_count": null,
   "metadata": {},
   "outputs": [],
   "source": [
    "temp.loc[temp['Perte']!=0,:]"
   ]
  },
  {
   "cell_type": "code",
   "execution_count": null,
   "metadata": {},
   "outputs": [],
   "source": [
    "(temp.describe(),temp.sum())"
   ]
  },
  {
   "cell_type": "code",
   "execution_count": null,
   "metadata": {},
   "outputs": [],
   "source": [
    "pd.crosstab(y_test_0,y_pred_ada_0_1)"
   ]
  },
  {
   "cell_type": "markdown",
   "metadata": {},
   "source": [
    "### essai avec balanced_weight"
   ]
  },
  {
   "cell_type": "code",
   "execution_count": null,
   "metadata": {},
   "outputs": [],
   "source": [
    "taille_sample=0.16\n",
    "id_random=np.array(random.sample(X_train_0.index.to_list(),round(taille_sample*X_train_0.shape[0])))\n",
    "\n",
    "ada_1_1 = AdaBoostClassifier(estimator=DecisionTreeClassifier(max_depth=5,class_weight = {0: 0.087, 1: 1}),\n",
    "                               algorithm='SAMME',\n",
    "                               )\n",
    "temps1 = time.time()\n",
    "X_train_temp,y_train_temp=X_train_100.loc[id_random], y_train_0.loc[id_random]\n",
    "ada_1_1.fit(X_train_temp,y_train_temp)\n",
    "duration1=time.time()-temps1\n",
    "print(\"temps de training \", \"%5.2f\" % duration1, \"secondes\")\n",
    "\n",
    "y_pred_ada_1_1 = ada_1_1.predict(X_test_100)\n",
    "\n",
    "X_train_ada_1_1,y_train_ada_1_1=X_train_temp,y_train_temp\n",
    "\n",
    "display(scores(y_test_0,y_pred_ada_1_1),\n",
    "        pd.crosstab(y_test_0,y_pred_ada_1_1))"
   ]
  },
  {
   "cell_type": "code",
   "execution_count": null,
   "metadata": {},
   "outputs": [],
   "source": [
    "taille_sample=0.16\n",
    "id_random=np.array(random.sample(X_train_0.index.to_list(),round(taille_sample*X_train_0.shape[0])))\n",
    "\n",
    "ada_2_1 = AdaBoostClassifier(estimator=DecisionTreeClassifier(max_depth=5,class_weight = {0: 0.15, 1: 1}),\n",
    "                               algorithm='SAMME',\n",
    "                               )\n",
    "temps1 = time.time()\n",
    "X_train_temp,y_train_temp=X_train_100.loc[id_random], y_train_0.loc[id_random]\n",
    "ada_2_1.fit(X_train_temp,y_train_temp)\n",
    "duration1=time.time()-temps1\n",
    "print(\"temps de training \", \"%5.2f\" % duration1, \"secondes\")\n",
    "\n",
    "y_pred_ada_2_1 = ada_2_1.predict(X_test_100)\n",
    "\n",
    "X_train_ada_2_1,y_train_ada_2_1=X_train_temp,y_train_temp\n",
    "\n",
    "display(scores(y_test_0,y_pred_ada_2_1),\n",
    "        pd.crosstab(y_test_0,y_pred_ada_2_1))"
   ]
  },
  {
   "cell_type": "code",
   "execution_count": null,
   "metadata": {},
   "outputs": [],
   "source": [
    "taille_sample=0.16\n",
    "id_random=np.array(random.sample(X_train_0.index.to_list(),round(taille_sample*X_train_0.shape[0])))\n",
    "\n",
    "ada_3_1 = AdaBoostClassifier(estimator=DecisionTreeClassifier(max_depth=5,class_weight = {0: 0.2, 1: 1}),\n",
    "                               algorithm='SAMME',\n",
    "                               )\n",
    "temps1 = time.time()\n",
    "X_train_temp,y_train_temp=X_train_100.loc[id_random], y_train_0.loc[id_random]\n",
    "ada_3_1.fit(X_train_temp,y_train_temp)\n",
    "duration1=time.time()-temps1\n",
    "print(\"temps de training \", \"%5.2f\" % duration1, \"secondes\")\n",
    "\n",
    "y_pred_ada_3_1 = ada_3_1.predict(X_test_100)\n",
    "\n",
    "X_train_ada_3_1,y_train_ada_3_1=X_train_temp,y_train_temp\n",
    "\n",
    "display(scores(y_test_0,y_pred_ada_3_1),\n",
    "        pd.crosstab(y_test_0,y_pred_ada_3_1))"
   ]
  },
  {
   "cell_type": "code",
   "execution_count": null,
   "metadata": {},
   "outputs": [],
   "source": [
    "pct_training(16)\n",
    "\n",
    "ada_4_1 = AdaBoostClassifier(estimator=DecisionTreeClassifier(max_depth=5,class_weight = {0: 0.1, 1: 1}),\n",
    "                               algorithm='SAMME',\n",
    "                               )\n",
    "temps1 = time.time()\n",
    "X_train_temp,y_train_temp=X_train_100.loc[id_random], y_train_0.loc[id_random]\n",
    "ada_4_1.fit(X_train_temp,y_train_temp)\n",
    "duration1=time.time()-temps1\n",
    "print(\"temps de training \", \"%5.2f\" % duration1, \"secondes\")\n",
    "y_pred_ada_4_1 = ada_4_1.predict(X_test_100)\n",
    "\n",
    "X_train_ada_4_1,y_train_ada_4_1=X_train_temp,y_train_temp\n",
    "\n",
    "display(scores(y_test_0,y_pred_ada_4_1),\n",
    "        pd.crosstab(y_test_0,y_pred_ada_4_1))"
   ]
  },
  {
   "cell_type": "code",
   "execution_count": null,
   "metadata": {},
   "outputs": [],
   "source": [
    "taille_sample=0.16\n",
    "id_random=np.array(random.sample(X_train_0.index.to_list(),round(taille_sample*X_train_0.shape[0])))\n",
    "\n",
    "ada_5_1 = AdaBoostClassifier(estimator=DecisionTreeClassifier(max_depth=5,class_weight = {0: 0.09, 1: 1}),\n",
    "                               algorithm='SAMME',\n",
    "                               )\n",
    "temps1 = time.time()\n",
    "X_train_temp,y_train_temp=X_train_100.loc[id_random], y_train_0.loc[id_random]\n",
    "ada_5_1.fit(X_train_temp,y_train_temp)\n",
    "duration1=time.time()-temps1\n",
    "print(\"temps de training \", \"%5.2f\" % duration1, \"secondes\")\n",
    "y_pred_ada_5_1 = ada_5_1.predict(X_test_100)\n",
    "\n",
    "X_train_ada_5_1,y_train_ada_5_1=X_train_temp,y_train_temp\n",
    "\n",
    "display(scores(y_test_0,y_pred_ada_5_1),\n",
    "        pd.crosstab(y_test_0,y_pred_ada_5_1))"
   ]
  },
  {
   "cell_type": "code",
   "execution_count": null,
   "metadata": {},
   "outputs": [],
   "source": [
    "(recap_gain(X_test_0['AMT_CREDIT'],y_pred_ada_0_1,0.1,0.3,0),\n",
    " recap_gain(X_test_0['AMT_CREDIT'],y_pred_ada_1_1,0.1,0.3,0),\n",
    " recap_gain(X_test_0['AMT_CREDIT'],y_pred_ada_2_1,0.1,0.3,0),\n",
    " recap_gain(X_test_0['AMT_CREDIT'],y_pred_ada_3_1,0.1,0.3,0),\n",
    " recap_gain(X_test_0['AMT_CREDIT'],y_pred_ada_4_1,0.1,0.3,0),\n",
    " recap_gain(X_test_0['AMT_CREDIT'],y_pred_ada_5_1,0.1,0.3,0))"
   ]
  },
  {
   "cell_type": "code",
   "execution_count": null,
   "metadata": {},
   "outputs": [],
   "source": [
    "(cout_algo(X_test_0['AMT_CREDIT'],y_test_0,y_pred_ada_0_1,0.1,0.3,0,0),\n",
    " cout_algo(X_test_0['AMT_CREDIT'],y_test_0,y_pred_ada_1_1,0.1,0.3,0,0),\n",
    " cout_algo(X_test_0['AMT_CREDIT'],y_test_0,y_pred_ada_2_1,0.1,0.3,0,0),\n",
    " cout_algo(X_test_0['AMT_CREDIT'],y_test_0,y_pred_ada_3_1,0.1,0.3,0,0),\n",
    " cout_algo(X_test_0['AMT_CREDIT'],y_test_0,y_pred_ada_4_1,0.1,0.3,0,0),\n",
    " cout_algo(X_test_0['AMT_CREDIT'],y_test_0,y_pred_ada_5_1,0.1,0.3,0,0))"
   ]
  },
  {
   "cell_type": "markdown",
   "metadata": {},
   "source": [
    "## recap des essais adaboost"
   ]
  },
  {
   "cell_type": "code",
   "execution_count": null,
   "metadata": {},
   "outputs": [],
   "source": [
    "display(scores(y_test_0,y_pred_ada_2_1),\n",
    "        cout_algo(X_test_0['AMT_CREDIT'],y_test_0,y_pred_ada_2_1,0.1,0.3,0,0),\n",
    "        pd.crosstab(y_test_0,y_pred_ada_2_1,normalize='index'))"
   ]
  },
  {
   "cell_type": "code",
   "execution_count": null,
   "metadata": {},
   "outputs": [],
   "source": [
    "display(scores(y_test_0,y_pred_ada_ov_1),\n",
    "        cout_algo(X_test_0['AMT_CREDIT'],y_test_0,y_pred_ada_ov_1,0.1,0.3,0,0),\n",
    "        pd.crosstab(y_test_0,y_pred_ada_ov_1,normalize='index'))"
   ]
  },
  {
   "cell_type": "code",
   "execution_count": null,
   "metadata": {},
   "outputs": [],
   "source": [
    "display(scores(y_test_0,y_pred_ada_und_1),\n",
    "        cout_algo(X_test_0['AMT_CREDIT'],y_test_0,y_pred_ada_und_1,0.1,0.3,0,0),\n",
    "        pd.crosstab(y_test_0,y_pred_ada_und_1,normalize='index'))"
   ]
  },
  {
   "cell_type": "code",
   "execution_count": null,
   "metadata": {},
   "outputs": [],
   "source": [
    "# version avec balanced_weight de ada_2_1 possède:\n",
    "# un des gain les plus élevés (cout_algo 4.56)\n",
    "# permet de minimiser les faux positifs (15.4% des prêts correctement remboursés)\n",
    "# et identifie correctement 40% des vrais positifs"
   ]
  },
  {
   "cell_type": "markdown",
   "metadata": {},
   "source": [
    "# Complexification : 1 algo pour ext_source et 1 algo pour reste des données"
   ]
  },
  {
   "cell_type": "code",
   "execution_count": null,
   "metadata": {},
   "outputs": [],
   "source": [
    "taille_sample=0.2\n",
    "id_random=np.array(random.sample(X_train_0.index.to_list(),round(taille_sample*X_train_0.shape[0])))\n",
    "y_train_0[id_random].value_counts()\n",
    "\n",
    "\n",
    "param_grid = {\n",
    "    'max_depth': [5],\n",
    "    'class_weight' : [{0: 1.0, 1: 8.0},{0: 1.0, 1: 3.0},{0: 1.0, 1: 20.0}]    \n",
    "}\n",
    "\n",
    "\n",
    "model = DecisionTreeClassifier()\n",
    "\n",
    "temps1 = time.time()\n",
    "\n",
    "grid_search16 = GridSearchCV(model, param_grid, cv=5, scoring='balanced_accuracy')\n",
    "\n",
    "grid_search16.fit(X_train_100_Ext.loc[id_random], y_train_0.loc[id_random])\n",
    "\n",
    "duration1=time.time()-temps1\n",
    "print(\"temps de training \", \"%5.2f\" % duration1, \"secondes\")\n",
    "\n",
    "y_pred_grid16=grid_search16.predict(X_test_100_Ext)\n",
    "\n",
    "# Print the best hyperparameters and corresponding score\n",
    "print(\"Best hyperparameters:\", grid_search16.best_params_)\n",
    "print(\"Best cross-validation score:\", grid_search16.best_score_)\n",
    "\n",
    "display(scores(y_test_0,y_pred_grid16),pd.crosstab(y_test_0,y_pred_grid16))"
   ]
  },
  {
   "cell_type": "code",
   "execution_count": null,
   "metadata": {},
   "outputs": [],
   "source": [
    "display(scores(y_test_0,y_pred_grid16),pd.crosstab(y_test_0,y_pred_grid16))"
   ]
  },
  {
   "cell_type": "code",
   "execution_count": null,
   "metadata": {},
   "outputs": [],
   "source": [
    "taille_sample=0.2\n",
    "id_random=np.array(random.sample(X_train_0.index.to_list(),round(taille_sample*X_train_0.shape[0])))\n",
    "y_train_0[id_random].value_counts()\n",
    "\n",
    "\n",
    "param_grid = {\n",
    "    'max_depth': [10],\n",
    "    'class_weight' : [{0: 1.0, 1: 8.0}]    \n",
    "}\n",
    "\n",
    "\n",
    "model = DecisionTreeClassifier()\n",
    "\n",
    "temps1 = time.time()\n",
    "duration1=time.time()-temps1\n",
    "print(\"temps de training \", \"%5.2f\" % duration1, \"secondes\")\n",
    "\n",
    "\n",
    "grid_search17 = GridSearchCV(model, param_grid, cv=5, scoring='balanced_accuracy')\n",
    "\n",
    "grid_search17.fit(X_train_100_Aut.loc[id_random], y_train_0.loc[id_random])\n",
    "\n",
    "duration1=time.time()-temps1\n",
    "print(\"temps de training \", \"%5.2f\" % duration1, \"secondes\")\n",
    "\n",
    "y_pred_grid17=grid_search17.predict(X_test_100_Aut)\n",
    "\n",
    "# Print the best hyperparameters and corresponding score\n",
    "print(\"Best hyperparameters:\", grid_search17.best_params_)\n",
    "print(\"Best cross-validation score:\", grid_search17.best_score_)\n",
    "\n",
    "display(scores(y_test_0,y_pred_grid17),pd.crosstab(y_test_0,y_pred_grid17))"
   ]
  },
  {
   "cell_type": "code",
   "execution_count": null,
   "metadata": {},
   "outputs": [],
   "source": [
    "display(scores(y_test_0,y_pred_grid17),pd.crosstab(y_test_0,y_pred_grid17))"
   ]
  },
  {
   "cell_type": "markdown",
   "metadata": {},
   "source": [
    "## grid/série/graph types erreurs"
   ]
  },
  {
   "cell_type": "code",
   "execution_count": null,
   "metadata": {},
   "outputs": [],
   "source": [
    "df_result=pd.concat([y_test_0,pd.Series(y_pred_grid16,index=y_test_0.index,name='pred16'),pd.Series(y_pred_grid17,index=y_test_0.index,name='pred17')],axis=1)\n",
    "df_result['erreurs']=list(zip(df_result['pred16'],df_result['pred17'],df_result['TARGET']))\n"
   ]
  },
  {
   "cell_type": "code",
   "execution_count": null,
   "metadata": {},
   "outputs": [],
   "source": [
    "df_result['erreurs'].value_counts()"
   ]
  },
  {
   "cell_type": "code",
   "execution_count": null,
   "metadata": {},
   "outputs": [],
   "source": [
    "taille_sample=0.05\n",
    "id_random=np.array(random.sample(X_train_0.index.to_list(),round(taille_sample*X_train_0.shape[0])))\n",
    "\n",
    "ada6 = AdaBoostClassifier(estimator=DecisionTreeClassifier(max_depth=10,class_weight={0: 1.0, 1: 8.0}),algorithm='SAMME')\n",
    "\n",
    "# Fit the model to your training data\n",
    "ada6.fit(X_train_100_Aut.loc[id_random], y_train_0.loc[id_random])\n",
    "#id_random à 5% du total\n",
    "# Make predictions on new data\n",
    "y_pred_ada6 = ada6.predict(X_test_100_Aut)"
   ]
  },
  {
   "cell_type": "code",
   "execution_count": null,
   "metadata": {},
   "outputs": [],
   "source": [
    "scores(y_test_0,y_pred_ada6)"
   ]
  },
  {
   "cell_type": "code",
   "execution_count": null,
   "metadata": {},
   "outputs": [],
   "source": [
    "pd.crosstab(y_test_0,y_pred_ada6)"
   ]
  },
  {
   "cell_type": "code",
   "execution_count": null,
   "metadata": {},
   "outputs": [],
   "source": [
    "# Initialize an empty list to store staged predictions\n",
    "staged_proba6 = []\n",
    "\n",
    "# Loop through each stage and get the staged decision function\n",
    "for proba in ada6.staged_predict_proba(X_test_100_Aut):\n",
    "    staged_proba6.append(proba)\n",
    "\n",
    "temp_serie=pd.Series(staged_proba6[49][:,0])\n",
    "sns.histplot(x=temp_serie.values,bins=100)\n",
    "plt.ylim(0,1000)\n",
    "plt.show()"
   ]
  },
  {
   "cell_type": "code",
   "execution_count": null,
   "metadata": {},
   "outputs": [],
   "source": [
    "# Initialize an empty list to store staged predictions\n",
    "staged_predictions = []\n",
    "\n",
    "# Loop through each stage and get the staged decision function\n",
    "for stage_predictions in ada6.staged_decision_function(X_test_100_Aut):\n",
    "    staged_predictions.append(stage_predictions)"
   ]
  },
  {
   "cell_type": "code",
   "execution_count": null,
   "metadata": {},
   "outputs": [],
   "source": [
    "len(staged_predictions[1])"
   ]
  },
  {
   "cell_type": "markdown",
   "metadata": {},
   "source": [
    "# Utilisation de LGBM comme classif avec proba\n"
   ]
  },
  {
   "cell_type": "code",
   "execution_count": null,
   "metadata": {},
   "outputs": [],
   "source": [
    "# LightGBM parameters found by Bayesian optimization\n",
    "clf = LGBMClassifier(\n",
    "                    nthread=4,\n",
    "                    n_estimators=10000,\n",
    "                    learning_rate=0.02,\n",
    "                    num_leaves=34,\n",
    "                    colsample_bytree=0.9497036,\n",
    "                    subsample=0.8715623,\n",
    "                    max_depth=8,\n",
    "                    reg_alpha=0.041545473,\n",
    "                    reg_lambda=0.0735294,\n",
    "                    min_split_gain=0.0222415,\n",
    "                    min_child_weight=39.3259775,\n",
    "                    silent=-1,\n",
    "                    verbose=-1)\n",
    "\n",
    "temps1 = time.time()\n",
    "\n",
    "clf.fit(X_train_100.loc[id_random],y_train_0.loc[id_random], \n",
    "    eval_metric= 'auc')\n",
    "\n",
    "duration1=time.time()-temps1\n",
    "print(\"temps de training \", \"%5.2f\" % duration1, \"secondes\")\n",
    "\n",
    "\n",
    "\n"
   ]
  },
  {
   "cell_type": "code",
   "execution_count": null,
   "metadata": {},
   "outputs": [],
   "source": [
    "y_pred_probalgbm=clf.predict_proba(X_test_100)[:,1]\n",
    "y_pred_lgbm=clf.predict(X_test_100)"
   ]
  },
  {
   "cell_type": "code",
   "execution_count": null,
   "metadata": {},
   "outputs": [],
   "source": [
    "scores(y_test_0,y_pred_lgbm)"
   ]
  },
  {
   "cell_type": "code",
   "execution_count": null,
   "metadata": {},
   "outputs": [],
   "source": [
    "pd.crosstab(y_test_0,y_pred_lgbm)"
   ]
  },
  {
   "cell_type": "code",
   "execution_count": null,
   "metadata": {},
   "outputs": [],
   "source": [
    "cout_algo(X_test_0['AMT_CREDIT'],y_test_0,y_pred_lgbm,0.1,0.3,0,0)"
   ]
  },
  {
   "cell_type": "code",
   "execution_count": null,
   "metadata": {},
   "outputs": [],
   "source": [
    "# LightGBM parameters found by Bayesian optimization\n",
    "clf2 = LGBMClassifier(\n",
    "                    nthread=4,\n",
    "                    n_estimators=10000,\n",
    "                    learning_rate=0.02,\n",
    "                    num_leaves=34,\n",
    "                    colsample_bytree=0.9497036,\n",
    "                    subsample=0.8715623,\n",
    "                    max_depth=10,\n",
    "                    silent=-1,\n",
    "                    verbose=-1)\n",
    "\n",
    "temps1 = time.time()\n",
    "\n",
    "clf2.fit(X_train_100.loc[id_random],y_train_0.loc[id_random], \n",
    "    eval_metric= 'auc')\n",
    "\n",
    "duration1=time.time()-temps1\n",
    "print(\"temps de training \", \"%5.2f\" % duration1, \"secondes\")\n",
    "\n"
   ]
  },
  {
   "cell_type": "code",
   "execution_count": null,
   "metadata": {},
   "outputs": [],
   "source": [
    "y_pred_lgbm_2=clf2.predict(X_test_100)"
   ]
  },
  {
   "cell_type": "code",
   "execution_count": null,
   "metadata": {},
   "outputs": [],
   "source": [
    "scores(y_test_0,y_pred_lgbm_2)"
   ]
  },
  {
   "cell_type": "code",
   "execution_count": null,
   "metadata": {},
   "outputs": [],
   "source": [
    "pd.crosstab(y_test_0,y_pred_lgbm_2)\n"
   ]
  },
  {
   "cell_type": "code",
   "execution_count": null,
   "metadata": {},
   "outputs": [],
   "source": [
    "cout_algo(X_test_0['AMT_CREDIT'],y_test_0,y_pred_lgbm_2,0.1,0.3,0,0)"
   ]
  },
  {
   "cell_type": "code",
   "execution_count": null,
   "metadata": {},
   "outputs": [],
   "source": [
    "cout_algo_score(y_test_0,y_pred_lgbm_2)"
   ]
  },
  {
   "cell_type": "code",
   "execution_count": null,
   "metadata": {},
   "outputs": [],
   "source": [
    "# LightGBM parameters found by Bayesian optimization\n",
    "pct_training(10)\n",
    "\n",
    "clf3 = LGBMClassifier(n_estimators=1000,class_weight = {0: 0.087, 1: 1},\n",
    "                    verbose=-1)\n",
    "\n",
    "temps1 = time.time()\n",
    "\n",
    "clf3.fit(X_train_100.loc[id_random],y_train_0.loc[id_random], \n",
    "    eval_metric= 'auc')\n",
    "\n",
    "duration1=time.time()-temps1\n",
    "print(\"temps de training \", \"%5.2f\" % duration1, \"secondes\")\n",
    "\n"
   ]
  },
  {
   "cell_type": "code",
   "execution_count": null,
   "metadata": {},
   "outputs": [],
   "source": [
    "y_pred_lgbm_3=clf3.predict(X_test_100)"
   ]
  },
  {
   "cell_type": "code",
   "execution_count": null,
   "metadata": {},
   "outputs": [],
   "source": [
    "display(pd.crosstab(y_test_0,y_pred_lgbm_3),pd.crosstab(y_test_0,y_pred_lgbm_3,normalize='index').round(3)*100)"
   ]
  },
  {
   "cell_type": "markdown",
   "metadata": {},
   "source": [
    "### gridsearch lgbm\n"
   ]
  },
  {
   "cell_type": "code",
   "execution_count": null,
   "metadata": {},
   "outputs": [],
   "source": [
    "pct_training(10)\n",
    "param_grid = {\n",
    "    'class_weight': [None, 'balanced', {0: 1, 1: 5}, {0: 1, 1: 10}, {0: 1, 1: 20}]\n",
    "}\n",
    "lgbm = LGBMClassifier(n_estimators=1000)\n",
    "grid_search = GridSearchCV(estimator=lgbm, param_grid=param_grid, scoring='f1')\n",
    "grid_search.fit(X_train_100.loc[id_random], y_train_0.loc[id_random])"
   ]
  },
  {
   "cell_type": "code",
   "execution_count": null,
   "metadata": {},
   "outputs": [],
   "source": [
    "best_params = grid_search.best_params_\n",
    "best_model = grid_search.best_estimator_"
   ]
  },
  {
   "cell_type": "code",
   "execution_count": null,
   "metadata": {},
   "outputs": [],
   "source": [
    "grid_search.cv_results_"
   ]
  },
  {
   "cell_type": "code",
   "execution_count": null,
   "metadata": {},
   "outputs": [],
   "source": [
    "y_pred_lgbm_cv = best_model.predict(X_test_100)"
   ]
  },
  {
   "cell_type": "code",
   "execution_count": null,
   "metadata": {},
   "outputs": [],
   "source": [
    "display(pd.crosstab(y_test_0,y_pred_lgbm_cv),pd.crosstab(y_test_0,y_pred_lgbm_cv,normalize='index').round(3)*100)"
   ]
  },
  {
   "cell_type": "code",
   "execution_count": null,
   "metadata": {},
   "outputs": [],
   "source": []
  },
  {
   "cell_type": "code",
   "execution_count": null,
   "metadata": {},
   "outputs": [],
   "source": [
    "pct_training(10)\n",
    "param_grid = {\n",
    "    'class_weight': [{0: 0.05, 1: 1}, {0: 0.075, 1: 1}, {0:0.1 , 1: 1},{0:0.125 , 1: 1},{0:0.15 , 1: 1}]\n",
    "}\n",
    "lgbm = LGBMClassifier(n_estimators=1000)\n",
    "grid_search = GridSearchCV(estimator=lgbm, param_grid=param_grid, scoring='balanced_accuracy')\n",
    "grid_search.fit(X_train_100.loc[id_random], y_train_0.loc[id_random])"
   ]
  },
  {
   "cell_type": "code",
   "execution_count": null,
   "metadata": {},
   "outputs": [],
   "source": [
    "grid_search.cv_results_"
   ]
  },
  {
   "cell_type": "code",
   "execution_count": null,
   "metadata": {},
   "outputs": [],
   "source": [
    "y_pred_lgbm_cv = best_model.predict(X_test_100)\n",
    "display(pd.crosstab(y_test_0,y_pred_lgbm_cv),pd.crosstab(y_test_0,y_pred_lgbm_cv,normalize='index').round(3)*100)"
   ]
  },
  {
   "cell_type": "markdown",
   "metadata": {},
   "source": [
    "### gridsearch custom score"
   ]
  },
  {
   "cell_type": "code",
   "execution_count": null,
   "metadata": {},
   "outputs": [],
   "source": [
    "# poids : 4,5,6,7,8,9,1% (erreur 1 au lieu de 10)\n",
    "pct_training(20)\n",
    "param_grid = {\n",
    "    'class_weight': [{0: 0.04, 1: 1}, {0: 0.05, 1: 1},{0: 0.06, 1: 1},{0: 0.07, 1: 1},{0: 0.08, 1: 1},{0: 0.09, 1: 1},{0: 0.01, 1: 1}]\n",
    "}\n",
    "lgbm = LGBMClassifier(n_estimators=1000)\n",
    "grid_search = GridSearchCV(estimator=lgbm, param_grid=param_grid, scoring=cout_algo_score)\n",
    "grid_search.fit(X_train_100.loc[id_random], y_train_0.loc[id_random])"
   ]
  },
  {
   "cell_type": "code",
   "execution_count": null,
   "metadata": {},
   "outputs": [],
   "source": [
    "grid_search.cv_results_"
   ]
  },
  {
   "cell_type": "code",
   "execution_count": null,
   "metadata": {},
   "outputs": [],
   "source": [
    "best_model = grid_search.best_estimator_\n",
    "y_pred_lgbm_cv = best_model.predict(X_test_100)\n",
    "display(pd.crosstab(y_test_0,y_pred_lgbm_cv),pd.crosstab(y_test_0,y_pred_lgbm_cv,normalize='index').round(3)*100)"
   ]
  },
  {
   "cell_type": "code",
   "execution_count": null,
   "metadata": {},
   "outputs": [],
   "source": [
    "# 0.5,2,3,10,11,12,13 %\n",
    "pct_training(20)\n",
    "param_grid = {\n",
    "    'class_weight': [{0: 0.005, 1: 1}, {0: 0.02, 1: 1},{0: 0.03, 1: 1},{0: 0.1, 1: 1},{0: 0.11, 1: 1},{0: 0.12, 1: 1},{0: 0.13, 1: 1}]\n",
    "}\n",
    "lgbm = LGBMClassifier(n_estimators=1000)\n",
    "grid_search = GridSearchCV(estimator=lgbm, param_grid=param_grid, scoring=cout_algo_score)\n",
    "grid_search.fit(X_train_100.loc[id_random], y_train_0.loc[id_random])"
   ]
  },
  {
   "cell_type": "code",
   "execution_count": null,
   "metadata": {},
   "outputs": [],
   "source": [
    "grid_search.cv_results_"
   ]
  },
  {
   "cell_type": "code",
   "execution_count": null,
   "metadata": {},
   "outputs": [],
   "source": [
    "best_model = grid_search.best_estimator_\n",
    "y_pred_lgbm_cv = best_model.predict(X_test_100)\n",
    "display(pd.crosstab(y_test_0,y_pred_lgbm_cv),pd.crosstab(y_test_0,y_pred_lgbm_cv,normalize='index').round(3)*100)"
   ]
  },
  {
   "cell_type": "code",
   "execution_count": null,
   "metadata": {},
   "outputs": [],
   "source": [
    "# 0.6,0.7,0.8,0.9 %\n",
    "pct_training(20)\n",
    "param_grid = {\n",
    "    'class_weight': [{0: 0.006, 1: 1}, {0: 0.007, 1: 1},{0: 0.008, 1: 1},{0: 0.009, 1: 1}]\n",
    "}\n",
    "lgbm = LGBMClassifier(n_estimators=1000)\n",
    "grid_search = GridSearchCV(estimator=lgbm, param_grid=param_grid, scoring=cout_algo_score)\n",
    "grid_search.fit(X_train_100.loc[id_random], y_train_0.loc[id_random])"
   ]
  },
  {
   "cell_type": "code",
   "execution_count": null,
   "metadata": {},
   "outputs": [],
   "source": [
    "grid_search.cv_results_"
   ]
  },
  {
   "cell_type": "code",
   "execution_count": null,
   "metadata": {},
   "outputs": [],
   "source": [
    "best_model = grid_search.best_estimator_\n",
    "y_pred_lgbm_cv = best_model.predict(X_test_100)\n",
    "display(pd.crosstab(y_test_0,y_pred_lgbm_cv),pd.crosstab(y_test_0,y_pred_lgbm_cv,normalize='index').round(3)*100)"
   ]
  },
  {
   "cell_type": "code",
   "execution_count": null,
   "metadata": {},
   "outputs": [],
   "source": [
    "# 0.6,0.7,0.8,0.9 %\n",
    "pct_training(20)\n",
    "param_grid = {\n",
    "    'class_weight': [{0: 0.0065, 1: 1}, {0: 0.00675, 1: 1},{0: 0.00725, 1: 1},{0: 0.0075, 1: 1}]\n",
    "}\n",
    "lgbm = LGBMClassifier(n_estimators=1000)\n",
    "grid_search = GridSearchCV(estimator=lgbm, param_grid=param_grid, scoring=cout_algo_score)\n",
    "grid_search.fit(X_train_100.loc[id_random], y_train_0.loc[id_random])"
   ]
  },
  {
   "cell_type": "code",
   "execution_count": null,
   "metadata": {},
   "outputs": [],
   "source": [
    "grid_search.cv_results_"
   ]
  },
  {
   "cell_type": "code",
   "execution_count": null,
   "metadata": {},
   "outputs": [],
   "source": [
    "best_model = grid_search.best_estimator_\n",
    "y_pred_lgbm_cv = best_model.predict(X_test_100)\n",
    "display(pd.crosstab(y_test_0,y_pred_lgbm_cv),pd.crosstab(y_test_0,y_pred_lgbm_cv,normalize='index').round(3)*100)"
   ]
  },
  {
   "cell_type": "code",
   "execution_count": null,
   "metadata": {},
   "outputs": [],
   "source": [
    "#weight = 7%"
   ]
  },
  {
   "cell_type": "code",
   "execution_count": null,
   "metadata": {},
   "outputs": [],
   "source": [
    "# LightGBM parameters found by Bayesian optimization\n",
    "pct_training(100)\n",
    "\n",
    "clf4 = LGBMClassifier(n_estimators=1000,class_weight = {0: 0.07, 1: 1},\n",
    "                    verbose=-1)\n",
    "\n",
    "temps1 = time.time()\n",
    "\n",
    "clf4.fit(X_train_100.loc[id_random],y_train_0.loc[id_random], \n",
    "    eval_metric= 'auc')\n",
    "\n",
    "duration1=time.time()-temps1\n",
    "print(\"temps de training \", \"%5.2f\" % duration1, \"secondes\")\n"
   ]
  },
  {
   "cell_type": "code",
   "execution_count": null,
   "metadata": {},
   "outputs": [],
   "source": [
    "y_pred_lgbm_4=clf4.predict(X_test_100)\n",
    "scores(y_test_0,y_pred_lgbm_4)\n",
    "display(pd.crosstab(y_test_0,y_pred_lgbm_4),pd.crosstab(y_test_0,y_pred_lgbm_4,normalize='index').round(3)*100)\n",
    "cout_algo(X_test_0['AMT_CREDIT'],y_test_0,y_pred_lgbm_4,0.1,0.3,0,0)"
   ]
  },
  {
   "cell_type": "code",
   "execution_count": null,
   "metadata": {},
   "outputs": [],
   "source": [
    "display(pd.crosstab(y_test_0,y_pred_lgbm_4),pd.crosstab(y_test_0,y_pred_lgbm_4,normalize='index').round(3)*100)"
   ]
  },
  {
   "cell_type": "code",
   "execution_count": null,
   "metadata": {},
   "outputs": [],
   "source": [
    "# LightGBM parameters found by Bayesian optimization\n",
    "pct_training(100)\n",
    "\n",
    "clf5 = LGBMClassifier(n_estimators=1000,class_weight = {0: 0.087, 1: 1},\n",
    "                    verbose=-1)\n",
    "\n",
    "temps1 = time.time()\n",
    "\n",
    "clf5.fit(X_train_100.loc[id_random],y_train_0.loc[id_random], \n",
    "    eval_metric= 'auc')\n",
    "\n",
    "duration1=time.time()-temps1\n",
    "print(\"temps de training \", \"%5.2f\" % duration1, \"secondes\")\n"
   ]
  },
  {
   "cell_type": "code",
   "execution_count": null,
   "metadata": {},
   "outputs": [],
   "source": [
    "y_pred_lgbm_5=clf5.predict(X_test_100)\n",
    "scores(y_test_0,y_pred_lgbm_5)\n",
    "display(pd.crosstab(y_test_0,y_pred_lgbm_5),pd.crosstab(y_test_0,y_pred_lgbm_5,normalize='index').round(3)*100)\n",
    "cout_algo(X_test_0['AMT_CREDIT'],y_test_0,y_pred_lgbm_5,0.1,0.3,0,0)"
   ]
  },
  {
   "cell_type": "code",
   "execution_count": null,
   "metadata": {},
   "outputs": [],
   "source": [
    "# LightGBM parameters found by Bayesian optimization\n",
    "pct_training(50)\n",
    "\n",
    "clf6 = LGBMClassifier(n_estimators=1000,class_weight = {0: 0.3, 1: 1},\n",
    "                    verbose=-1)\n",
    "\n",
    "temps1 = time.time()\n",
    "\n",
    "clf6.fit(X_train_100.loc[id_random],y_train_0.loc[id_random], \n",
    "    eval_metric= 'auc')\n",
    "\n",
    "duration1=time.time()-temps1\n",
    "print(\"temps de training \", \"%5.2f\" % duration1, \"secondes\")\n",
    "\n",
    "y_pred_lgbm_6=clf6.predict(X_test_100)\n",
    "scores(y_test_0,y_pred_lgbm_6)\n",
    "display(pd.crosstab(y_test_0,y_pred_lgbm_6),pd.crosstab(y_test_0,y_pred_lgbm_6,normalize='index').round(3)*100)\n",
    "cout_algo(X_test_0['AMT_CREDIT'],y_test_0,y_pred_lgbm_6,0.1,0.3,0,0)"
   ]
  },
  {
   "cell_type": "markdown",
   "metadata": {},
   "source": [
    "### gridsearch, paramètre poids des classes global pour courbes cout_algo, true pos et false pos\n",
    "\n",
    "\n",
    "\n"
   ]
  },
  {
   "cell_type": "code",
   "execution_count": null,
   "metadata": {},
   "outputs": [],
   "source": [
    "np.linspace(0.01,0.3,59)"
   ]
  },
  {
   "cell_type": "code",
   "execution_count": null,
   "metadata": {},
   "outputs": [],
   "source": [
    "# 27 min de calcul, df final sauvegardé dessous\n",
    "# df_lgbm_perf=pd.DataFrame(index=np.linspace(0.01,0.3,59))\n",
    "# for i in np.linspace(0.01,0.3,59):\n",
    "#     pct_training(50)\n",
    "#     clf_temp = LGBMClassifier(n_estimators=1000,class_weight = {0: i, 1: 1},verbose=-1)\n",
    "#     clf_temp.fit(X_train_100.loc[id_random],y_train_0.loc[id_random], eval_metric= 'auc')\n",
    "#     y_pred_lgbm_temp=clf_temp.predict(X_test_100)\n",
    "    \n",
    "#     df_lgbm_perf.at[i,'pct_fp']=pd.crosstab(y_test_0,y_pred_lgbm_temp,normalize='index').at[0,1].round(3)*100\n",
    "#     df_lgbm_perf.at[i,'pct_tp']=pd.crosstab(y_test_0,y_pred_lgbm_temp,normalize='index').at[1,1].round(3)*100\n",
    "#     df_lgbm_perf.at[i,'cout_algo']=cout_algo(X_test_0['AMT_CREDIT'],y_test_0,y_pred_lgbm_temp,0.1,0.3,0,0)[3]\n"
   ]
  },
  {
   "cell_type": "code",
   "execution_count": null,
   "metadata": {},
   "outputs": [],
   "source": [
    "# Sauvegarde des résultats\n",
    "# df_lgbm_perf.to_csv(\"1_outputs/df_lgbm_perf.csv\",sep='\\t',index_label='weight_param')"
   ]
  },
  {
   "cell_type": "code",
   "execution_count": null,
   "metadata": {},
   "outputs": [],
   "source": [
    "# import des résultats sauvegardés\n",
    "df_lgbm_perf_def=pd.read_csv(\"1_outputs/df_lgbm_perf.csv\",sep='\\t',index_col='weight_param')"
   ]
  },
  {
   "cell_type": "code",
   "execution_count": null,
   "metadata": {},
   "outputs": [],
   "source": [
    "df_lgbm_perf_def['ratio tp/fp']=df_lgbm_perf_def['pct_tp']/df_lgbm_perf_def['pct_fp']"
   ]
  },
  {
   "cell_type": "code",
   "execution_count": null,
   "metadata": {},
   "outputs": [],
   "source": [
    "df_lgbm_perf_def['cout_pr_visu']=(df_lgbm_perf_def['cout_algo']-4)*65"
   ]
  },
  {
   "cell_type": "code",
   "execution_count": null,
   "metadata": {},
   "outputs": [],
   "source": [
    "# sns.reset_orig()"
   ]
  },
  {
   "cell_type": "code",
   "execution_count": null,
   "metadata": {},
   "outputs": [],
   "source": [
    "df_lgbm_perf_def.head()"
   ]
  },
  {
   "cell_type": "code",
   "execution_count": null,
   "metadata": {},
   "outputs": [],
   "source": [
    "# Your data and line plots\n",
    "sns.lineplot(x=df_lgbm_perf_def.index, y=df_lgbm_perf_def['pct_fp'], color='b')\n",
    "# Plot a vertical line from the KDE curve to the y-axis\n",
    "plt.axvline(x=0.07, color='black', linestyle='--', label='Vertical Line')\n",
    "\n",
    "plt.ylim(0,35)\n",
    "plt.ylabel('% de paiements refusés à tort',color='b')\n",
    "# Create a secondary y-axis\n",
    "ax2 = plt.twinx()\n",
    "\n",
    "sns.lineplot(x=df_lgbm_perf_def.index, y=df_lgbm_perf_def['pct_tp'], color='r', ax=ax2)\n",
    "sns.lineplot(x=df_lgbm_perf_def.index, y=df_lgbm_perf_def['cout_pr_visu'], label=\"Rendement global ptf via fonction de cout\", color='black',ax=ax2,marker='o')\n",
    "# Adding legends\n",
    "plt.legend(loc='upper left')\n",
    "ax2.legend(loc='upper right')\n",
    "\n",
    "# Set labels and titles\n",
    "\n",
    "\n",
    "plt.ylabel(\"temp\",color='r')\n",
    "ax2.set_ylabel(\"% de difficultés de paiements identifiés\")\n",
    "ax2.set_ylim(0,70)\n",
    "plt.title(\"Performances du lgbm en fonction du param de poids des classes\")\n",
    "plt.grid()\n",
    "plt.show()"
   ]
  },
  {
   "cell_type": "code",
   "execution_count": null,
   "metadata": {},
   "outputs": [],
   "source": [
    "# obtention du paramètre d'index tq\n",
    "cible=abs(df_lgbm_perf_def['pct_fp']-10)\n",
    "cible.idxmin(axis=0)"
   ]
  },
  {
   "cell_type": "markdown",
   "metadata": {},
   "source": [
    "### grid search précis du max du cout_algo"
   ]
  },
  {
   "cell_type": "code",
   "execution_count": null,
   "metadata": {},
   "outputs": [],
   "source": [
    "#  Long,  16*8 entrainements de 30 sec\n",
    "# df_lgbm_perf_3=pd.DataFrame(index=np.linspace(0.055,0.07,16))\n",
    "# for i in np.linspace(0.055,0.07,16):\n",
    "#     for j in [1,2,3,4,5,6,7,8]:\n",
    "#         pct_training(50)\n",
    "#         clf_temp = LGBMClassifier(n_estimators=1000,class_weight = {0: i, 1: 1},verbose=-1)\n",
    "#         clf_temp.fit(X_train_100.loc[id_random],y_train_0.loc[id_random], eval_metric= 'auc')\n",
    "#         y_pred_lgbm_temp=clf_temp.predict(X_test_100)\n",
    "        \n",
    "#         df_lgbm_perf_3.at[i+j,'pct_fp']=pd.crosstab(y_test_0,y_pred_lgbm_temp,normalize='index').at[0,1].round(3)*100\n",
    "#         df_lgbm_perf_3.at[i+j,'pct_tp']=pd.crosstab(y_test_0,y_pred_lgbm_temp,normalize='index').at[1,1].round(3)*100\n",
    "#         df_lgbm_perf_3.at[i+j,'cout_algo']=cout_algo(X_test_0['AMT_CREDIT'],y_test_0,y_pred_lgbm_temp,0.1,0.3,0,0)[3]\n",
    "\n",
    "#  #Sauvegarde des résultats\n",
    "# df_lgbm_perf_3.to_csv(\"1_outputs/df_lgbm_perf_3.csv\",sep='\\t',index_label='weight_param')"
   ]
  },
  {
   "cell_type": "code",
   "execution_count": null,
   "metadata": {},
   "outputs": [],
   "source": [
    "# import des résultats sauvegardés\n",
    "df_lgbm_perf_tot=pd.read_csv(\"1_outputs/df_lgbm_perf_3.csv\",sep='\\t',index_col='weight_param')"
   ]
  },
  {
   "cell_type": "code",
   "execution_count": null,
   "metadata": {},
   "outputs": [],
   "source": [
    "temp=df_lgbm_perf_tot.loc[df_lgbm_perf_tot['pct_fp'].isna()==False].copy()\n"
   ]
  },
  {
   "cell_type": "code",
   "execution_count": null,
   "metadata": {},
   "outputs": [],
   "source": [
    "temp['param']=np.round((temp.index-np.floor(temp.index)),3)"
   ]
  },
  {
   "cell_type": "code",
   "execution_count": null,
   "metadata": {},
   "outputs": [],
   "source": [
    "temp=temp.groupby(by='param').mean()"
   ]
  },
  {
   "cell_type": "code",
   "execution_count": null,
   "metadata": {},
   "outputs": [],
   "source": [
    "temp=temp.reset_index()"
   ]
  },
  {
   "cell_type": "code",
   "execution_count": null,
   "metadata": {},
   "outputs": [],
   "source": [
    "temp['cout_visu']=temp['cout_algo']*9"
   ]
  },
  {
   "cell_type": "code",
   "execution_count": null,
   "metadata": {},
   "outputs": [],
   "source": [
    "temp"
   ]
  },
  {
   "cell_type": "code",
   "execution_count": null,
   "metadata": {},
   "outputs": [],
   "source": [
    "# Your data and line plots\n",
    "sns.lineplot(x=temp['param'], y=temp['pct_fp'], color='b')\n",
    "# Plot a vertical line from the KDE curve to the y-axis\n",
    "#plt.axvline(x=0.07, color='black', linestyle='--', label='Vertical Line')\n",
    "plt.ylim(10,16)\n",
    "\n",
    "plt.ylabel('% de paiements refusés à tort',color='b')\n",
    "# Create a secondary y-axis\n",
    "ax2 = plt.twinx()\n",
    "\n",
    "sns.lineplot(x=temp['param'], y=temp['pct_tp'], color='r', ax=ax2)\n",
    "sns.lineplot(x=temp['param'], y=temp['cout_visu'], label=\"Rendement global ptf via fonction de cout\", color='black',ax=ax2,marker='o')\n",
    "# Adding legends\n",
    "plt.legend(loc='upper left')\n",
    "ax2.legend(loc='upper right')\n",
    "ax2.set_ylim(40,46)\n",
    "# Set labels and titles\n",
    "\n",
    "\n",
    "plt.ylabel(\"temp\",color='r')\n",
    "ax2.set_ylabel(\"% de difficultés de paiements identifiés\")\n",
    "\n",
    "plt.title(\"Performances du lgbm en fonction du param de poids des classes\")\n",
    "plt.grid()\n",
    "plt.show()"
   ]
  },
  {
   "cell_type": "code",
   "execution_count": null,
   "metadata": {},
   "outputs": [],
   "source": []
  },
  {
   "cell_type": "markdown",
   "metadata": {},
   "source": [
    "### test avec seuil probas de lgbm"
   ]
  },
  {
   "cell_type": "code",
   "execution_count": null,
   "metadata": {},
   "outputs": [],
   "source": [
    "temp=pd.Series(y_pred_lgbm,index=y_test_0.index)\n",
    "temp"
   ]
  },
  {
   "cell_type": "code",
   "execution_count": null,
   "metadata": {},
   "outputs": [],
   "source": [
    "y_pred_probalgbm"
   ]
  },
  {
   "cell_type": "code",
   "execution_count": null,
   "metadata": {},
   "outputs": [],
   "source": [
    "sns.histplot(y_pred_probalgbm,bins=50)\n",
    "plt.show()"
   ]
  },
  {
   "cell_type": "code",
   "execution_count": null,
   "metadata": {},
   "outputs": [],
   "source": [
    "y_test_0.value_counts()"
   ]
  },
  {
   "cell_type": "code",
   "execution_count": null,
   "metadata": {},
   "outputs": [],
   "source": [
    "# on compte le nombre de valeurs positives dans le jeu réel\n",
    "y_test_0.sum()"
   ]
  },
  {
   "cell_type": "code",
   "execution_count": null,
   "metadata": {},
   "outputs": [],
   "source": [
    "# y_test_ contient des 0 et des 1 donc la somme donne le nombre de valeurs 1\n",
    "# on détermine le seuil de atteint par la proba en comptant un nombre de valeurs égales à celui des effectifs positifs de l'échantillon réel\n",
    "seuil=np.sort(y_pref_probalgbm)[len(y_test_0)-int(y_test_0.sum())]\n",
    "seuil"
   ]
  },
  {
   "cell_type": "code",
   "execution_count": null,
   "metadata": {},
   "outputs": [],
   "source": [
    "# la prédiction retouchée est alors basée sur le seuil établi \n",
    "y_pred_lgbm=pd.Series(y_pref_probalgbm,index=y_test_0.index,name='pred')\n",
    "y_pred_lgbm=y_pred_lgbm.apply(lambda x: 0 if x<seuil else 1)\n",
    "\n"
   ]
  },
  {
   "cell_type": "markdown",
   "metadata": {},
   "source": [
    "## Explo: Définition d'un df cout/gain"
   ]
  },
  {
   "cell_type": "code",
   "execution_count": null,
   "metadata": {},
   "outputs": [],
   "source": [
    "base['AMT_CREDIT_POS']=base['AMT_CREDIT']-base['AMT_CREDIT'].min()"
   ]
  },
  {
   "cell_type": "code",
   "execution_count": null,
   "metadata": {},
   "outputs": [],
   "source": [
    "base[['AMT_CREDIT','AMT_CREDIT_POS']].describe()"
   ]
  },
  {
   "cell_type": "code",
   "execution_count": null,
   "metadata": {},
   "outputs": [],
   "source": [
    "# tx_rendement=0.1\n",
    "# tx_recouvrement=0.3"
   ]
  },
  {
   "cell_type": "code",
   "execution_count": null,
   "metadata": {},
   "outputs": [],
   "source": [
    "# impact_model_train=pd.DataFrame(base['TARGET'],index=X_train_100.index)\n",
    "# impact_model_train['Prets']=base.loc[X_train_100.index,'AMT_CREDIT_POS'].copy()\n"
   ]
  },
  {
   "cell_type": "code",
   "execution_count": null,
   "metadata": {},
   "outputs": [],
   "source": [
    "# impact_model_train['Gain']=(base.loc[X_train_100.index,'AMT_CREDIT_POS']*(1-base.loc[X_train_100.index,'TARGET'])*tx_rendement).copy()"
   ]
  },
  {
   "cell_type": "code",
   "execution_count": null,
   "metadata": {},
   "outputs": [],
   "source": [
    "# impact_model_train['Perte']=(base.loc[X_train_100.index,'AMT_CREDIT_POS']*(base.loc[X_train_100.index,'TARGET'])*(1-tx_recouvrement)).copy()"
   ]
  },
  {
   "cell_type": "code",
   "execution_count": null,
   "metadata": {},
   "outputs": [],
   "source": [
    "# def recap_gain_v0(df):\n",
    "#     print('Valeur des prêts =',round(impact_model_train['Prets'].sum(),2))\n",
    "#     print('Gain de rendement des prêts remboursés =',round(impact_model_train['Gain'].sum(),2))\n",
    "#     print('Perte liées aux prêts non remboursés =',round(impact_model_train['Perte'].sum(),2))\n",
    "#     rdmt_ptf=(impact_model_train['Gain'].sum()-impact_model_train['Perte'].sum())/impact_model_train['Prets'].sum()\n",
    "#     print('Rendement global (Gain-Perte)/Valeur =',round(rdmt_ptf,4)*100,'%')\n"
   ]
  },
  {
   "cell_type": "code",
   "execution_count": null,
   "metadata": {},
   "outputs": [],
   "source": [
    "# recap_gain_v0(impact_model_train)"
   ]
  },
  {
   "cell_type": "code",
   "execution_count": null,
   "metadata": {},
   "outputs": [],
   "source": [
    "# def recap_gain_txt(valeur_pret,indic_pb_paie,tx_rdmt,tx_rcvrmt):\n",
    "#     temp=pd.DataFrame(index=valeur_pret.index)\n",
    "#     if valeur_pret.min()<0:\n",
    "#         temp['Prets']=(valeur_pret-valeur_pret.min()).copy()\n",
    "#     else:\n",
    "#         temp['Prets']=valeur_pret.copy()\n",
    "    \n",
    "#     #indic_pb_paie : 0 si ok => gain=pret *tx_ rdmt, 1 si pb => perte=pret*(1-tx_rcvrmt)\n",
    "#     temp['Gain']=(temp['Prets']*(1-indic_pb_paie)*tx_rdmt).copy()\n",
    "#     temp['Perte']=(temp['Prets']*indic_pb_paie*(1-tx_rcvrmt)).copy()\n",
    "                   \n",
    "#     print('Valeur des prêts =',round(temp['Prets'].sum(),2))\n",
    "#     print('Gain de rendement des prêts remboursés =',round(temp['Gain'].sum(),2))\n",
    "#     print('Perte liées aux prêts non remboursés =',round(temp['Perte'].sum(),2))\n",
    "#     rdmt_ptf=(temp['Gain'].sum()-temp['Perte'].sum())/temp['Prets'].sum()\n",
    "#     print('Rendement global (Gain-Perte)/Valeur =',round(rdmt_ptf,4)*100,'%')\n",
    "    "
   ]
  },
  {
   "cell_type": "code",
   "execution_count": null,
   "metadata": {},
   "outputs": [],
   "source": [
    "# def recap_gain_nbr(valeur_pret,indic_pb_paie,tx_rdmt,tx_rcvrmt):\n",
    "#     temp=pd.DataFrame(index=valeur_pret.index)\n",
    "#     if valeur_pret.min()<0:\n",
    "#         temp['Prets']=(valeur_pret-valeur_pret.min()).copy()\n",
    "#     else:\n",
    "#         temp['Prets']=valeur_pret.copy()\n",
    "    \n",
    "#     #indic_pb_paie : 0 si ok => gain=pret *tx_ rdmt, 1 si pb => perte=pret*(1-tx_rcvrmt)\n",
    "#     temp['Gain']=(temp['Prets']*(1-indic_pb_paie)*tx_rdmt).copy()\n",
    "#     temp['Perte']=(temp['Prets']*indic_pb_paie*(1-tx_rcvrmt)).copy()\n",
    "                   \n",
    "#     rdmt_ptf=(temp['Gain'].sum()-temp['Perte'].sum())/temp['Prets'].sum()\n",
    "#     return round(rdmt_ptf,4)*100"
   ]
  },
  {
   "cell_type": "code",
   "execution_count": null,
   "metadata": {},
   "outputs": [],
   "source": [
    "# recap_gain_txt(base.loc[X_train_100.index,'AMT_CREDIT'],base.loc[X_train_100.index,'TARGET'],0.15,0.3)"
   ]
  },
  {
   "cell_type": "code",
   "execution_count": null,
   "metadata": {},
   "outputs": [],
   "source": [
    "# recap_gain_nbr(base.loc[X_train_100.index,'AMT_CREDIT'],base.loc[X_train_100.index,'TARGET'],0.15,0.3)"
   ]
  },
  {
   "cell_type": "code",
   "execution_count": null,
   "metadata": {},
   "outputs": [],
   "source": [
    "# np.linspace(0,1,11)"
   ]
  },
  {
   "cell_type": "code",
   "execution_count": null,
   "metadata": {},
   "outputs": [],
   "source": [
    "# visu=pd.DataFrame(index=np.linspace(0,0.5,11),columns=np.linspace(0,0.5,11),dtype=float)\n",
    "# for i in visu.index:\n",
    "#     for j in visu.columns:\n",
    "#         visu.at[i,j]=recap_gain_nbr(base.loc[X_train_100.index,'AMT_CREDIT'],base.loc[X_train_100.index,'TARGET'],i,j)\n",
    "# visu"
   ]
  },
  {
   "cell_type": "code",
   "execution_count": null,
   "metadata": {},
   "outputs": [],
   "source": [
    "# sns.heatmap(visu)"
   ]
  },
  {
   "cell_type": "code",
   "execution_count": null,
   "metadata": {},
   "outputs": [],
   "source": [
    "visu=pd.DataFrame(index=np.linspace(0,0.1,11),columns=np.linspace(0,0.4,11),dtype=float)\n",
    "for i in visu.index:\n",
    "    for j in visu.columns:\n",
    "        visu.at[i,j]=recap_gain_nbr(base.loc[X_train_100.index,'AMT_CREDIT'],base.loc[X_train_100.index,'TARGET'],i,j)\n",
    "visu"
   ]
  },
  {
   "cell_type": "code",
   "execution_count": null,
   "metadata": {},
   "outputs": [],
   "source": [
    "sns.heatmap(visu)"
   ]
  },
  {
   "cell_type": "code",
   "execution_count": null,
   "metadata": {},
   "outputs": [],
   "source": [
    "# base.loc[base.index.isin(X_test_100.index),'AMT_CREDIT']"
   ]
  },
  {
   "cell_type": "code",
   "execution_count": null,
   "metadata": {},
   "outputs": [],
   "source": [
    "df_result['lgbm']=y_pred_lgbm\n",
    "df_result['erreurs']=list(zip(df_result['pred16'],df_result['pred17'],df_result['TARGET'],df_result['lgbm']))"
   ]
  },
  {
   "cell_type": "code",
   "execution_count": null,
   "metadata": {},
   "outputs": [],
   "source": [
    "grille=df_result.value_counts()\n",
    "grille"
   ]
  },
  {
   "cell_type": "code",
   "execution_count": null,
   "metadata": {},
   "outputs": [],
   "source": [
    "df_result.loc[df_result['TARGET']==1].value_counts()"
   ]
  },
  {
   "cell_type": "code",
   "execution_count": null,
   "metadata": {},
   "outputs": [],
   "source": [
    "\n",
    "df_result.drop(['erreurs'],axis=1,inplace=True)\n",
    "df_result['erreurs']=list(zip(df_result['TARGET'],df_result['pred16'],df_result['pred17'],df_result['lgbm']))"
   ]
  },
  {
   "cell_type": "code",
   "execution_count": null,
   "metadata": {},
   "outputs": [],
   "source": [
    "grille=df_result.drop('erreurs',axis=1).value_counts().sort_index(level=[1,2,3], ascending=[True,True,True])\n",
    "grille"
   ]
  },
  {
   "cell_type": "code",
   "execution_count": null,
   "metadata": {},
   "outputs": [],
   "source": [
    "print('',grille[:,0,0,0][0]/grille[:,0,0,0].sum(),'\\n',\n",
    "grille[:,1,0,0][0]/grille[:,1,0,0].sum(),'\\n',\n",
    "grille[:,1,1,0][0]/grille[:,1,1,0].sum(),'\\n',\n",
    "grille[:,1,1,1][0]/grille[:,1,1,1].sum(),'\\n',\n",
    "grille[:,0,1,0][0]/grille[:,0,1,0].sum(),'\\n',\n",
    "grille[:,0,0,1][0]/grille[:,0,0,1].sum(),'\\n',\n",
    "grille[:,1,0,1][0]/grille[:,1,0,1].sum(),'\\n',\n",
    "grille[:,0,1,1][0]/grille[:,0,1,1].sum(),'\\n'\n",
    "\n",
    ")"
   ]
  },
  {
   "cell_type": "markdown",
   "metadata": {},
   "source": [
    "# Modèle final"
   ]
  },
  {
   "cell_type": "markdown",
   "metadata": {},
   "source": [
    "## Définition et Fit\n"
   ]
  },
  {
   "cell_type": "code",
   "execution_count": null,
   "metadata": {},
   "outputs": [],
   "source": [
    "# pip install --upgrade pip setuptools"
   ]
  },
  {
   "cell_type": "code",
   "execution_count": null,
   "metadata": {},
   "outputs": [],
   "source": [
    "# old, utilisation de X_train_0 qui inclut les données d'index non utiles dans l'interprétabilité\n",
    "\n",
    "# model_risk_creation = LGBMClassifier(n_estimators=1000,class_weight={0:0.09,1:1})\n",
    "# model_risk_creation.fit(X_train_0, y_train_0,eval_metric= 'auc')"
   ]
  },
  {
   "cell_type": "code",
   "execution_count": 18,
   "metadata": {},
   "outputs": [],
   "source": [
    "# test x_train_1 avec drop de l'index => info non pertinente dans le cadre de l'interprétabilité => ne pas l'inclure dans le modèle\n",
    "\n",
    "# Création des jeux train/test initiaux, _0 indique toutes variables\n",
    "X_train_1, X_test_1, y_train_1, y_test_1=train_test_split(base.loc[base['TARGET']>-1].drop(['TARGET','INDEX','SK_ID_CURR'],axis=1), \n",
    "                                                          base.loc[base['TARGET']>-1,'TARGET'], \n",
    "                                                          test_size=0.20,\n",
    "                                                          random_state=8)\n"
   ]
  },
  {
   "cell_type": "code",
   "execution_count": 17,
   "metadata": {},
   "outputs": [
    {
     "ename": "NameError",
     "evalue": "name 'base_100' is not defined",
     "output_type": "error",
     "traceback": [
      "\u001b[1;31m---------------------------------------------------------------------------\u001b[0m",
      "\u001b[1;31mNameError\u001b[0m                                 Traceback (most recent call last)",
      "Cell \u001b[1;32mIn[17], line 4\u001b[0m\n\u001b[0;32m      1\u001b[0m \u001b[38;5;66;03m# test x_train_1 avec drop de l'index => info non pertinente dans le cadre de l'interprétabilité => ne pas l'inclure dans le modèle\u001b[39;00m\n\u001b[0;32m      2\u001b[0m \n\u001b[0;32m      3\u001b[0m \u001b[38;5;66;03m# Création des jeux train/test initiaux, _0 indique toutes variables\u001b[39;00m\n\u001b[1;32m----> 4\u001b[0m X_train_100, X_test_100, y_train_100, y_test_100\u001b[38;5;241m=\u001b[39mtrain_test_split(\u001b[43mbase_100\u001b[49m\u001b[38;5;241m.\u001b[39mloc[base_100[\u001b[38;5;124m'\u001b[39m\u001b[38;5;124mTARGET\u001b[39m\u001b[38;5;124m'\u001b[39m]\u001b[38;5;241m>\u001b[39m\u001b[38;5;241m-\u001b[39m\u001b[38;5;241m1\u001b[39m]\u001b[38;5;241m.\u001b[39mdrop([\u001b[38;5;124m'\u001b[39m\u001b[38;5;124mTARGET\u001b[39m\u001b[38;5;124m'\u001b[39m,\u001b[38;5;124m'\u001b[39m\u001b[38;5;124mINDEX\u001b[39m\u001b[38;5;124m'\u001b[39m],axis\u001b[38;5;241m=\u001b[39m\u001b[38;5;241m1\u001b[39m), \n\u001b[0;32m      5\u001b[0m                                                           base_100\u001b[38;5;241m.\u001b[39mloc[base_100[\u001b[38;5;124m'\u001b[39m\u001b[38;5;124mTARGET\u001b[39m\u001b[38;5;124m'\u001b[39m]\u001b[38;5;241m>\u001b[39m\u001b[38;5;241m-\u001b[39m\u001b[38;5;241m1\u001b[39m,\u001b[38;5;124m'\u001b[39m\u001b[38;5;124mTARGET\u001b[39m\u001b[38;5;124m'\u001b[39m], \n\u001b[0;32m      6\u001b[0m                                                           test_size\u001b[38;5;241m=\u001b[39m\u001b[38;5;241m0.20\u001b[39m,\n\u001b[0;32m      7\u001b[0m                                                           random_state\u001b[38;5;241m=\u001b[39m\u001b[38;5;241m8\u001b[39m)\n",
      "\u001b[1;31mNameError\u001b[0m: name 'base_100' is not defined"
     ]
    }
   ],
   "source": [
    "# test x_train_1 avec drop de l'index => info non pertinente dans le cadre de l'interprétabilité => ne pas l'inclure dans le modèle\n",
    "\n",
    "# Création des jeux train/test initiaux, _0 indique toutes variables\n",
    "X_train_100, X_test_100, y_train_100, y_test_100=train_test_split(base_100.loc[base_100['TARGET']>-1].drop(['TARGET','INDEX'],axis=1), \n",
    "                                                          base_100.loc[base_100['TARGET']>-1,'TARGET'], \n",
    "                                                          test_size=0.20,\n",
    "                                                          random_state=8)"
   ]
  },
  {
   "cell_type": "code",
   "execution_count": 19,
   "metadata": {},
   "outputs": [
    {
     "name": "stdout",
     "output_type": "stream",
     "text": [
      "[LightGBM] [Info] Number of positive: 19770, number of negative: 226235\n",
      "[LightGBM] [Info] Auto-choosing col-wise multi-threading, the overhead of testing was 0.584548 seconds.\n",
      "You can set `force_col_wise=true` to remove the overhead.\n",
      "[LightGBM] [Info] Total Bins 79322\n",
      "[LightGBM] [Info] Number of data points in the train set: 246005, number of used features: 519\n",
      "[LightGBM] [Info] [binary:BoostFromScore]: pavg=0.492635 -> initscore=-0.029463\n",
      "[LightGBM] [Info] Start training from score -0.029463\n"
     ]
    },
    {
     "data": {
      "text/html": [
       "<style>#sk-container-id-1 {color: black;}#sk-container-id-1 pre{padding: 0;}#sk-container-id-1 div.sk-toggleable {background-color: white;}#sk-container-id-1 label.sk-toggleable__label {cursor: pointer;display: block;width: 100%;margin-bottom: 0;padding: 0.3em;box-sizing: border-box;text-align: center;}#sk-container-id-1 label.sk-toggleable__label-arrow:before {content: \"▸\";float: left;margin-right: 0.25em;color: #696969;}#sk-container-id-1 label.sk-toggleable__label-arrow:hover:before {color: black;}#sk-container-id-1 div.sk-estimator:hover label.sk-toggleable__label-arrow:before {color: black;}#sk-container-id-1 div.sk-toggleable__content {max-height: 0;max-width: 0;overflow: hidden;text-align: left;background-color: #f0f8ff;}#sk-container-id-1 div.sk-toggleable__content pre {margin: 0.2em;color: black;border-radius: 0.25em;background-color: #f0f8ff;}#sk-container-id-1 input.sk-toggleable__control:checked~div.sk-toggleable__content {max-height: 200px;max-width: 100%;overflow: auto;}#sk-container-id-1 input.sk-toggleable__control:checked~label.sk-toggleable__label-arrow:before {content: \"▾\";}#sk-container-id-1 div.sk-estimator input.sk-toggleable__control:checked~label.sk-toggleable__label {background-color: #d4ebff;}#sk-container-id-1 div.sk-label input.sk-toggleable__control:checked~label.sk-toggleable__label {background-color: #d4ebff;}#sk-container-id-1 input.sk-hidden--visually {border: 0;clip: rect(1px 1px 1px 1px);clip: rect(1px, 1px, 1px, 1px);height: 1px;margin: -1px;overflow: hidden;padding: 0;position: absolute;width: 1px;}#sk-container-id-1 div.sk-estimator {font-family: monospace;background-color: #f0f8ff;border: 1px dotted black;border-radius: 0.25em;box-sizing: border-box;margin-bottom: 0.5em;}#sk-container-id-1 div.sk-estimator:hover {background-color: #d4ebff;}#sk-container-id-1 div.sk-parallel-item::after {content: \"\";width: 100%;border-bottom: 1px solid gray;flex-grow: 1;}#sk-container-id-1 div.sk-label:hover label.sk-toggleable__label {background-color: #d4ebff;}#sk-container-id-1 div.sk-serial::before {content: \"\";position: absolute;border-left: 1px solid gray;box-sizing: border-box;top: 0;bottom: 0;left: 50%;z-index: 0;}#sk-container-id-1 div.sk-serial {display: flex;flex-direction: column;align-items: center;background-color: white;padding-right: 0.2em;padding-left: 0.2em;position: relative;}#sk-container-id-1 div.sk-item {position: relative;z-index: 1;}#sk-container-id-1 div.sk-parallel {display: flex;align-items: stretch;justify-content: center;background-color: white;position: relative;}#sk-container-id-1 div.sk-item::before, #sk-container-id-1 div.sk-parallel-item::before {content: \"\";position: absolute;border-left: 1px solid gray;box-sizing: border-box;top: 0;bottom: 0;left: 50%;z-index: -1;}#sk-container-id-1 div.sk-parallel-item {display: flex;flex-direction: column;z-index: 1;position: relative;background-color: white;}#sk-container-id-1 div.sk-parallel-item:first-child::after {align-self: flex-end;width: 50%;}#sk-container-id-1 div.sk-parallel-item:last-child::after {align-self: flex-start;width: 50%;}#sk-container-id-1 div.sk-parallel-item:only-child::after {width: 0;}#sk-container-id-1 div.sk-dashed-wrapped {border: 1px dashed gray;margin: 0 0.4em 0.5em 0.4em;box-sizing: border-box;padding-bottom: 0.4em;background-color: white;}#sk-container-id-1 div.sk-label label {font-family: monospace;font-weight: bold;display: inline-block;line-height: 1.2em;}#sk-container-id-1 div.sk-label-container {text-align: center;}#sk-container-id-1 div.sk-container {/* jupyter's `normalize.less` sets `[hidden] { display: none; }` but bootstrap.min.css set `[hidden] { display: none !important; }` so we also need the `!important` here to be able to override the default hidden behavior on the sphinx rendered scikit-learn.org. See: https://github.com/scikit-learn/scikit-learn/issues/21755 */display: inline-block !important;position: relative;}#sk-container-id-1 div.sk-text-repr-fallback {display: none;}</style><div id=\"sk-container-id-1\" class=\"sk-top-container\"><div class=\"sk-text-repr-fallback\"><pre>LGBMClassifier(class_weight={0: 0.09, 1: 1}, n_estimators=1000)</pre><b>In a Jupyter environment, please rerun this cell to show the HTML representation or trust the notebook. <br />On GitHub, the HTML representation is unable to render, please try loading this page with nbviewer.org.</b></div><div class=\"sk-container\" hidden><div class=\"sk-item\"><div class=\"sk-estimator sk-toggleable\"><input class=\"sk-toggleable__control sk-hidden--visually\" id=\"sk-estimator-id-1\" type=\"checkbox\" checked><label for=\"sk-estimator-id-1\" class=\"sk-toggleable__label sk-toggleable__label-arrow\">LGBMClassifier</label><div class=\"sk-toggleable__content\"><pre>LGBMClassifier(class_weight={0: 0.09, 1: 1}, n_estimators=1000)</pre></div></div></div></div></div>"
      ],
      "text/plain": [
       "LGBMClassifier(class_weight={0: 0.09, 1: 1}, n_estimators=1000)"
      ]
     },
     "execution_count": 19,
     "metadata": {},
     "output_type": "execute_result"
    }
   ],
   "source": [
    "# v1 définitive\n",
    "\n",
    "model_risk_1 = LGBMClassifier(n_estimators=1000,class_weight={0:0.09,1:1})\n",
    "model_risk_1.fit(X_train_1, y_train_1,eval_metric= 'auc')"
   ]
  },
  {
   "cell_type": "code",
   "execution_count": 24,
   "metadata": {},
   "outputs": [
    {
     "name": "stdout",
     "output_type": "stream",
     "text": [
      "[LightGBM] [Info] Number of positive: 19770, number of negative: 226235\n",
      "[LightGBM] [Info] Auto-choosing col-wise multi-threading, the overhead of testing was 0.082859 seconds.\n",
      "You can set `force_col_wise=true` to remove the overhead.\n",
      "[LightGBM] [Info] Total Bins 24143\n",
      "[LightGBM] [Info] Number of data points in the train set: 246005, number of used features: 99\n",
      "[LightGBM] [Info] [binary:BoostFromScore]: pavg=0.492635 -> initscore=-0.029463\n",
      "[LightGBM] [Info] Start training from score -0.029463\n"
     ]
    },
    {
     "data": {
      "text/html": [
       "<style>#sk-container-id-2 {color: black;}#sk-container-id-2 pre{padding: 0;}#sk-container-id-2 div.sk-toggleable {background-color: white;}#sk-container-id-2 label.sk-toggleable__label {cursor: pointer;display: block;width: 100%;margin-bottom: 0;padding: 0.3em;box-sizing: border-box;text-align: center;}#sk-container-id-2 label.sk-toggleable__label-arrow:before {content: \"▸\";float: left;margin-right: 0.25em;color: #696969;}#sk-container-id-2 label.sk-toggleable__label-arrow:hover:before {color: black;}#sk-container-id-2 div.sk-estimator:hover label.sk-toggleable__label-arrow:before {color: black;}#sk-container-id-2 div.sk-toggleable__content {max-height: 0;max-width: 0;overflow: hidden;text-align: left;background-color: #f0f8ff;}#sk-container-id-2 div.sk-toggleable__content pre {margin: 0.2em;color: black;border-radius: 0.25em;background-color: #f0f8ff;}#sk-container-id-2 input.sk-toggleable__control:checked~div.sk-toggleable__content {max-height: 200px;max-width: 100%;overflow: auto;}#sk-container-id-2 input.sk-toggleable__control:checked~label.sk-toggleable__label-arrow:before {content: \"▾\";}#sk-container-id-2 div.sk-estimator input.sk-toggleable__control:checked~label.sk-toggleable__label {background-color: #d4ebff;}#sk-container-id-2 div.sk-label input.sk-toggleable__control:checked~label.sk-toggleable__label {background-color: #d4ebff;}#sk-container-id-2 input.sk-hidden--visually {border: 0;clip: rect(1px 1px 1px 1px);clip: rect(1px, 1px, 1px, 1px);height: 1px;margin: -1px;overflow: hidden;padding: 0;position: absolute;width: 1px;}#sk-container-id-2 div.sk-estimator {font-family: monospace;background-color: #f0f8ff;border: 1px dotted black;border-radius: 0.25em;box-sizing: border-box;margin-bottom: 0.5em;}#sk-container-id-2 div.sk-estimator:hover {background-color: #d4ebff;}#sk-container-id-2 div.sk-parallel-item::after {content: \"\";width: 100%;border-bottom: 1px solid gray;flex-grow: 1;}#sk-container-id-2 div.sk-label:hover label.sk-toggleable__label {background-color: #d4ebff;}#sk-container-id-2 div.sk-serial::before {content: \"\";position: absolute;border-left: 1px solid gray;box-sizing: border-box;top: 0;bottom: 0;left: 50%;z-index: 0;}#sk-container-id-2 div.sk-serial {display: flex;flex-direction: column;align-items: center;background-color: white;padding-right: 0.2em;padding-left: 0.2em;position: relative;}#sk-container-id-2 div.sk-item {position: relative;z-index: 1;}#sk-container-id-2 div.sk-parallel {display: flex;align-items: stretch;justify-content: center;background-color: white;position: relative;}#sk-container-id-2 div.sk-item::before, #sk-container-id-2 div.sk-parallel-item::before {content: \"\";position: absolute;border-left: 1px solid gray;box-sizing: border-box;top: 0;bottom: 0;left: 50%;z-index: -1;}#sk-container-id-2 div.sk-parallel-item {display: flex;flex-direction: column;z-index: 1;position: relative;background-color: white;}#sk-container-id-2 div.sk-parallel-item:first-child::after {align-self: flex-end;width: 50%;}#sk-container-id-2 div.sk-parallel-item:last-child::after {align-self: flex-start;width: 50%;}#sk-container-id-2 div.sk-parallel-item:only-child::after {width: 0;}#sk-container-id-2 div.sk-dashed-wrapped {border: 1px dashed gray;margin: 0 0.4em 0.5em 0.4em;box-sizing: border-box;padding-bottom: 0.4em;background-color: white;}#sk-container-id-2 div.sk-label label {font-family: monospace;font-weight: bold;display: inline-block;line-height: 1.2em;}#sk-container-id-2 div.sk-label-container {text-align: center;}#sk-container-id-2 div.sk-container {/* jupyter's `normalize.less` sets `[hidden] { display: none; }` but bootstrap.min.css set `[hidden] { display: none !important; }` so we also need the `!important` here to be able to override the default hidden behavior on the sphinx rendered scikit-learn.org. See: https://github.com/scikit-learn/scikit-learn/issues/21755 */display: inline-block !important;position: relative;}#sk-container-id-2 div.sk-text-repr-fallback {display: none;}</style><div id=\"sk-container-id-2\" class=\"sk-top-container\"><div class=\"sk-text-repr-fallback\"><pre>LGBMClassifier(class_weight={0: 0.09, 1: 1}, n_estimators=1000)</pre><b>In a Jupyter environment, please rerun this cell to show the HTML representation or trust the notebook. <br />On GitHub, the HTML representation is unable to render, please try loading this page with nbviewer.org.</b></div><div class=\"sk-container\" hidden><div class=\"sk-item\"><div class=\"sk-estimator sk-toggleable\"><input class=\"sk-toggleable__control sk-hidden--visually\" id=\"sk-estimator-id-2\" type=\"checkbox\" checked><label for=\"sk-estimator-id-2\" class=\"sk-toggleable__label sk-toggleable__label-arrow\">LGBMClassifier</label><div class=\"sk-toggleable__content\"><pre>LGBMClassifier(class_weight={0: 0.09, 1: 1}, n_estimators=1000)</pre></div></div></div></div></div>"
      ],
      "text/plain": [
       "LGBMClassifier(class_weight={0: 0.09, 1: 1}, n_estimators=1000)"
      ]
     },
     "execution_count": 24,
     "metadata": {},
     "output_type": "execute_result"
    }
   ],
   "source": [
    "model_risk_100 = LGBMClassifier(n_estimators=1000,class_weight={0:0.09,1:1})\n",
    "model_risk_100.fit(X_train_100, y_train_100,eval_metric= 'auc')"
   ]
  },
  {
   "cell_type": "code",
   "execution_count": null,
   "metadata": {},
   "outputs": [],
   "source": [
    "# run 4194568e674b4d208b1c86f65b116236\n",
    "# 'dd8692d5bbc74bf2946a7b8a90819747'"
   ]
  },
  {
   "cell_type": "code",
   "execution_count": null,
   "metadata": {},
   "outputs": [],
   "source": [
    "joblib.dump(model_risk_1, '1_outputs/model_risk.joblib')"
   ]
  },
  {
   "cell_type": "code",
   "execution_count": 32,
   "metadata": {},
   "outputs": [
    {
     "data": {
      "text/plain": [
       "['2_backend/API_input_data/model_risk_100.joblib']"
      ]
     },
     "execution_count": 32,
     "metadata": {},
     "output_type": "execute_result"
    }
   ],
   "source": [
    "joblib.dump(model_risk_100, '1_outputs/model_risk_100.joblib')\n",
    "joblib.dump(model_risk_100, '2_backend/API_input_data/model_risk_100.joblib')"
   ]
  },
  {
   "cell_type": "markdown",
   "metadata": {},
   "source": [
    "## Loading du modèle déjà fitté et enregistré par MLFlow"
   ]
  },
  {
   "cell_type": "code",
   "execution_count": null,
   "metadata": {},
   "outputs": [],
   "source": [
    "# loaded_run = mlflow.start_run(run_id='4194568e674b4d208b1c86f65b116236')\n",
    "# loaded_run.info.artifact_uri\n",
    "# model_risk = mlflow.lightgbm.load_model(\"./1_outputs/Model_final/artifacts/model\")"
   ]
  },
  {
   "cell_type": "code",
   "execution_count": null,
   "metadata": {},
   "outputs": [],
   "source": [
    "# loaded_run = mlflow.start_run(run_id='4194568e674b4d208b1c86f65b116236')\n",
    "# model_uri = loaded_run.info.artifact_uri + \"/model\" \n",
    "# model_risk = mlflow.lightgbm.load_model(model_uri)"
   ]
  },
  {
   "cell_type": "markdown",
   "metadata": {},
   "source": [
    "## Loading du modèle fitté via joblib"
   ]
  },
  {
   "cell_type": "code",
   "execution_count": 12,
   "metadata": {},
   "outputs": [],
   "source": [
    "model_risk=joblib.load('1_outputs/model_risk.joblib')\n",
    "model_risk_100=joblib.load('1_outputs/model_risk_100.joblib')"
   ]
  },
  {
   "cell_type": "markdown",
   "metadata": {},
   "source": [
    "## Predictions et scoring"
   ]
  },
  {
   "cell_type": "code",
   "execution_count": 27,
   "metadata": {},
   "outputs": [],
   "source": [
    "pred_risk=pd.Series(model_risk.predict(X_test_1),index=X_test_1.index)\n",
    "pred_risk_100=pd.Series(model_risk_100.predict(X_test_100),index=X_test_100.index)"
   ]
  },
  {
   "cell_type": "code",
   "execution_count": 28,
   "metadata": {},
   "outputs": [
    {
     "data": {
      "text/plain": [
       "0.0    51228\n",
       "1.0    10274\n",
       "Name: count, dtype: int64"
      ]
     },
     "execution_count": 28,
     "metadata": {},
     "output_type": "execute_result"
    }
   ],
   "source": [
    "pred_risk.value_counts()"
   ]
  },
  {
   "cell_type": "code",
   "execution_count": 29,
   "metadata": {},
   "outputs": [
    {
     "data": {
      "text/plain": [
       "0.0    50233\n",
       "1.0    11269\n",
       "Name: count, dtype: int64"
      ]
     },
     "execution_count": 29,
     "metadata": {},
     "output_type": "execute_result"
    }
   ],
   "source": [
    "pred_risk_100.value_counts()"
   ]
  },
  {
   "cell_type": "code",
   "execution_count": null,
   "metadata": {},
   "outputs": [],
   "source": [
    "X_test_1.head()"
   ]
  },
  {
   "cell_type": "code",
   "execution_count": null,
   "metadata": {},
   "outputs": [],
   "source": [
    "# [:,1] pour renvoyer la proba d'appatenir à la classe 1 : difficultés de paiement\n",
    "pred_proba_risk=pd.Series(model_risk.predict_proba(X_test_1)[:,1],index=X_test_1.index)"
   ]
  },
  {
   "cell_type": "code",
   "execution_count": null,
   "metadata": {},
   "outputs": [],
   "source": [
    "base_futur.head()"
   ]
  },
  {
   "cell_type": "code",
   "execution_count": null,
   "metadata": {},
   "outputs": [],
   "source": [
    "base_futur.loc[350193,:]"
   ]
  },
  {
   "cell_type": "code",
   "execution_count": null,
   "metadata": {},
   "outputs": [],
   "source": [
    "pred_proba_risk.describe()"
   ]
  },
  {
   "cell_type": "code",
   "execution_count": null,
   "metadata": {},
   "outputs": [],
   "source": [
    "sns.histplot(pred_proba_risk)"
   ]
  },
  {
   "cell_type": "code",
   "execution_count": null,
   "metadata": {},
   "outputs": [],
   "source": [
    "pred_proba_risk.sort_values()[0:len(pred_proba_risk)-10274],pred_proba_risk.sort_values()[len(pred_proba_risk)-10274+1:]\n",
    "# l'algo attribue bien les classes 0/1 selon la proba sup ou inf à 0.5"
   ]
  },
  {
   "cell_type": "code",
   "execution_count": null,
   "metadata": {},
   "outputs": [],
   "source": [
    "pred_proba_risk.loc[pred_proba_risk>0.5].describe(),(1-pred_proba_risk.loc[pred_proba_risk<=0.5]).describe()"
   ]
  },
  {
   "cell_type": "code",
   "execution_count": 30,
   "metadata": {},
   "outputs": [
    {
     "data": {
      "text/html": [
       "<div>\n",
       "<style scoped>\n",
       "    .dataframe tbody tr th:only-of-type {\n",
       "        vertical-align: middle;\n",
       "    }\n",
       "\n",
       "    .dataframe tbody tr th {\n",
       "        vertical-align: top;\n",
       "    }\n",
       "\n",
       "    .dataframe thead th {\n",
       "        text-align: right;\n",
       "    }\n",
       "</style>\n",
       "<table border=\"1\" class=\"dataframe\">\n",
       "  <thead>\n",
       "    <tr style=\"text-align: right;\">\n",
       "      <th>col_0</th>\n",
       "      <th>0.0</th>\n",
       "      <th>1.0</th>\n",
       "    </tr>\n",
       "    <tr>\n",
       "      <th>TARGET</th>\n",
       "      <th></th>\n",
       "      <th></th>\n",
       "    </tr>\n",
       "  </thead>\n",
       "  <tbody>\n",
       "    <tr>\n",
       "      <th>0.0</th>\n",
       "      <td>48604</td>\n",
       "      <td>7843</td>\n",
       "    </tr>\n",
       "    <tr>\n",
       "      <th>1.0</th>\n",
       "      <td>2624</td>\n",
       "      <td>2431</td>\n",
       "    </tr>\n",
       "  </tbody>\n",
       "</table>\n",
       "</div>"
      ],
      "text/plain": [
       "col_0     0.0   1.0\n",
       "TARGET             \n",
       "0.0     48604  7843\n",
       "1.0      2624  2431"
      ]
     },
     "metadata": {},
     "output_type": "display_data"
    },
    {
     "data": {
      "text/html": [
       "<div>\n",
       "<style scoped>\n",
       "    .dataframe tbody tr th:only-of-type {\n",
       "        vertical-align: middle;\n",
       "    }\n",
       "\n",
       "    .dataframe tbody tr th {\n",
       "        vertical-align: top;\n",
       "    }\n",
       "\n",
       "    .dataframe thead th {\n",
       "        text-align: right;\n",
       "    }\n",
       "</style>\n",
       "<table border=\"1\" class=\"dataframe\">\n",
       "  <thead>\n",
       "    <tr style=\"text-align: right;\">\n",
       "      <th>col_0</th>\n",
       "      <th>0.0</th>\n",
       "      <th>1.0</th>\n",
       "    </tr>\n",
       "    <tr>\n",
       "      <th>TARGET</th>\n",
       "      <th></th>\n",
       "      <th></th>\n",
       "    </tr>\n",
       "  </thead>\n",
       "  <tbody>\n",
       "    <tr>\n",
       "      <th>0.0</th>\n",
       "      <td>86.1</td>\n",
       "      <td>13.9</td>\n",
       "    </tr>\n",
       "    <tr>\n",
       "      <th>1.0</th>\n",
       "      <td>51.9</td>\n",
       "      <td>48.1</td>\n",
       "    </tr>\n",
       "  </tbody>\n",
       "</table>\n",
       "</div>"
      ],
      "text/plain": [
       "col_0    0.0   1.0\n",
       "TARGET            \n",
       "0.0     86.1  13.9\n",
       "1.0     51.9  48.1"
      ]
     },
     "metadata": {},
     "output_type": "display_data"
    }
   ],
   "source": [
    "display(pd.crosstab(y_test_1,pred_risk),pd.crosstab(y_test_1,pred_risk,normalize='index').round(3)*100)"
   ]
  },
  {
   "cell_type": "code",
   "execution_count": 31,
   "metadata": {},
   "outputs": [
    {
     "data": {
      "text/html": [
       "<div>\n",
       "<style scoped>\n",
       "    .dataframe tbody tr th:only-of-type {\n",
       "        vertical-align: middle;\n",
       "    }\n",
       "\n",
       "    .dataframe tbody tr th {\n",
       "        vertical-align: top;\n",
       "    }\n",
       "\n",
       "    .dataframe thead th {\n",
       "        text-align: right;\n",
       "    }\n",
       "</style>\n",
       "<table border=\"1\" class=\"dataframe\">\n",
       "  <thead>\n",
       "    <tr style=\"text-align: right;\">\n",
       "      <th>col_0</th>\n",
       "      <th>0.0</th>\n",
       "      <th>1.0</th>\n",
       "    </tr>\n",
       "    <tr>\n",
       "      <th>TARGET</th>\n",
       "      <th></th>\n",
       "      <th></th>\n",
       "    </tr>\n",
       "  </thead>\n",
       "  <tbody>\n",
       "    <tr>\n",
       "      <th>0.0</th>\n",
       "      <td>47715</td>\n",
       "      <td>8732</td>\n",
       "    </tr>\n",
       "    <tr>\n",
       "      <th>1.0</th>\n",
       "      <td>2518</td>\n",
       "      <td>2537</td>\n",
       "    </tr>\n",
       "  </tbody>\n",
       "</table>\n",
       "</div>"
      ],
      "text/plain": [
       "col_0     0.0   1.0\n",
       "TARGET             \n",
       "0.0     47715  8732\n",
       "1.0      2518  2537"
      ]
     },
     "metadata": {},
     "output_type": "display_data"
    },
    {
     "data": {
      "text/html": [
       "<div>\n",
       "<style scoped>\n",
       "    .dataframe tbody tr th:only-of-type {\n",
       "        vertical-align: middle;\n",
       "    }\n",
       "\n",
       "    .dataframe tbody tr th {\n",
       "        vertical-align: top;\n",
       "    }\n",
       "\n",
       "    .dataframe thead th {\n",
       "        text-align: right;\n",
       "    }\n",
       "</style>\n",
       "<table border=\"1\" class=\"dataframe\">\n",
       "  <thead>\n",
       "    <tr style=\"text-align: right;\">\n",
       "      <th>col_0</th>\n",
       "      <th>0.0</th>\n",
       "      <th>1.0</th>\n",
       "    </tr>\n",
       "    <tr>\n",
       "      <th>TARGET</th>\n",
       "      <th></th>\n",
       "      <th></th>\n",
       "    </tr>\n",
       "  </thead>\n",
       "  <tbody>\n",
       "    <tr>\n",
       "      <th>0.0</th>\n",
       "      <td>84.5</td>\n",
       "      <td>15.5</td>\n",
       "    </tr>\n",
       "    <tr>\n",
       "      <th>1.0</th>\n",
       "      <td>49.8</td>\n",
       "      <td>50.2</td>\n",
       "    </tr>\n",
       "  </tbody>\n",
       "</table>\n",
       "</div>"
      ],
      "text/plain": [
       "col_0    0.0   1.0\n",
       "TARGET            \n",
       "0.0     84.5  15.5\n",
       "1.0     49.8  50.2"
      ]
     },
     "metadata": {},
     "output_type": "display_data"
    }
   ],
   "source": [
    "display(pd.crosstab(y_test_100,pred_risk_100),pd.crosstab(y_test_100,pred_risk_100,normalize='index').round(3)*100)"
   ]
  },
  {
   "cell_type": "code",
   "execution_count": null,
   "metadata": {},
   "outputs": [],
   "source": [
    "cout_algo(X_test_1['AMT_CREDIT'],y_test_1,pred_risk,0.1,0.3,0,1)"
   ]
  },
  {
   "cell_type": "code",
   "execution_count": null,
   "metadata": {},
   "outputs": [],
   "source": [
    "pred_risk[350193]"
   ]
  },
  {
   "cell_type": "code",
   "execution_count": null,
   "metadata": {},
   "outputs": [],
   "source": [
    "def identification_risque(ID):\n",
    "        if pred_risk[ID]==0:\n",
    "                print(\" ID :\",ID,\"\\n\",\n",
    "                             \"Difficultés de paiement anticipées par le modèle : Non\",\"\\n\",\n",
    "                             \"Confiance de la prédiction :\", np.round((1- pred_proba_risk[ID])*100,1),\"%\")\n",
    "        elif pred_risk[ID]==1:\n",
    "                print(\" ID :\",ID,\"\\n\",\n",
    "                             \"Difficultés de paiement anticipées par le modèle : Oui\",\"\\n\",\n",
    "                             \"Confiance de la prédiction :\", np.round(pred_proba_risk[ID]*100,1),\"%\")\n",
    "        \n",
    "        return gain_unit(ID,base_futur.loc[:,'AMT_CREDIT'],pred_risk[ID],0.1,0.3)\n",
    "    "
   ]
  },
  {
   "cell_type": "code",
   "execution_count": null,
   "metadata": {},
   "outputs": [],
   "source": [
    "identification_risque(350193)"
   ]
  },
  {
   "cell_type": "code",
   "execution_count": null,
   "metadata": {},
   "outputs": [],
   "source": [
    "identification_risque(108234)"
   ]
  },
  {
   "cell_type": "markdown",
   "metadata": {},
   "source": [
    "# Mise en place SHAP"
   ]
  },
  {
   "cell_type": "code",
   "execution_count": null,
   "metadata": {},
   "outputs": [],
   "source": [
    "\n",
    "# data_shap_histo=pd.read_csv(\"1_outputs/base_histo_prep_shap.csv\",sep='\\t',compression='gzip',index_col='ID')"
   ]
  },
  {
   "cell_type": "code",
   "execution_count": 33,
   "metadata": {},
   "outputs": [],
   "source": [
    "# prendre les données centrées-réduites!!!\n",
    "data_shap_futur=pd.read_csv(\"1_outputs/base_futur_prep_algo.csv\",sep='\\t',compression='gzip',index_col='ID')"
   ]
  },
  {
   "cell_type": "code",
   "execution_count": null,
   "metadata": {},
   "outputs": [],
   "source": [
    "# X_train_0_histo, X_test_0_histo, y_train_0_histo, y_test_0_histo=train_test_split(data_shap_histo.loc[data_shap_histo['TARGET']>-1].drop('TARGET',axis=1), \n",
    "#                                                           data_shap_histo.loc[data_shap_histo['TARGET']>-1,'TARGET'], \n",
    "#                                                           test_size=0.20,\n",
    "#                                                           random_state=8)"
   ]
  },
  {
   "cell_type": "code",
   "execution_count": null,
   "metadata": {},
   "outputs": [],
   "source": [
    "# #v1\n",
    "# X, y = X_test_0,y_test_0"
   ]
  },
  {
   "cell_type": "code",
   "execution_count": 34,
   "metadata": {},
   "outputs": [
    {
     "data": {
      "text/html": [
       "<div>\n",
       "<style scoped>\n",
       "    .dataframe tbody tr th:only-of-type {\n",
       "        vertical-align: middle;\n",
       "    }\n",
       "\n",
       "    .dataframe tbody tr th {\n",
       "        vertical-align: top;\n",
       "    }\n",
       "\n",
       "    .dataframe thead th {\n",
       "        text-align: right;\n",
       "    }\n",
       "</style>\n",
       "<table border=\"1\" class=\"dataframe\">\n",
       "  <thead>\n",
       "    <tr style=\"text-align: right;\">\n",
       "      <th></th>\n",
       "      <th>INDEX</th>\n",
       "      <th>SK_ID_CURR</th>\n",
       "      <th>TARGET</th>\n",
       "      <th>CODE_GENDER</th>\n",
       "      <th>FLAG_OWN_CAR</th>\n",
       "      <th>FLAG_OWN_REALTY</th>\n",
       "      <th>CNT_CHILDREN</th>\n",
       "      <th>AMT_INCOME_TOTAL</th>\n",
       "      <th>AMT_CREDIT</th>\n",
       "      <th>AMT_ANNUITY</th>\n",
       "      <th>...</th>\n",
       "      <th>CC_NAME_CONTRACT_STATUS_SIGNED_MAX</th>\n",
       "      <th>CC_NAME_CONTRACT_STATUS_SIGNED_MEAN</th>\n",
       "      <th>CC_NAME_CONTRACT_STATUS_SIGNED_SUM</th>\n",
       "      <th>CC_NAME_CONTRACT_STATUS_SIGNED_VAR</th>\n",
       "      <th>CC_NAME_CONTRACT_STATUS_NAN_MIN</th>\n",
       "      <th>CC_NAME_CONTRACT_STATUS_NAN_MAX</th>\n",
       "      <th>CC_NAME_CONTRACT_STATUS_NAN_MEAN</th>\n",
       "      <th>CC_NAME_CONTRACT_STATUS_NAN_SUM</th>\n",
       "      <th>CC_NAME_CONTRACT_STATUS_NAN_VAR</th>\n",
       "      <th>CC_COUNT</th>\n",
       "    </tr>\n",
       "    <tr>\n",
       "      <th>ID</th>\n",
       "      <th></th>\n",
       "      <th></th>\n",
       "      <th></th>\n",
       "      <th></th>\n",
       "      <th></th>\n",
       "      <th></th>\n",
       "      <th></th>\n",
       "      <th></th>\n",
       "      <th></th>\n",
       "      <th></th>\n",
       "      <th></th>\n",
       "      <th></th>\n",
       "      <th></th>\n",
       "      <th></th>\n",
       "      <th></th>\n",
       "      <th></th>\n",
       "      <th></th>\n",
       "      <th></th>\n",
       "      <th></th>\n",
       "      <th></th>\n",
       "      <th></th>\n",
       "    </tr>\n",
       "  </thead>\n",
       "  <tbody>\n",
       "    <tr>\n",
       "      <th>100001</th>\n",
       "      <td>-1.7320</td>\n",
       "      <td>-1.7234</td>\n",
       "      <td>NaN</td>\n",
       "      <td>0.7012</td>\n",
       "      <td>-0.7132</td>\n",
       "      <td>-0.6695</td>\n",
       "      <td>-0.5629</td>\n",
       "      <td>-0.4450</td>\n",
       "      <td>0.1425</td>\n",
       "      <td>-0.5537</td>\n",
       "      <td>...</td>\n",
       "      <td>0.6995</td>\n",
       "      <td>0.0</td>\n",
       "      <td>0.0</td>\n",
       "      <td>0.0</td>\n",
       "      <td>0.7204</td>\n",
       "      <td>0.7204</td>\n",
       "      <td>0.0</td>\n",
       "      <td>0.0</td>\n",
       "      <td>0.0</td>\n",
       "      <td>0.0000</td>\n",
       "    </tr>\n",
       "    <tr>\n",
       "      <th>100005</th>\n",
       "      <td>-1.7319</td>\n",
       "      <td>-1.7233</td>\n",
       "      <td>NaN</td>\n",
       "      <td>-1.4262</td>\n",
       "      <td>-0.7132</td>\n",
       "      <td>-0.6695</td>\n",
       "      <td>-0.5629</td>\n",
       "      <td>-0.8157</td>\n",
       "      <td>-0.8045</td>\n",
       "      <td>-0.7529</td>\n",
       "      <td>...</td>\n",
       "      <td>0.6995</td>\n",
       "      <td>0.0</td>\n",
       "      <td>0.0</td>\n",
       "      <td>0.0</td>\n",
       "      <td>0.7204</td>\n",
       "      <td>0.7204</td>\n",
       "      <td>0.0</td>\n",
       "      <td>0.0</td>\n",
       "      <td>0.0</td>\n",
       "      <td>0.0000</td>\n",
       "    </tr>\n",
       "    <tr>\n",
       "      <th>100013</th>\n",
       "      <td>-1.7319</td>\n",
       "      <td>-1.7232</td>\n",
       "      <td>NaN</td>\n",
       "      <td>-1.4262</td>\n",
       "      <td>1.4022</td>\n",
       "      <td>-0.6695</td>\n",
       "      <td>-0.5629</td>\n",
       "      <td>0.2501</td>\n",
       "      <td>0.4010</td>\n",
       "      <td>2.5200</td>\n",
       "      <td>...</td>\n",
       "      <td>-1.4296</td>\n",
       "      <td>0.0</td>\n",
       "      <td>0.0</td>\n",
       "      <td>0.0</td>\n",
       "      <td>-1.3882</td>\n",
       "      <td>-1.3882</td>\n",
       "      <td>0.0</td>\n",
       "      <td>0.0</td>\n",
       "      <td>0.0</td>\n",
       "      <td>3.1336</td>\n",
       "    </tr>\n",
       "    <tr>\n",
       "      <th>100028</th>\n",
       "      <td>-1.7318</td>\n",
       "      <td>-1.7231</td>\n",
       "      <td>NaN</td>\n",
       "      <td>0.7012</td>\n",
       "      <td>-0.7132</td>\n",
       "      <td>-0.6695</td>\n",
       "      <td>2.2736</td>\n",
       "      <td>1.4086</td>\n",
       "      <td>2.8962</td>\n",
       "      <td>1.2236</td>\n",
       "      <td>...</td>\n",
       "      <td>-1.4296</td>\n",
       "      <td>0.0</td>\n",
       "      <td>0.0</td>\n",
       "      <td>0.0</td>\n",
       "      <td>-1.3882</td>\n",
       "      <td>-1.3882</td>\n",
       "      <td>0.0</td>\n",
       "      <td>0.0</td>\n",
       "      <td>0.0</td>\n",
       "      <td>0.6470</td>\n",
       "    </tr>\n",
       "    <tr>\n",
       "      <th>100038</th>\n",
       "      <td>-1.7317</td>\n",
       "      <td>-1.7230</td>\n",
       "      <td>NaN</td>\n",
       "      <td>-1.4262</td>\n",
       "      <td>1.4022</td>\n",
       "      <td>1.4937</td>\n",
       "      <td>0.8554</td>\n",
       "      <td>0.0184</td>\n",
       "      <td>0.2977</td>\n",
       "      <td>0.1649</td>\n",
       "      <td>...</td>\n",
       "      <td>0.6995</td>\n",
       "      <td>0.0</td>\n",
       "      <td>0.0</td>\n",
       "      <td>0.0</td>\n",
       "      <td>0.7204</td>\n",
       "      <td>0.7204</td>\n",
       "      <td>0.0</td>\n",
       "      <td>0.0</td>\n",
       "      <td>0.0</td>\n",
       "      <td>0.0000</td>\n",
       "    </tr>\n",
       "  </tbody>\n",
       "</table>\n",
       "<p>5 rows × 798 columns</p>\n",
       "</div>"
      ],
      "text/plain": [
       "         INDEX  SK_ID_CURR  TARGET  CODE_GENDER  FLAG_OWN_CAR  \\\n",
       "ID                                                              \n",
       "100001 -1.7320     -1.7234     NaN       0.7012       -0.7132   \n",
       "100005 -1.7319     -1.7233     NaN      -1.4262       -0.7132   \n",
       "100013 -1.7319     -1.7232     NaN      -1.4262        1.4022   \n",
       "100028 -1.7318     -1.7231     NaN       0.7012       -0.7132   \n",
       "100038 -1.7317     -1.7230     NaN      -1.4262        1.4022   \n",
       "\n",
       "        FLAG_OWN_REALTY  CNT_CHILDREN  AMT_INCOME_TOTAL  AMT_CREDIT  \\\n",
       "ID                                                                    \n",
       "100001          -0.6695       -0.5629           -0.4450      0.1425   \n",
       "100005          -0.6695       -0.5629           -0.8157     -0.8045   \n",
       "100013          -0.6695       -0.5629            0.2501      0.4010   \n",
       "100028          -0.6695        2.2736            1.4086      2.8962   \n",
       "100038           1.4937        0.8554            0.0184      0.2977   \n",
       "\n",
       "        AMT_ANNUITY  ...  CC_NAME_CONTRACT_STATUS_SIGNED_MAX  \\\n",
       "ID                   ...                                       \n",
       "100001      -0.5537  ...                              0.6995   \n",
       "100005      -0.7529  ...                              0.6995   \n",
       "100013       2.5200  ...                             -1.4296   \n",
       "100028       1.2236  ...                             -1.4296   \n",
       "100038       0.1649  ...                              0.6995   \n",
       "\n",
       "        CC_NAME_CONTRACT_STATUS_SIGNED_MEAN  \\\n",
       "ID                                            \n",
       "100001                                  0.0   \n",
       "100005                                  0.0   \n",
       "100013                                  0.0   \n",
       "100028                                  0.0   \n",
       "100038                                  0.0   \n",
       "\n",
       "        CC_NAME_CONTRACT_STATUS_SIGNED_SUM  \\\n",
       "ID                                           \n",
       "100001                                 0.0   \n",
       "100005                                 0.0   \n",
       "100013                                 0.0   \n",
       "100028                                 0.0   \n",
       "100038                                 0.0   \n",
       "\n",
       "        CC_NAME_CONTRACT_STATUS_SIGNED_VAR  CC_NAME_CONTRACT_STATUS_NAN_MIN  \\\n",
       "ID                                                                            \n",
       "100001                                 0.0                           0.7204   \n",
       "100005                                 0.0                           0.7204   \n",
       "100013                                 0.0                          -1.3882   \n",
       "100028                                 0.0                          -1.3882   \n",
       "100038                                 0.0                           0.7204   \n",
       "\n",
       "        CC_NAME_CONTRACT_STATUS_NAN_MAX  CC_NAME_CONTRACT_STATUS_NAN_MEAN  \\\n",
       "ID                                                                          \n",
       "100001                           0.7204                               0.0   \n",
       "100005                           0.7204                               0.0   \n",
       "100013                          -1.3882                               0.0   \n",
       "100028                          -1.3882                               0.0   \n",
       "100038                           0.7204                               0.0   \n",
       "\n",
       "        CC_NAME_CONTRACT_STATUS_NAN_SUM  CC_NAME_CONTRACT_STATUS_NAN_VAR  \\\n",
       "ID                                                                         \n",
       "100001                              0.0                              0.0   \n",
       "100005                              0.0                              0.0   \n",
       "100013                              0.0                              0.0   \n",
       "100028                              0.0                              0.0   \n",
       "100038                              0.0                              0.0   \n",
       "\n",
       "        CC_COUNT  \n",
       "ID                \n",
       "100001    0.0000  \n",
       "100005    0.0000  \n",
       "100013    3.1336  \n",
       "100028    0.6470  \n",
       "100038    0.0000  \n",
       "\n",
       "[5 rows x 798 columns]"
      ]
     },
     "execution_count": 34,
     "metadata": {},
     "output_type": "execute_result"
    }
   ],
   "source": [
    "data_shap_futur.head()"
   ]
  },
  {
   "cell_type": "code",
   "execution_count": null,
   "metadata": {},
   "outputs": [],
   "source": [
    "# # 2 min 10\n",
    "# #v1\n",
    "# explainer_tot = shap.TreeExplainer(model_risk)\n",
    "# sv = explainer_tot(X)\n",
    "# exp = shap.Explanation(sv.values[:,:,1], \n",
    "#                   sv.base_values[:,1], \n",
    "#                   data=X_test_0_histo.values, # utilisation de la base \"réelle\" pour avoir les données avant standard-scale\n",
    "#                   feature_names=X.columns)\n",
    "\n"
   ]
  },
  {
   "cell_type": "code",
   "execution_count": 35,
   "metadata": {},
   "outputs": [],
   "source": [
    "#v2\n",
    "df_shap = data_shap_futur.drop(['TARGET','INDEX','SK_ID_CURR'],axis=1)"
   ]
  },
  {
   "cell_type": "code",
   "execution_count": 36,
   "metadata": {},
   "outputs": [],
   "source": [
    "\n",
    "# 1 min 50\n",
    "\n",
    "#v2\n",
    "explainer_tot = shap.TreeExplainer(model_risk)\n",
    "sv = explainer_tot(df_shap)\n",
    "exp = shap.Explanation(sv.values[:,:,1], \n",
    "                  sv.base_values[:,1], \n",
    "                  data=base_futur.drop(['TARGET','INDEX','SK_ID_CURR'],axis=1), # utilisation de la base \"réelle\" pour avoir les données avant standard-scale\n",
    "                  feature_names=df_shap.columns)"
   ]
  },
  {
   "cell_type": "code",
   "execution_count": 37,
   "metadata": {},
   "outputs": [
    {
     "data": {
      "text/plain": [
       "['1_outputs/shap_explanation_model_risk.joblib']"
      ]
     },
     "execution_count": 37,
     "metadata": {},
     "output_type": "execute_result"
    }
   ],
   "source": [
    "joblib.dump(sv, '1_outputs/shap_explainer_model_risk.joblib')\n",
    "joblib.dump(exp, '1_outputs/shap_explanation_model_risk.joblib')"
   ]
  },
  {
   "cell_type": "code",
   "execution_count": 22,
   "metadata": {},
   "outputs": [],
   "source": [
    "#version restreinte aux 100var importantes:\n",
    "df_shap_100=pd.read_csv(\"1_outputs/base_futur_prep_algo.csv\",sep='\\t',compression='gzip',index_col='ID')\n",
    "df_shap_100=df_shap_100[var_lgbm_100]\n"
   ]
  },
  {
   "cell_type": "code",
   "execution_count": 23,
   "metadata": {},
   "outputs": [],
   "source": [
    "df_shap_100 = df_shap_100.drop(['TARGET','INDEX'],axis=1)"
   ]
  },
  {
   "cell_type": "code",
   "execution_count": 24,
   "metadata": {},
   "outputs": [],
   "source": [
    "#v2\n",
    "explainer_tot_100 = shap.TreeExplainer(model_risk_100)\n",
    "sv_100= explainer_tot_100(df_shap_100)\n",
    "exp_100 = shap.Explanation(sv_100.values[:,:,1], \n",
    "                  sv_100.base_values[:,1], \n",
    "                  data=base_futur[var_lgbm_100].drop(['TARGET','INDEX'],axis=1), # utilisation de la base \"réelle\" pour avoir les données avant standard-scale\n",
    "                  feature_names=df_shap_100.columns)"
   ]
  },
  {
   "cell_type": "code",
   "execution_count": 32,
   "metadata": {},
   "outputs": [
    {
     "data": {
      "text/plain": [
       "['1_outputs/shap_explanation_model_risk_100.joblib']"
      ]
     },
     "execution_count": 32,
     "metadata": {},
     "output_type": "execute_result"
    }
   ],
   "source": [
    "joblib.dump(sv_100, '1_outputs/shap_explainer_model_risk_100.joblib')\n",
    "joblib.dump(exp_100, '1_outputs/shap_explanation_model_risk_100.joblib',compress=2)"
   ]
  },
  {
   "cell_type": "code",
   "execution_count": null,
   "metadata": {},
   "outputs": [],
   "source": [
    "sv= joblib.load('1_outputs/shap_explainer_model_risk.joblib')\n",
    "exp= joblib.load('1_outputs/shap_explanation_model_risk.joblib')"
   ]
  },
  {
   "cell_type": "markdown",
   "metadata": {},
   "source": [
    "## exploration des objets SHAP"
   ]
  },
  {
   "cell_type": "code",
   "execution_count": null,
   "metadata": {},
   "outputs": [],
   "source": [
    "sv.base_values[0,:]"
   ]
  },
  {
   "cell_type": "code",
   "execution_count": null,
   "metadata": {},
   "outputs": [],
   "source": [
    "len(sv.values[0,:,:]),len(sv.values[:,0,:]),len(sv.values[0,0,:])"
   ]
  },
  {
   "cell_type": "code",
   "execution_count": null,
   "metadata": {},
   "outputs": [],
   "source": [
    "sv.values[i,:,1].sum()"
   ]
  },
  {
   "cell_type": "code",
   "execution_count": null,
   "metadata": {},
   "outputs": [],
   "source": [
    "df_temp_shap=pd.DataFrame(index=X.index)\n",
    "df_temp_shap['shap_0']=0\n",
    "df_temp_shap['shap_1']=0\n",
    "df_temp_shap['target']=y\n",
    "df_temp_shap['pred']=pred_risk\n",
    "for i in range(0,len(X.index)):\n",
    "    df_temp_shap.iloc[i,0]=sv.values[i,:,0].sum()\n",
    "    df_temp_shap.iloc[i,1]=sv.values[i,:,1].sum()\n"
   ]
  },
  {
   "cell_type": "code",
   "execution_count": null,
   "metadata": {},
   "outputs": [],
   "source": [
    "df_temp_shap[0:20].sort_values(by='pred')"
   ]
  },
  {
   "cell_type": "code",
   "execution_count": null,
   "metadata": {},
   "outputs": [],
   "source": [
    "df_temp_shap.loc[df_temp_shap['pred']==1,:].describe()"
   ]
  },
  {
   "cell_type": "code",
   "execution_count": null,
   "metadata": {},
   "outputs": [],
   "source": [
    "df_temp_shap.loc[df_temp_shap['pred']==0,:].describe()"
   ]
  },
  {
   "cell_type": "code",
   "execution_count": null,
   "metadata": {},
   "outputs": [],
   "source": [
    "len(range(0,len(X.index)))"
   ]
  },
  {
   "cell_type": "code",
   "execution_count": null,
   "metadata": {},
   "outputs": [],
   "source": [
    "exp[0]"
   ]
  },
  {
   "cell_type": "markdown",
   "metadata": {},
   "source": [
    "## rappel des feature importance"
   ]
  },
  {
   "cell_type": "code",
   "execution_count": null,
   "metadata": {},
   "outputs": [],
   "source": [
    "df_features=pd.DataFrame(columns=['score'],index=df_shap.columns)\n",
    "df_features['score']=model_risk.feature_importances_\n",
    "df_features.describe()"
   ]
  },
  {
   "cell_type": "code",
   "execution_count": null,
   "metadata": {},
   "outputs": [],
   "source": [
    "df_features.sort_values(by='score' ,ascending=False)[0:19]"
   ]
  },
  {
   "cell_type": "code",
   "execution_count": null,
   "metadata": {},
   "outputs": [],
   "source": [
    "lightgbm.plot_importance(model_risk,max_num_features=30,importance_type='gain')"
   ]
  },
  {
   "cell_type": "code",
   "execution_count": null,
   "metadata": {},
   "outputs": [],
   "source": [
    "\n",
    "lightgbm.plot_importance(model_risk,max_num_features=30,importance_type='split',figsize=(8,8),title='Classement des variables impactantes du modèle')\n",
    "plt.show()"
   ]
  },
  {
   "cell_type": "markdown",
   "metadata": {},
   "source": [
    "## Graphiques SHAP"
   ]
  },
  {
   "cell_type": "code",
   "execution_count": null,
   "metadata": {},
   "outputs": [],
   "source": [
    "# shap.waterfall_plot(exp[0],show=False)\n",
    "# plt.savefig('temp.jpeg',bbox_inches='tight')\n"
   ]
  },
  {
   "cell_type": "code",
   "execution_count": null,
   "metadata": {},
   "outputs": [],
   "source": []
  },
  {
   "cell_type": "code",
   "execution_count": null,
   "metadata": {},
   "outputs": [],
   "source": []
  },
  {
   "cell_type": "code",
   "execution_count": 49,
   "metadata": {},
   "outputs": [
    {
     "data": {
      "image/png": "[encoded data removed]",
      "text/plain": [
       "<Figure size 800x1150 with 3 Axes>"
      ]
     },
     "metadata": {},
     "output_type": "display_data"
    }
   ],
   "source": [
    "id_client = 0\n",
    "fig=shap.waterfall_plot(exp[id_client],max_display=20,show=False)\n",
    "\n",
    "title=plt.title('',loc='left')\n",
    "title.set_position((-0.4,0))\n",
    "title_text_obj = plt.text(-0.13,0.88, f\"ID = {id_client}\", color='blue', fontsize=12, fontweight='bold', transform=fig.transFigure)\n",
    "plt.show(fig)\n"
   ]
  },
  {
   "cell_type": "code",
   "execution_count": 50,
   "metadata": {},
   "outputs": [
    {
     "data": {
      "image/png": "[encoded data removed]",
      "text/plain": [
       "<Figure size 800x1150 with 3 Axes>"
      ]
     },
     "metadata": {},
     "output_type": "display_data"
    }
   ],
   "source": [
    "id_client = 0\n",
    "fig=shap.waterfall_plot(exp_100[id_client],max_display=20,show=False)\n",
    "\n",
    "title=plt.title('',loc='left')\n",
    "title.set_position((-0.4,0))\n",
    "title_text_obj = plt.text(-0.13,0.88, f\"ID = {id_client}\", color='blue', fontsize=12, fontweight='bold', transform=fig.transFigure)\n",
    "plt.show(fig)"
   ]
  },
  {
   "cell_type": "code",
   "execution_count": null,
   "metadata": {},
   "outputs": [],
   "source": [
    "exp[0][0]"
   ]
  },
  {
   "cell_type": "code",
   "execution_count": null,
   "metadata": {},
   "outputs": [],
   "source": [
    "X.columns[inds[0:20]]"
   ]
  },
  {
   "cell_type": "code",
   "execution_count": null,
   "metadata": {},
   "outputs": [],
   "source": [
    "inds[0:15]"
   ]
  },
  {
   "cell_type": "code",
   "execution_count": null,
   "metadata": {},
   "outputs": [],
   "source": [
    "shap.initjs()\n",
    "shap.plots.force(exp[0], matplotlib=True)"
   ]
  },
  {
   "cell_type": "code",
   "execution_count": null,
   "metadata": {},
   "outputs": [],
   "source": [
    "[i for i in base_histo.columns if 'RATE' in i]"
   ]
  },
  {
   "cell_type": "markdown",
   "metadata": {},
   "source": [
    "# Data Drift - Evidently"
   ]
  },
  {
   "cell_type": "markdown",
   "metadata": {},
   "source": [
    "## chargement des bases au besoin"
   ]
  },
  {
   "cell_type": "code",
   "execution_count": null,
   "metadata": {},
   "outputs": [],
   "source": [
    "base_histo=pd.read_csv(\"1_outputs/base_histo.csv\",sep='\\t',compression='gzip',index_col='ID')"
   ]
  },
  {
   "cell_type": "code",
   "execution_count": null,
   "metadata": {},
   "outputs": [],
   "source": [
    "base_futur=pd.read_csv(\"1_outputs/base_futur.csv\",sep='\\t',compression='gzip',index_col='ID')"
   ]
  },
  {
   "cell_type": "markdown",
   "metadata": {},
   "source": [
    "## Etablissement du rapport"
   ]
  },
  {
   "cell_type": "code",
   "execution_count": null,
   "metadata": {},
   "outputs": [],
   "source": [
    "# Print the directories in sys.path\n",
    "print(\"Directories in sys.path:\")\n",
    "for path in sys.path:\n",
    "    print(path)\n",
    "\n",
    "# Print the site-specific package directories\n",
    "print(\"\\nSite-specific package directories:\")\n",
    "for path in site.getsitepackages():\n",
    "    print(path)"
   ]
  },
  {
   "cell_type": "code",
   "execution_count": null,
   "metadata": {},
   "outputs": [],
   "source": [
    "base_histo.shape"
   ]
  },
  {
   "cell_type": "code",
   "execution_count": null,
   "metadata": {},
   "outputs": [],
   "source": [
    "reference = base_histo[var_lgbm_100].drop([\"TARGET\",\"INDEX\"],axis=1)\n",
    "current = base_futur[var_lgbm_100].drop([\"TARGET\",\"INDEX\"],axis=1)"
   ]
  },
  {
   "cell_type": "code",
   "execution_count": null,
   "metadata": {},
   "outputs": [],
   "source": [
    "def clip_quart(col):\n",
    "    return col.clip(upper=np.percentile(col.loc[col.isna()==False],75)+\n",
    "                    10*(np.percentile(col.loc[col.isna()==False],75)-np.percentile(col.loc[col.isna()==False],25)),\n",
    "                    lower=np.percentile(col.loc[col.isna()==False],25)-\n",
    "                    10*(np.percentile(col.loc[col.isna()==False],75)-np.percentile(col.loc[col.isna()==False],25)))\n",
    "\n",
    "\n",
    "reference.loc[:,reference.dtypes=='float64']=reference.loc[:,reference.dtypes=='float64'].apply(clip_quart,axis=0)\n",
    "current.loc[:,current.dtypes=='float64']=current.loc[:,current.dtypes=='float64'].apply(clip_quart,axis=0)"
   ]
  },
  {
   "cell_type": "code",
   "execution_count": null,
   "metadata": {},
   "outputs": [],
   "source": [
    "# 1 min 30 d'enregistrement\n",
    "reference.to_csv(\"1_outputs/reference.csv\",sep='\\t',compression='gzip',index=True)\n",
    "current.to_csv(\"1_outputs/current.csv\",sep='\\t',compression='gzip',index=True)"
   ]
  },
  {
   "cell_type": "code",
   "execution_count": null,
   "metadata": {},
   "outputs": [],
   "source": [
    "# reference=pd.read_csv(\"1_outputs/base_histo.csv\",sep='\\t',compression='gzip',index_col='ID')\n",
    "# current=pd.read_csv(\"1_outputs/base_futur.csv\",sep='\\t',compression='gzip',index_col='ID')"
   ]
  },
  {
   "cell_type": "code",
   "execution_count": null,
   "metadata": {},
   "outputs": [],
   "source": [
    "reference_test=reference.sample(n=20000,axis=0,replace=False)\n",
    "current_test=current.sample(n=20000,axis=0,replace=False)"
   ]
  },
  {
   "cell_type": "code",
   "execution_count": null,
   "metadata": {},
   "outputs": [],
   "source": [
    "# mettre la distance hellinger sur AMT_INCOME_TOTAL car distribution possède outliers.\n",
    "# sauf si clip_quartiles appliqué à la base => iso-méthode par rapport à la base utilisée pour les modèles\n",
    "# 50 sec pour 10000 lignes et 100 colonnes\n",
    "# 10-12 sec pour toutes les lignes sur 15 colonnes info_base\n",
    "report = Report(metrics=[DataDriftPreset(drift_share=0.25)])\n",
    "report.run(reference_data=reference_test, current_data=current_test)"
   ]
  },
  {
   "cell_type": "code",
   "execution_count": null,
   "metadata": {},
   "outputs": [],
   "source": [
    "# report : 0 modif\n",
    "# report_1 : modif drift_share\n",
    "# report_2 : modif distance hellinger\n",
    "# report_3 : modif clip valeurs extrêmes\n",
    "# report_4 : sample 10k lignes, 100 var_lgbm, 1min 50 de calcul du rapport\n",
    "# report_5 : sample 20k lignes, 100 var_lgbm, 3min 40 de calcul du rapport\n",
    "\n",
    "report.save_html('1_outputs/report_5.html')"
   ]
  },
  {
   "cell_type": "code",
   "execution_count": null,
   "metadata": {},
   "outputs": [],
   "source": []
  },
  {
   "cell_type": "code",
   "execution_count": null,
   "metadata": {},
   "outputs": [],
   "source": []
  },
  {
   "cell_type": "code",
   "execution_count": null,
   "metadata": {},
   "outputs": [],
   "source": []
  },
  {
   "cell_type": "code",
   "execution_count": null,
   "metadata": {},
   "outputs": [],
   "source": []
  }
 ],
 "metadata": {
  "kernelspec": {
   "display_name": "base",
   "language": "python",
   "name": "python3"
  },
  "language_info": {
   "codemirror_mode": {
    "name": "ipython",
    "version": 3
   },
   "file_extension": ".py",
   "mimetype": "text/x-python",
   "name": "python",
   "nbconvert_exporter": "python",
   "pygments_lexer": "ipython3",
   "version": "3.11.7"
  },
  "orig_nbformat": 4
 },
 "nbformat": 4,
 "nbformat_minor": 2
}
